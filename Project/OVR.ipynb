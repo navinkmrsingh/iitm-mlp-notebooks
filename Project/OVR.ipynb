{
 "cells": [
  {
   "cell_type": "code",
   "execution_count": 1,
   "id": "c0bb3151",
   "metadata": {
    "ExecuteTime": {
     "end_time": "2022-08-23T18:07:03.191645Z",
     "start_time": "2022-08-23T18:07:01.002648Z"
    }
   },
   "outputs": [],
   "source": [
    "import numpy as np \n",
    "import pandas as pd \n",
    "\n",
    "import seaborn as sns\n",
    "import matplotlib.pyplot as plt\n",
    "import matplotlib.gridspec as gridspec\n",
    "\n",
    "from sklearn.ensemble import RandomForestClassifier\n",
    "from sklearn.linear_model import RidgeClassifier, LogisticRegression\n",
    "from sklearn.svm import SVC\n",
    "from sklearn.multiclass import OneVsRestClassifier, OneVsOneClassifier\n",
    "\n",
    "from sklearn.tree import DecisionTreeClassifier \n",
    "# from sklearn.pipeline import Pipeline\n",
    "from sklearn.preprocessing import StandardScaler, MinMaxScaler, PolynomialFeatures, LabelBinarizer\n",
    "from sklearn.model_selection import train_test_split, PredefinedSplit\n",
    "\n",
    "from sklearn.model_selection import RandomizedSearchCV, GridSearchCV\n",
    "# from sklearn.decomposition import PCA\n",
    "\n",
    "from sklearn.metrics import classification_report\n",
    "from sklearn.metrics import ConfusionMatrixDisplay\n",
    "from sklearn.metrics import f1_score\n",
    "\n",
    "from imblearn.over_sampling import SMOTE \n",
    "from imblearn.under_sampling import CondensedNearestNeighbour\n",
    "from imblearn.pipeline import Pipeline\n",
    "\n",
    "rs=42\n",
    "\n",
    "import warnings\n",
    "warnings.filterwarnings('ignore')"
   ]
  },
  {
   "cell_type": "code",
   "execution_count": 2,
   "id": "03ee2a81",
   "metadata": {
    "ExecuteTime": {
     "end_time": "2022-08-23T18:07:03.222647Z",
     "start_time": "2022-08-23T18:07:03.194650Z"
    }
   },
   "outputs": [],
   "source": [
    "def cap_outliers(df, tail=10):   \n",
    "    # tail is used to decide the upper and lower bound inside which the outliers are pushed\n",
    "    lb = tail   # lower bound\n",
    "    ub = 100 - tail   # upper bound\n",
    "    for col in df.columns:\n",
    "        if col != 'id' and col != 'label': \n",
    "            data = df[col]\n",
    "            tenth_percentile = np.percentile(data, lb)\n",
    "            ninetieth_percentile = np.percentile(data, ub)   \n",
    "            new = np.where(data < tenth_percentile, tenth_percentile, data)\n",
    "            new = np.where(new > ninetieth_percentile, ninetieth_percentile, new)\n",
    "            df[col] = new\n",
    "    return df   \n",
    "    \n",
    "\n",
    "def plot_data(df_train, title):\n",
    "    fig = plt.figure(figsize=(20, 15))\n",
    "    plt.title(title)\n",
    "    outer = gridspec.GridSpec(7, 6, wspace=0.5, hspace=0.6)\n",
    "    i = 0\n",
    "\n",
    "    for col in df_train.columns:\n",
    "        if col != 'id' and col != 'label':   \n",
    "            data = df_train[col]\n",
    "            inner = gridspec.GridSpecFromSubplotSpec(2, 1,  subplot_spec=outer[i], wspace=0.1, hspace=0.1, \n",
    "                                                     height_ratios=(.85, .15))\n",
    "            ax_box = plt.Subplot(fig, inner[1])\n",
    "            ax_hist = plt.Subplot(fig, inner[0])\n",
    "            sns.boxplot(data, ax=ax_box)\n",
    "            sns.distplot(data, ax=ax_hist)\n",
    "            ax_box.set(yticks=[])\n",
    "            ax_hist.set(xticks=[], xlabel=None)\n",
    "            sns.despine(ax=ax_hist)\n",
    "            sns.despine(ax=ax_box, left=True)\n",
    "\n",
    "            fig.add_subplot(ax_box)        \n",
    "            fig.add_subplot(ax_hist)\n",
    "            i+= 1    "
   ]
  },
  {
   "cell_type": "code",
   "execution_count": 3,
   "id": "dc5d05a7",
   "metadata": {
    "ExecuteTime": {
     "end_time": "2022-08-23T18:07:03.268646Z",
     "start_time": "2022-08-23T18:07:03.226649Z"
    }
   },
   "outputs": [
    {
     "data": {
      "text/plain": [
       "(3796, 43)"
      ]
     },
     "execution_count": 3,
     "metadata": {},
     "output_type": "execute_result"
    }
   ],
   "source": [
    "df_train = pd.read_csv('train.csv')\n",
    "df_train.shape"
   ]
  },
  {
   "cell_type": "code",
   "execution_count": 4,
   "id": "f589a345",
   "metadata": {
    "ExecuteTime": {
     "end_time": "2022-08-23T18:07:03.284647Z",
     "start_time": "2022-08-23T18:07:03.270649Z"
    }
   },
   "outputs": [
    {
     "name": "stdout",
     "output_type": "stream",
     "text": [
      "(3796, 43)\n"
     ]
    }
   ],
   "source": [
    "capping_cut_off = 15  \n",
    "# df_train = cap_outliers(df_train, capping_cut_off)\n",
    "print(df_train.shape)"
   ]
  },
  {
   "cell_type": "code",
   "execution_count": 5,
   "id": "e91cc801",
   "metadata": {
    "ExecuteTime": {
     "end_time": "2022-08-23T18:07:03.315648Z",
     "start_time": "2022-08-23T18:07:03.286649Z"
    }
   },
   "outputs": [
    {
     "data": {
      "text/plain": [
       "(3036, 41)"
      ]
     },
     "execution_count": 5,
     "metadata": {},
     "output_type": "execute_result"
    }
   ],
   "source": [
    "X, y = df_train.drop(axis=1, columns=['id', 'label']), df_train.label\n",
    "\n",
    "X_train, X_test, y_train, y_test = train_test_split(X, y, test_size=0.2, \n",
    "                                                    random_state=42\n",
    "                                                   )\n",
    "X_train.shape"
   ]
  },
  {
   "cell_type": "markdown",
   "id": "038257b0",
   "metadata": {},
   "source": [
    "# Custom OVR\n",
    "### 0 vs rest"
   ]
  },
  {
   "cell_type": "code",
   "execution_count": 6,
   "id": "dfb3e06e",
   "metadata": {
    "ExecuteTime": {
     "end_time": "2022-08-23T18:07:03.345649Z",
     "start_time": "2022-08-23T18:07:03.321654Z"
    }
   },
   "outputs": [
    {
     "data": {
      "text/plain": [
       "-1    2030\n",
       " 0    1006\n",
       "Name: label, dtype: int64"
      ]
     },
     "execution_count": 6,
     "metadata": {},
     "output_type": "execute_result"
    }
   ],
   "source": [
    "y0_train = y_train\n",
    "y0_train[y0_train != 0] = -1\n",
    "y0_train.value_counts()"
   ]
  },
  {
   "cell_type": "code",
   "execution_count": 7,
   "id": "62877b03",
   "metadata": {
    "ExecuteTime": {
     "end_time": "2022-08-23T18:07:03.425648Z",
     "start_time": "2022-08-23T18:07:03.349651Z"
    }
   },
   "outputs": [
    {
     "name": "stdout",
     "output_type": "stream",
     "text": [
      "186\n"
     ]
    }
   ],
   "source": [
    "svc = SVC(C=1, break_ties=False, degree=2, gamma='scale', kernel='poly', shrinking=True)\n",
    "\n",
    "pipe = Pipeline([   \n",
    "    ('sampling', SMOTE(sampling_strategy={-1:2100,  0:1600}, random_state=rs)),\n",
    "#     ('sampling', CondensedNearestNeighbour(random_state=42)),\n",
    "    ('classifier', RandomForestClassifier(svc)),    \n",
    "])\n",
    "\n",
    "alphas_clf = DecisionTreeClassifier()\n",
    "alphas = alphas_clf.cost_complexity_pruning_path(X_train, y_train)['ccp_alphas']\n",
    "print(len(alphas))\n",
    "\n",
    "# Hyper-parameters used for tunning\n",
    "params = {          \n",
    "    'classifier__n_estimators': [100], # default=100\n",
    "    'classifier__min_samples_split': [4, ],  # int or float, default=2\n",
    "    'classifier__min_samples_leaf': [1, ],  # int or float, default=1\n",
    "    'classifier__min_weight_fraction_leaf': [0, ], # float, default=0.0\n",
    "    'classifier__max_leaf_nodes': [None], # int, default=None\n",
    "    'classifier__max_samples': [0.1, 0.2, 0.3], # int or float, default=None\n",
    "    'classifier__ccp_alpha': alphas,\n",
    "    \n",
    "    'classifier__criterion': ['gini', 'entropy', 'log_loss'], \n",
    "     'classifier__max_features': ['sqrt', 'log2', None], \n",
    "    'classifier__bootstrap': [True,], \n",
    "    'classifier__oob_score': [True,], \n",
    "    'classifier__warm_start': [True, False], \n",
    "    'classifier__class_weight': ['balanced', 'balanced_subsample', None],        \n",
    "    'classifier__criterion': ['entropy',], \n",
    "    'classifier__n_jobs': [-1],\n",
    "}\n",
    "\n",
    "\n",
    "# Overriding above parameters with selected Hyper-parameters after tunning\n",
    "# Overriding to reduce runtime during submission\n",
    "params = {      \n",
    "    'classifier__n_estimators':  [100], \n",
    "    'classifier__min_samples_split': [2,],   # np.linspace(0.0, 1, 21), \n",
    "    'classifier__min_samples_leaf': [0.00015] ,  \n",
    "    'classifier__min_weight_fraction_leaf': [0.0,], \n",
    "    'classifier__max_leaf_nodes': [None],\n",
    "    'classifier__max_samples': [0.95] , \n",
    "#     'classifier__ccp_alpha': [0.0009881422924901185],\n",
    "    \n",
    "#     'classifier__criterion': ['gini', 'entropy', 'log_loss'], \n",
    "#     'classifier__max_features': ['sqrt', 'log2', None], \n",
    "    'classifier__bootstrap': [True,], \n",
    "    'classifier__oob_score': [True,], \n",
    "    'classifier__warm_start': [True, ], \n",
    "    'classifier__class_weight': ['balanced_subsample', ],        \n",
    "    'classifier__criterion': ['entropy',], \n",
    "    'classifier__n_jobs': [-1],\n",
    "}"
   ]
  },
  {
   "cell_type": "code",
   "execution_count": 8,
   "id": "c9ce965c",
   "metadata": {
    "ExecuteTime": {
     "end_time": "2022-08-23T18:07:13.548647Z",
     "start_time": "2022-08-23T18:07:03.431650Z"
    }
   },
   "outputs": [
    {
     "name": "stdout",
     "output_type": "stream",
     "text": [
      "Fitting 5 folds for each of 1 candidates, totalling 5 fits\n",
      "[CV 1/5; 1/1] START classifier__bootstrap=True, classifier__class_weight=balanced_subsample, classifier__criterion=entropy, classifier__max_leaf_nodes=None, classifier__max_samples=0.95, classifier__min_samples_leaf=0.00015, classifier__min_samples_split=2, classifier__min_weight_fraction_leaf=0.0, classifier__n_estimators=100, classifier__n_jobs=-1, classifier__oob_score=True, classifier__warm_start=True\n",
      "[CV 1/5; 1/1] END classifier__bootstrap=True, classifier__class_weight=balanced_subsample, classifier__criterion=entropy, classifier__max_leaf_nodes=None, classifier__max_samples=0.95, classifier__min_samples_leaf=0.00015, classifier__min_samples_split=2, classifier__min_weight_fraction_leaf=0.0, classifier__n_estimators=100, classifier__n_jobs=-1, classifier__oob_score=True, classifier__warm_start=True;, score=(train=1.000, test=0.850) total time=   5.7s\n",
      "[CV 2/5; 1/1] START classifier__bootstrap=True, classifier__class_weight=balanced_subsample, classifier__criterion=entropy, classifier__max_leaf_nodes=None, classifier__max_samples=0.95, classifier__min_samples_leaf=0.00015, classifier__min_samples_split=2, classifier__min_weight_fraction_leaf=0.0, classifier__n_estimators=100, classifier__n_jobs=-1, classifier__oob_score=True, classifier__warm_start=True\n",
      "[CV 2/5; 1/1] END classifier__bootstrap=True, classifier__class_weight=balanced_subsample, classifier__criterion=entropy, classifier__max_leaf_nodes=None, classifier__max_samples=0.95, classifier__min_samples_leaf=0.00015, classifier__min_samples_split=2, classifier__min_weight_fraction_leaf=0.0, classifier__n_estimators=100, classifier__n_jobs=-1, classifier__oob_score=True, classifier__warm_start=True;, score=(train=1.000, test=0.853) total time=   0.7s\n",
      "[CV 3/5; 1/1] START classifier__bootstrap=True, classifier__class_weight=balanced_subsample, classifier__criterion=entropy, classifier__max_leaf_nodes=None, classifier__max_samples=0.95, classifier__min_samples_leaf=0.00015, classifier__min_samples_split=2, classifier__min_weight_fraction_leaf=0.0, classifier__n_estimators=100, classifier__n_jobs=-1, classifier__oob_score=True, classifier__warm_start=True\n",
      "[CV 3/5; 1/1] END classifier__bootstrap=True, classifier__class_weight=balanced_subsample, classifier__criterion=entropy, classifier__max_leaf_nodes=None, classifier__max_samples=0.95, classifier__min_samples_leaf=0.00015, classifier__min_samples_split=2, classifier__min_weight_fraction_leaf=0.0, classifier__n_estimators=100, classifier__n_jobs=-1, classifier__oob_score=True, classifier__warm_start=True;, score=(train=1.000, test=0.847) total time=   0.7s\n",
      "[CV 4/5; 1/1] START classifier__bootstrap=True, classifier__class_weight=balanced_subsample, classifier__criterion=entropy, classifier__max_leaf_nodes=None, classifier__max_samples=0.95, classifier__min_samples_leaf=0.00015, classifier__min_samples_split=2, classifier__min_weight_fraction_leaf=0.0, classifier__n_estimators=100, classifier__n_jobs=-1, classifier__oob_score=True, classifier__warm_start=True\n",
      "[CV 4/5; 1/1] END classifier__bootstrap=True, classifier__class_weight=balanced_subsample, classifier__criterion=entropy, classifier__max_leaf_nodes=None, classifier__max_samples=0.95, classifier__min_samples_leaf=0.00015, classifier__min_samples_split=2, classifier__min_weight_fraction_leaf=0.0, classifier__n_estimators=100, classifier__n_jobs=-1, classifier__oob_score=True, classifier__warm_start=True;, score=(train=1.000, test=0.857) total time=   0.8s\n",
      "[CV 5/5; 1/1] START classifier__bootstrap=True, classifier__class_weight=balanced_subsample, classifier__criterion=entropy, classifier__max_leaf_nodes=None, classifier__max_samples=0.95, classifier__min_samples_leaf=0.00015, classifier__min_samples_split=2, classifier__min_weight_fraction_leaf=0.0, classifier__n_estimators=100, classifier__n_jobs=-1, classifier__oob_score=True, classifier__warm_start=True\n",
      "[CV 5/5; 1/1] END classifier__bootstrap=True, classifier__class_weight=balanced_subsample, classifier__criterion=entropy, classifier__max_leaf_nodes=None, classifier__max_samples=0.95, classifier__min_samples_leaf=0.00015, classifier__min_samples_split=2, classifier__min_weight_fraction_leaf=0.0, classifier__n_estimators=100, classifier__n_jobs=-1, classifier__oob_score=True, classifier__warm_start=True;, score=(train=1.000, test=0.832) total time=   0.7s\n",
      "CPU times: total: 5.44 s\n",
      "Wall time: 10.1 s\n"
     ]
    },
    {
     "data": {
      "text/plain": [
       "({'classifier__bootstrap': True,\n",
       "  'classifier__class_weight': 'balanced_subsample',\n",
       "  'classifier__criterion': 'entropy',\n",
       "  'classifier__max_leaf_nodes': None,\n",
       "  'classifier__max_samples': 0.95,\n",
       "  'classifier__min_samples_leaf': 0.00015,\n",
       "  'classifier__min_samples_split': 2,\n",
       "  'classifier__min_weight_fraction_leaf': 0.0,\n",
       "  'classifier__n_estimators': 100,\n",
       "  'classifier__n_jobs': -1,\n",
       "  'classifier__oob_score': True,\n",
       "  'classifier__warm_start': True},\n",
       " 0.8478252622908176)"
      ]
     },
     "execution_count": 8,
     "metadata": {},
     "output_type": "execute_result"
    }
   ],
   "source": [
    "%%time\n",
    "clf = GridSearchCV(pipe, params, cv=5, scoring='f1_micro', return_train_score=True, verbose=10, refit=True)\n",
    "search = clf.fit(X_train, y0_train)\n",
    "search.best_params_, search.best_score_"
   ]
  },
  {
   "cell_type": "code",
   "execution_count": 9,
   "id": "47662fab",
   "metadata": {
    "ExecuteTime": {
     "end_time": "2022-08-23T18:07:13.846648Z",
     "start_time": "2022-08-23T18:07:13.554649Z"
    }
   },
   "outputs": [
    {
     "data": {
      "image/png": "[encoded data removed]",
      "text/plain": [
       "<Figure size 432x288 with 1 Axes>"
      ]
     },
     "metadata": {
      "needs_background": "light"
     },
     "output_type": "display_data"
    },
    {
     "data": {
      "text/html": [
       "<div><div id=5f6ed3e5-d45e-4ce5-8465-5328069973bc style=\"display:none; background-color:#9D6CFF; color:white; width:200px; height:30px; padding-left:5px; border-radius:4px; flex-direction:row; justify-content:space-around; align-items:center;\" onmouseover=\"this.style.backgroundColor='#BA9BF8'\" onmouseout=\"this.style.backgroundColor='#9D6CFF'\" onclick=\"window.commands?.execute('create-mitosheet-from-dataframe-output');\">See Full Dataframe in Mito</div> <script> if (window.commands?.hasCommand('create-mitosheet-from-dataframe-output')) document.getElementById('5f6ed3e5-d45e-4ce5-8465-5328069973bc').style.display = 'flex' </script> <table border=\"1\" class=\"dataframe\">\n",
       "  <thead>\n",
       "    <tr style=\"text-align: right;\">\n",
       "      <th></th>\n",
       "      <th>classifier__min_samples_leaf</th>\n",
       "      <th>f1_score</th>\n",
       "    </tr>\n",
       "  </thead>\n",
       "  <tbody>\n",
       "    <tr>\n",
       "      <th>0</th>\n",
       "      <td>0.00015</td>\n",
       "      <td>0.847825</td>\n",
       "    </tr>\n",
       "  </tbody>\n",
       "</table></div>"
      ],
      "text/plain": [
       "   classifier__min_samples_leaf  f1_score\n",
       "0                       0.00015  0.847825"
      ]
     },
     "execution_count": 9,
     "metadata": {},
     "output_type": "execute_result"
    }
   ],
   "source": [
    "tunning_parameter = 'classifier__min_samples_leaf'\n",
    "\n",
    "test_scores = search.cv_results_['mean_test_score']\n",
    "train_scores = search.cv_results_['mean_train_score'] \n",
    "\n",
    "support = search.cv_results_['param_'+tunning_parameter].compressed().astype(np.float)\n",
    "# support = np.log10(np.array(support))\n",
    "\n",
    "plt.rcParams[\"figure.figsize\"] = (20,5)\n",
    "plt.plot(support, test_scores, label='test')\n",
    "plt.plot(support, train_scores, label='train')\n",
    "plt.xlabel(tunning_parameter)\n",
    "plt.ylabel('f1_score')\n",
    "plt.legend(loc='best')\n",
    "plt.show()\n",
    "\n",
    "result_df = pd.DataFrame(list(zip(support, test_scores)),columns=[tunning_parameter, 'f1_score'])\n",
    "result_df"
   ]
  },
  {
   "cell_type": "code",
   "execution_count": 10,
   "id": "a8efd2c5",
   "metadata": {
    "ExecuteTime": {
     "end_time": "2022-08-23T18:07:14.254650Z",
     "start_time": "2022-08-23T18:07:13.850647Z"
    }
   },
   "outputs": [
    {
     "data": {
      "text/plain": [
       "<sklearn.metrics._plot.confusion_matrix.ConfusionMatrixDisplay at 0x19e47b114f0>"
      ]
     },
     "execution_count": 10,
     "metadata": {},
     "output_type": "execute_result"
    },
    {
     "data": {
      "image/png": "[encoded data removed]",
      "text/plain": [
       "<Figure size 432x288 with 2 Axes>"
      ]
     },
     "metadata": {
      "needs_background": "light"
     },
     "output_type": "display_data"
    }
   ],
   "source": [
    "y_train_pred = clf.predict(X_train)\n",
    "ConfusionMatrixDisplay.from_predictions(y0_train, y_train_pred)"
   ]
  },
  {
   "cell_type": "code",
   "execution_count": 11,
   "id": "d9bafc2f",
   "metadata": {
    "ExecuteTime": {
     "end_time": "2022-08-23T18:07:14.285644Z",
     "start_time": "2022-08-23T18:07:14.260647Z"
    }
   },
   "outputs": [
    {
     "name": "stdout",
     "output_type": "stream",
     "text": [
      "              precision    recall  f1-score   support\n",
      "\n",
      "          -1       1.00      1.00      1.00      2030\n",
      "           0       1.00      1.00      1.00      1006\n",
      "\n",
      "    accuracy                           1.00      3036\n",
      "   macro avg       1.00      1.00      1.00      3036\n",
      "weighted avg       1.00      1.00      1.00      3036\n",
      "\n"
     ]
    }
   ],
   "source": [
    "print(classification_report(y0_train, y_train_pred))"
   ]
  },
  {
   "cell_type": "code",
   "execution_count": 12,
   "id": "77687feb",
   "metadata": {
    "ExecuteTime": {
     "end_time": "2022-08-23T18:07:14.317646Z",
     "start_time": "2022-08-23T18:07:14.293650Z"
    }
   },
   "outputs": [
    {
     "data": {
      "text/plain": [
       "1.0"
      ]
     },
     "execution_count": 12,
     "metadata": {},
     "output_type": "execute_result"
    }
   ],
   "source": [
    "f1_score(y0_train, y_train_pred, average='micro')"
   ]
  },
  {
   "cell_type": "code",
   "execution_count": 14,
   "id": "7adfc22a",
   "metadata": {
    "ExecuteTime": {
     "end_time": "2022-08-23T18:07:26.588456Z",
     "start_time": "2022-08-23T18:07:26.568456Z"
    }
   },
   "outputs": [
    {
     "data": {
      "text/plain": [
       "-1    523\n",
       " 0    237\n",
       "Name: label, dtype: int64"
      ]
     },
     "execution_count": 14,
     "metadata": {},
     "output_type": "execute_result"
    }
   ],
   "source": [
    "y0_test = y_test\n",
    "y0_test[y0_test != 0] = -1\n",
    "y0_test.value_counts()"
   ]
  },
  {
   "cell_type": "code",
   "execution_count": 15,
   "id": "8530efc4",
   "metadata": {
    "ExecuteTime": {
     "end_time": "2022-08-23T18:07:27.251457Z",
     "start_time": "2022-08-23T18:07:27.195457Z"
    }
   },
   "outputs": [
    {
     "data": {
      "text/plain": [
       "0.85"
      ]
     },
     "execution_count": 15,
     "metadata": {},
     "output_type": "execute_result"
    }
   ],
   "source": [
    "y_test_pred = clf.predict(X_test)\n",
    "f1_score(y0_test, y_test_pred, average='micro')"
   ]
  },
  {
   "cell_type": "code",
   "execution_count": 16,
   "id": "8f63ceb2",
   "metadata": {
    "ExecuteTime": {
     "end_time": "2022-08-23T18:07:28.466749Z",
     "start_time": "2022-08-23T18:07:28.275749Z"
    }
   },
   "outputs": [
    {
     "data": {
      "text/plain": [
       "<sklearn.metrics._plot.confusion_matrix.ConfusionMatrixDisplay at 0x19e4e619910>"
      ]
     },
     "execution_count": 16,
     "metadata": {},
     "output_type": "execute_result"
    },
    {
     "data": {
      "image/png": "[encoded data removed]",
      "text/plain": [
       "<Figure size 432x288 with 2 Axes>"
      ]
     },
     "metadata": {
      "needs_background": "light"
     },
     "output_type": "display_data"
    }
   ],
   "source": [
    "ConfusionMatrixDisplay.from_predictions(y0_test, y_test_pred)"
   ]
  },
  {
   "cell_type": "code",
   "execution_count": 17,
   "id": "066540f3",
   "metadata": {
    "ExecuteTime": {
     "end_time": "2022-08-23T18:07:28.782752Z",
     "start_time": "2022-08-23T18:07:28.759747Z"
    }
   },
   "outputs": [
    {
     "name": "stdout",
     "output_type": "stream",
     "text": [
      "              precision    recall  f1-score   support\n",
      "\n",
      "          -1       0.86      0.93      0.90       523\n",
      "           0       0.82      0.67      0.74       237\n",
      "\n",
      "    accuracy                           0.85       760\n",
      "   macro avg       0.84      0.80      0.82       760\n",
      "weighted avg       0.85      0.85      0.85       760\n",
      "\n"
     ]
    }
   ],
   "source": [
    "print(classification_report(y0_test, y_test_pred))"
   ]
  },
  {
   "cell_type": "code",
   "execution_count": null,
   "id": "a519593f",
   "metadata": {},
   "outputs": [],
   "source": []
  },
  {
   "cell_type": "code",
   "execution_count": null,
   "id": "4c5d01bb",
   "metadata": {},
   "outputs": [],
   "source": []
  }
 ],
 "metadata": {
  "kernelspec": {
   "display_name": "Python 3 (ipykernel)",
   "language": "python",
   "name": "python3"
  },
  "language_info": {
   "codemirror_mode": {
    "name": "ipython",
    "version": 3
   },
   "file_extension": ".py",
   "mimetype": "text/x-python",
   "name": "python",
   "nbconvert_exporter": "python",
   "pygments_lexer": "ipython3",
   "version": "3.9.7"
  }
 },
 "nbformat": 4,
 "nbformat_minor": 5
}
