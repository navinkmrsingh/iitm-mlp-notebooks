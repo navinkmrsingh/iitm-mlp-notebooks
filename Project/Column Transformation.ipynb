{
 "cells": [
  {
   "cell_type": "code",
   "execution_count": 12,
   "id": "663b80f0",
   "metadata": {
    "ExecuteTime": {
     "end_time": "2022-08-24T17:32:26.442794Z",
     "start_time": "2022-08-24T17:32:26.427795Z"
    }
   },
   "outputs": [],
   "source": [
    "import pandas as pd\n",
    "\n",
    "from sklearn.compose import ColumnTransformer\n",
    "from sklearn.preprocessing import OneHotEncoder, OrdinalEncoder\n",
    "\n",
    "from sklearn.model_selection import train_test_split"
   ]
  },
  {
   "cell_type": "code",
   "execution_count": 5,
   "id": "1d22d61c",
   "metadata": {
    "ExecuteTime": {
     "end_time": "2022-08-24T17:18:21.055635Z",
     "start_time": "2022-08-24T17:18:21.029608Z"
    }
   },
   "outputs": [
    {
     "data": {
      "text/plain": [
       "(3796, 43)"
      ]
     },
     "execution_count": 5,
     "metadata": {},
     "output_type": "execute_result"
    }
   ],
   "source": [
    "df_train = pd.read_csv('train.csv')\n",
    "df_train.shape"
   ]
  },
  {
   "cell_type": "code",
   "execution_count": 6,
   "id": "75f4ed3d",
   "metadata": {
    "ExecuteTime": {
     "end_time": "2022-08-24T17:18:21.228631Z",
     "start_time": "2022-08-24T17:18:21.204536Z"
    }
   },
   "outputs": [
    {
     "data": {
      "text/plain": [
       "(3036, 41)"
      ]
     },
     "execution_count": 6,
     "metadata": {},
     "output_type": "execute_result"
    }
   ],
   "source": [
    "X, y = df_train.drop(axis=1, columns=['id', 'label']), df_train.label\n",
    "\n",
    "X_train, X_test, y_train, y_test = train_test_split(X, y, test_size=0.2, \n",
    "                                                    random_state=42\n",
    "                                                   )\n",
    "X_train.shape"
   ]
  },
  {
   "cell_type": "code",
   "execution_count": 7,
   "id": "c6b39781",
   "metadata": {
    "ExecuteTime": {
     "end_time": "2022-08-24T17:18:39.903080Z",
     "start_time": "2022-08-24T17:18:39.886056Z"
    }
   },
   "outputs": [],
   "source": [
    "binary_cols = [\"v_1\", \"v_26\", \"v_11\", \"v_14\", \"v_30\",  \"v_28\",  \"v_9\",  \"v_27\", ]\n",
    "nominal_cols = [\"v_32\",  \"v_4\", \"v_3\", \"v_20\", \"v_21\", \"v_18\", \"v_25\", \"v_12\",  ]\n",
    "ordinal_cols = [\"v_31\", \"v_15\", \"v_19\", \"v_13\", \"v_33\", \"v_17\", \"v_29\", \"v_23\", \"v_6\",  \"v_24\",  \"v_10\",  \"v_5\", \"v_22\",  \"v_0\", ]\n",
    "ratio_cols = [\"v_16\",  \"v_2\",  \"v_8\",  \"v_7\",  \"v_34\",  \"v_35\",  \"v_36\",  \"v_37\",  \"v_38\",  \"v_39\",  \"v_40\", ]"
   ]
  },
  {
   "cell_type": "code",
   "execution_count": 30,
   "id": "5d82e7f8",
   "metadata": {
    "ExecuteTime": {
     "end_time": "2022-08-25T07:05:59.243215Z",
     "start_time": "2022-08-25T07:05:59.196185Z"
    }
   },
   "outputs": [
    {
     "data": {
      "text/plain": [
       "array([[0.0, 1.0, 0.0, 0.0, 'cat'],\n",
       "       [0.0, 0.0, 1.0, 0.0, 'dog'],\n",
       "       [0.0, 0.0, 0.0, 1.0, 'dog'],\n",
       "       [1.0, 0.0, 0.0, 0.0, 'cat']], dtype=object)"
      ]
     },
     "execution_count": 30,
     "metadata": {},
     "output_type": "execute_result"
    }
   ],
   "source": [
    "X = [\n",
    "    ['cat', 'cat'],\n",
    "    ['dog', 'guava'],\n",
    "    ['dog', 'peach'],\n",
    "    ['cat', 'apple'],\n",
    "]\n",
    "\n",
    "\n",
    "ct = ColumnTransformer([\n",
    "    (\"oneHot\", OneHotEncoder(), [1, ]),\n",
    "#     (\"ordinal\", OrdinalEncoder(), [0, ]),       \n",
    "], remainder='passthrough')\n",
    "    \n",
    "ct.fit_transform(X)    "
   ]
  },
  {
   "cell_type": "code",
   "execution_count": 31,
   "id": "83d6ab5c",
   "metadata": {
    "ExecuteTime": {
     "end_time": "2022-08-25T07:06:02.223705Z",
     "start_time": "2022-08-25T07:06:02.191726Z"
    }
   },
   "outputs": [
    {
     "data": {
      "text/html": [
       "<div><div id=42fdb440-8f34-40d6-8fda-6d3e3c359828 style=\"display:none; background-color:#9D6CFF; color:white; width:200px; height:30px; padding-left:5px; border-radius:4px; flex-direction:row; justify-content:space-around; align-items:center;\" onmouseover=\"this.style.backgroundColor='#BA9BF8'\" onmouseout=\"this.style.backgroundColor='#9D6CFF'\" onclick=\"window.commands?.execute('create-mitosheet-from-dataframe-output');\">See Full Dataframe in Mito</div> <script> if (window.commands?.hasCommand('create-mitosheet-from-dataframe-output')) document.getElementById('42fdb440-8f34-40d6-8fda-6d3e3c359828').style.display = 'flex' </script> <table border=\"1\" class=\"dataframe\">\n",
       "  <thead>\n",
       "    <tr style=\"text-align: right;\">\n",
       "      <th></th>\n",
       "      <th>anis</th>\n",
       "      <th>frts</th>\n",
       "    </tr>\n",
       "  </thead>\n",
       "  <tbody>\n",
       "    <tr>\n",
       "      <th>0</th>\n",
       "      <td>cat</td>\n",
       "      <td>cat</td>\n",
       "    </tr>\n",
       "    <tr>\n",
       "      <th>1</th>\n",
       "      <td>dog</td>\n",
       "      <td>guava</td>\n",
       "    </tr>\n",
       "    <tr>\n",
       "      <th>2</th>\n",
       "      <td>dog</td>\n",
       "      <td>peach</td>\n",
       "    </tr>\n",
       "    <tr>\n",
       "      <th>3</th>\n",
       "      <td>cat</td>\n",
       "      <td>apple</td>\n",
       "    </tr>\n",
       "  </tbody>\n",
       "</table></div>"
      ],
      "text/plain": [
       "  anis   frts\n",
       "0  cat    cat\n",
       "1  dog  guava\n",
       "2  dog  peach\n",
       "3  cat  apple"
      ]
     },
     "execution_count": 31,
     "metadata": {},
     "output_type": "execute_result"
    }
   ],
   "source": [
    "df = pd.DataFrame(X, columns=['anis', 'frts'])\n",
    "df"
   ]
  },
  {
   "cell_type": "code",
   "execution_count": 33,
   "id": "4f2ef9e9",
   "metadata": {
    "ExecuteTime": {
     "end_time": "2022-08-25T07:06:35.802454Z",
     "start_time": "2022-08-25T07:06:35.778428Z"
    }
   },
   "outputs": [
    {
     "data": {
      "text/html": [
       "<div><div id=9df43e60-aa4c-4a22-b0b8-ba994f377d4f style=\"display:none; background-color:#9D6CFF; color:white; width:200px; height:30px; padding-left:5px; border-radius:4px; flex-direction:row; justify-content:space-around; align-items:center;\" onmouseover=\"this.style.backgroundColor='#BA9BF8'\" onmouseout=\"this.style.backgroundColor='#9D6CFF'\" onclick=\"window.commands?.execute('create-mitosheet-from-dataframe-output');\">See Full Dataframe in Mito</div> <script> if (window.commands?.hasCommand('create-mitosheet-from-dataframe-output')) document.getElementById('9df43e60-aa4c-4a22-b0b8-ba994f377d4f').style.display = 'flex' </script> <table border=\"1\" class=\"dataframe\">\n",
       "  <thead>\n",
       "    <tr style=\"text-align: right;\">\n",
       "      <th></th>\n",
       "      <th>anis_cat</th>\n",
       "      <th>anis_dog</th>\n",
       "      <th>frts_apple</th>\n",
       "      <th>frts_cat</th>\n",
       "      <th>frts_guava</th>\n",
       "      <th>frts_peach</th>\n",
       "    </tr>\n",
       "  </thead>\n",
       "  <tbody>\n",
       "    <tr>\n",
       "      <th>0</th>\n",
       "      <td>1</td>\n",
       "      <td>0</td>\n",
       "      <td>0</td>\n",
       "      <td>1</td>\n",
       "      <td>0</td>\n",
       "      <td>0</td>\n",
       "    </tr>\n",
       "    <tr>\n",
       "      <th>1</th>\n",
       "      <td>0</td>\n",
       "      <td>1</td>\n",
       "      <td>0</td>\n",
       "      <td>0</td>\n",
       "      <td>1</td>\n",
       "      <td>0</td>\n",
       "    </tr>\n",
       "    <tr>\n",
       "      <th>2</th>\n",
       "      <td>0</td>\n",
       "      <td>1</td>\n",
       "      <td>0</td>\n",
       "      <td>0</td>\n",
       "      <td>0</td>\n",
       "      <td>1</td>\n",
       "    </tr>\n",
       "    <tr>\n",
       "      <th>3</th>\n",
       "      <td>1</td>\n",
       "      <td>0</td>\n",
       "      <td>1</td>\n",
       "      <td>0</td>\n",
       "      <td>0</td>\n",
       "      <td>0</td>\n",
       "    </tr>\n",
       "  </tbody>\n",
       "</table></div>"
      ],
      "text/plain": [
       "   anis_cat  anis_dog  frts_apple  frts_cat  frts_guava  frts_peach\n",
       "0         1         0           0         1           0           0\n",
       "1         0         1           0         0           1           0\n",
       "2         0         1           0         0           0           1\n",
       "3         1         0           1         0           0           0"
      ]
     },
     "execution_count": 33,
     "metadata": {},
     "output_type": "execute_result"
    }
   ],
   "source": [
    "pd.get_dummies(df[['anis', 'frts']], drop_first=False)"
   ]
  },
  {
   "cell_type": "code",
   "execution_count": null,
   "id": "b4acab17",
   "metadata": {
    "ExecuteTime": {
     "end_time": "2022-08-24T18:57:01.337206Z",
     "start_time": "2022-08-24T18:57:00.901234Z"
    }
   },
   "outputs": [],
   "source": []
  },
  {
   "cell_type": "code",
   "execution_count": null,
   "id": "05fb45cc",
   "metadata": {},
   "outputs": [],
   "source": []
  }
 ],
 "metadata": {
  "kernelspec": {
   "display_name": "Python 3 (ipykernel)",
   "language": "python",
   "name": "python3"
  },
  "language_info": {
   "codemirror_mode": {
    "name": "ipython",
    "version": 3
   },
   "file_extension": ".py",
   "mimetype": "text/x-python",
   "name": "python",
   "nbconvert_exporter": "python",
   "pygments_lexer": "ipython3",
   "version": "3.9.13"
  }
 },
 "nbformat": 4,
 "nbformat_minor": 5
}
