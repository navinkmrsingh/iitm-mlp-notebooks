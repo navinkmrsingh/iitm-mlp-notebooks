{
 "cells": [
  {
   "cell_type": "markdown",
   "id": "89ba2aa7",
   "metadata": {},
   "source": [
    "# Practice Assignments"
   ]
  },
  {
   "cell_type": "code",
   "execution_count": 152,
   "id": "88e35f34",
   "metadata": {
    "ExecuteTime": {
     "end_time": "2022-06-18T07:49:29.100349Z",
     "start_time": "2022-06-18T07:49:29.094370Z"
    }
   },
   "outputs": [],
   "source": [
    "import numpy as np\n",
    "import pprint\n",
    "\n",
    "import warnings\n",
    "warnings.filterwarnings('ignore')"
   ]
  },
  {
   "cell_type": "code",
   "execution_count": 1,
   "id": "c13d0d55",
   "metadata": {
    "ExecuteTime": {
     "end_time": "2022-06-17T11:13:24.713814Z",
     "start_time": "2022-06-17T11:13:24.697814Z"
    }
   },
   "outputs": [],
   "source": [
    "# (Common data for 1,2,3)\n",
    "text_data=['A metaverse is a network of 3D virtual worlds focused on social connection.',\n",
    "           'In futurism and science fiction, the term is often described as a hypothetical iteration of the Internet as a single', \n",
    "           'universal virtual world that is facilitated by the use of virtual and augmented reality headsets.',\n",
    "           'The term \"metaverse\" has its origins  the 1992 science fiction novel Snow Crash as a portmanteau of \"meta\" and \"universe.\"',\n",
    "           'Various metaverses have been developed for popular use such as virtual world platforms like Second Life.',\n",
    "           'Some metaverse iterations involve integration between virtual and physical spaces and virtual economies',\n",
    "           'often including a significant interest in advancing virtual reality technology.', \n",
    "           'The term has seen considerable use as a buzzword for public relations purposes to exaggerate development progress for various related technologies and projects.[10] Information privacy and user addiction are concerns within metaverses',\n",
    "           'stemming from challenges facing the social media and video game industries as a whole.']"
   ]
  },
  {
   "cell_type": "markdown",
   "id": "948e3674",
   "metadata": {},
   "source": [
    "## Q1"
   ]
  },
  {
   "cell_type": "code",
   "execution_count": 3,
   "id": "6479b8bf",
   "metadata": {
    "ExecuteTime": {
     "end_time": "2022-06-17T11:15:38.651556Z",
     "start_time": "2022-06-17T11:15:38.622555Z"
    }
   },
   "outputs": [
    {
     "data": {
      "text/plain": [
       "(9, 99)"
      ]
     },
     "execution_count": 3,
     "metadata": {},
     "output_type": "execute_result"
    }
   ],
   "source": [
    "from sklearn.feature_extraction.text import CountVectorizer\n",
    "c_vectorizer = CountVectorizer()\n",
    "X_c = c_vectorizer.fit_transform(text_data)\n",
    "\n",
    "X_c.shape"
   ]
  },
  {
   "cell_type": "markdown",
   "id": "1bc83af0",
   "metadata": {
    "ExecuteTime": {
     "end_time": "2022-06-17T12:12:50.983900Z",
     "start_time": "2022-06-17T12:12:50.962928Z"
    }
   },
   "source": [
    "## Q2"
   ]
  },
  {
   "cell_type": "code",
   "execution_count": 44,
   "id": "69480dfd",
   "metadata": {
    "ExecuteTime": {
     "end_time": "2022-06-17T12:17:15.840155Z",
     "start_time": "2022-06-17T12:17:15.826157Z"
    }
   },
   "outputs": [
    {
     "data": {
      "text/plain": [
       "(9, 20)"
      ]
     },
     "execution_count": 44,
     "metadata": {},
     "output_type": "execute_result"
    }
   ],
   "source": [
    "c_vectorizer2 = CountVectorizer(min_df=2)\n",
    "X_c2 = c_vectorizer2.fit_transform(text_data)\n",
    "\n",
    "X_c2.shape"
   ]
  },
  {
   "cell_type": "markdown",
   "id": "840436ed",
   "metadata": {},
   "source": [
    "## Q3"
   ]
  },
  {
   "cell_type": "code",
   "execution_count": 47,
   "id": "18373111",
   "metadata": {
    "ExecuteTime": {
     "end_time": "2022-06-17T12:19:00.662530Z",
     "start_time": "2022-06-17T12:19:00.648529Z"
    }
   },
   "outputs": [
    {
     "data": {
      "text/plain": [
       "{'metaverse': 51, 'is': 43, 'network': 53, 'of': 55, '3d': 2, 'virtual': 94, 'worlds': 98, 'focused': 26, 'on': 57, 'social': 77, 'connection': 15, 'in': 35, 'futurism': 29, 'and': 5, 'science': 71, 'fiction': 25, 'the': 86, 'term': 84, 'often': 56, 'described': 18, 'as': 7, 'hypothetical': 34, 'iteration': 44, 'internet': 41, 'single': 75, 'universal': 88, 'world': 97, 'that': 85, 'facilitated': 23, 'by': 12, 'use': 90, 'augmented': 8, 'reality': 68, 'headsets': 33, 'has': 31, 'its': 46, 'origins': 58, '1992': 1, 'novel': 54, 'snow': 76, 'crash': 17, 'portmanteau': 62, 'meta': 50, 'universe': 89, 'various': 92, 'metaverses': 52, 'have': 32, 'been': 9, 'developed': 19, 'for': 27, 'popular': 61, 'such': 81, 'platforms': 60, 'like': 48, 'second': 72, 'life': 47, 'some': 78, 'iterations': 45, 'involve': 42, 'integration': 39, 'between': 10, 'physical': 59, 'spaces': 79, 'economies': 21, 'including': 36, 'significant': 74, 'interest': 40, 'advancing': 4, 'technology': 83, 'seen': 73, 'considerable': 16, 'buzzword': 11, 'public': 66, 'relations': 70, 'purposes': 67, 'to': 87, 'exaggerate': 22, 'development': 20, 'progress': 64, 'related': 69, 'technologies': 82, 'projects': 65, '10': 0, 'information': 38, 'privacy': 63, 'user': 91, 'addiction': 3, 'are': 6, 'concerns': 14, 'within': 96, 'stemming': 80, 'from': 28, 'challenges': 13, 'facing': 24, 'media': 49, 'video': 93, 'game': 30, 'industries': 37, 'whole': 95}"
      ]
     },
     "execution_count": 47,
     "metadata": {},
     "output_type": "execute_result"
    }
   ],
   "source": [
    "c_vectorizer.vocabulary_"
   ]
  },
  {
   "cell_type": "code",
   "execution_count": 48,
   "id": "f32fc982",
   "metadata": {
    "ExecuteTime": {
     "end_time": "2022-06-17T12:19:01.196527Z",
     "start_time": "2022-06-17T12:19:01.187531Z"
    }
   },
   "outputs": [
    {
     "data": {
      "text/plain": [
       "{'metaverse': 7, 'is': 6, 'of': 9, 'virtual': 18, 'social': 13, 'in': 5, 'and': 0, 'science': 12, 'fiction': 2, 'the': 15, 'term': 14, 'often': 10, 'as': 1, 'world': 19, 'use': 16, 'reality': 11, 'has': 4, 'various': 17, 'metaverses': 8, 'for': 3}"
      ]
     },
     "execution_count": 48,
     "metadata": {},
     "output_type": "execute_result"
    }
   ],
   "source": [
    "c_vectorizer2.vocabulary_"
   ]
  },
  {
   "cell_type": "markdown",
   "id": "2f01229f",
   "metadata": {},
   "source": [
    "## Q4"
   ]
  },
  {
   "cell_type": "code",
   "execution_count": 49,
   "id": "ea84068f",
   "metadata": {
    "ExecuteTime": {
     "end_time": "2022-06-17T12:23:59.299634Z",
     "start_time": "2022-06-17T12:23:59.279610Z"
    }
   },
   "outputs": [
    {
     "data": {
      "text/plain": [
       "(3, 10)"
      ]
     },
     "execution_count": 49,
     "metadata": {},
     "output_type": "execute_result"
    }
   ],
   "source": [
    "docs = ['This is the first question.', 'This document is the second document.', 'And this is the third one' ]\n",
    "\n",
    "c_vectorizer3 = CountVectorizer()\n",
    "X_c3 = c_vectorizer3.fit_transform(docs)\n",
    "\n",
    "X_c3.shape"
   ]
  },
  {
   "cell_type": "code",
   "execution_count": 50,
   "id": "a8e28130",
   "metadata": {
    "ExecuteTime": {
     "end_time": "2022-06-17T12:24:17.061859Z",
     "start_time": "2022-06-17T12:24:17.050882Z"
    }
   },
   "outputs": [
    {
     "data": {
      "text/plain": [
       "array([[0, 0, 1, 1, 0, 1, 0, 1, 0, 1],\n",
       "       [0, 2, 0, 1, 0, 0, 1, 1, 0, 1],\n",
       "       [1, 0, 0, 1, 1, 0, 0, 1, 1, 1]], dtype=int64)"
      ]
     },
     "execution_count": 50,
     "metadata": {},
     "output_type": "execute_result"
    }
   ],
   "source": [
    "X_c3.toarray()"
   ]
  },
  {
   "cell_type": "code",
   "execution_count": 51,
   "id": "9e1b5475",
   "metadata": {
    "ExecuteTime": {
     "end_time": "2022-06-17T12:25:29.147996Z",
     "start_time": "2022-06-17T12:25:29.138971Z"
    }
   },
   "outputs": [
    {
     "data": {
      "text/plain": [
       "{'this': 9, 'is': 3, 'the': 7, 'first': 2, 'question': 5, 'document': 1, 'second': 6, 'and': 0, 'third': 8, 'one': 4}"
      ]
     },
     "execution_count": 51,
     "metadata": {},
     "output_type": "execute_result"
    }
   ],
   "source": [
    "c_vectorizer3.vocabulary_"
   ]
  },
  {
   "cell_type": "markdown",
   "id": "9de18547",
   "metadata": {},
   "source": [
    "## Q5"
   ]
  },
  {
   "cell_type": "code",
   "execution_count": 52,
   "id": "31924bca",
   "metadata": {
    "ExecuteTime": {
     "end_time": "2022-06-17T12:35:00.936988Z",
     "start_time": "2022-06-17T12:35:00.915960Z"
    }
   },
   "outputs": [
    {
     "data": {
      "text/plain": [
       "(array([[2]], dtype=int64), array([[[20, 47, 88]]]))"
      ]
     },
     "execution_count": 52,
     "metadata": {},
     "output_type": "execute_result"
    }
   ],
   "source": [
    "X = np.asarray([[72, 69 ,82], [ 9 ,79, 99], [20 ,47, 88], [80 ,64, 49]]) \n",
    "p= np.asarray([[0,0,0]]) \n",
    "k=1 \n",
    "\n",
    "def k_closest(X, p, k):\n",
    "    from sklearn.neighbors import NearestNeighbors\n",
    "    nbrs = NearestNeighbors(n_neighbors=k).fit(X)\n",
    "    dist, indx = nbrs.kneighbors(p)\n",
    "    return indx, X[indx]\n",
    "\n",
    "k_closest(X, p, k)"
   ]
  },
  {
   "cell_type": "markdown",
   "id": "f0bd1bf6",
   "metadata": {},
   "source": [
    "## Q6"
   ]
  },
  {
   "cell_type": "code",
   "execution_count": 71,
   "id": "86b14a96",
   "metadata": {
    "ExecuteTime": {
     "end_time": "2022-06-17T12:55:51.449841Z",
     "start_time": "2022-06-17T12:55:51.426869Z"
    }
   },
   "outputs": [
    {
     "data": {
      "text/plain": [
       "array([0., 2., 2.])"
      ]
     },
     "execution_count": 71,
     "metadata": {},
     "output_type": "execute_result"
    }
   ],
   "source": [
    "X0 = np.array([1,0,0,0]) \n",
    "X= np.asarray([[1, 0, 0,0], [0, 1, 1,1], [1,2,0,0]])\n",
    "p= 2 \n",
    "\n",
    "def distance(X0, X, p):\n",
    "    X00 = np.ones((len(X), len(X[0]))) * X0\n",
    "    d = np.sum(np.power(np.abs(X-X00), p), axis=1)\n",
    "    return np.power(d, 1/p)\n",
    "\n",
    "distance(X0, X, p)"
   ]
  },
  {
   "cell_type": "markdown",
   "id": "874ab76d",
   "metadata": {},
   "source": [
    "## Q7 to 11"
   ]
  },
  {
   "cell_type": "code",
   "execution_count": 91,
   "id": "03c2b42a",
   "metadata": {
    "ExecuteTime": {
     "end_time": "2022-06-17T14:59:23.867234Z",
     "start_time": "2022-06-17T14:59:23.765985Z"
    }
   },
   "outputs": [],
   "source": [
    "from sklearn.datasets import load_digits\n",
    "from sklearn.model_selection import train_test_split\n",
    "from sklearn.preprocessing import StandardScaler\n",
    "from sklearn.linear_model import LogisticRegression\n",
    "from sklearn.pipeline import make_pipeline\n",
    "from sklearn.metrics import accuracy_score, f1_score\n",
    "\n",
    "X, y = load_digits(return_X_y=True)\n",
    "X_train, X_test, y_train, y_test = train_test_split(X, y, test_size=0.2, random_state=10)"
   ]
  },
  {
   "cell_type": "markdown",
   "id": "da9ea744",
   "metadata": {},
   "source": [
    "## Q7"
   ]
  },
  {
   "cell_type": "code",
   "execution_count": 78,
   "id": "0ca7bdd9",
   "metadata": {
    "ExecuteTime": {
     "end_time": "2022-06-17T13:00:27.354335Z",
     "start_time": "2022-06-17T13:00:27.339342Z"
    }
   },
   "outputs": [
    {
     "data": {
      "text/plain": [
       "(1797, 64)"
      ]
     },
     "execution_count": 78,
     "metadata": {},
     "output_type": "execute_result"
    }
   ],
   "source": [
    "X.shape"
   ]
  },
  {
   "cell_type": "markdown",
   "id": "4ab8a639",
   "metadata": {},
   "source": [
    "## Q8"
   ]
  },
  {
   "cell_type": "code",
   "execution_count": 79,
   "id": "0fad8b25",
   "metadata": {
    "ExecuteTime": {
     "end_time": "2022-06-17T13:00:55.722907Z",
     "start_time": "2022-06-17T13:00:55.714908Z"
    }
   },
   "outputs": [
    {
     "data": {
      "text/plain": [
       "array([0, 1, 2, 3, 4, 5, 6, 7, 8, 9])"
      ]
     },
     "execution_count": 79,
     "metadata": {},
     "output_type": "execute_result"
    }
   ],
   "source": [
    "np.unique(y)"
   ]
  },
  {
   "cell_type": "markdown",
   "id": "424cc338",
   "metadata": {},
   "source": [
    "## Q9"
   ]
  },
  {
   "cell_type": "code",
   "execution_count": 83,
   "id": "a900bd2f",
   "metadata": {
    "ExecuteTime": {
     "end_time": "2022-06-17T14:53:23.531083Z",
     "start_time": "2022-06-17T14:53:23.518082Z"
    }
   },
   "outputs": [
    {
     "data": {
      "text/plain": [
       "179"
      ]
     },
     "execution_count": 83,
     "metadata": {},
     "output_type": "execute_result"
    }
   ],
   "source": [
    "len(np.where(y==7)[0])"
   ]
  },
  {
   "cell_type": "markdown",
   "id": "fc23ab06",
   "metadata": {},
   "source": [
    "## Q10"
   ]
  },
  {
   "cell_type": "code",
   "execution_count": 93,
   "id": "384ed23f",
   "metadata": {
    "ExecuteTime": {
     "end_time": "2022-06-17T14:59:57.308423Z",
     "start_time": "2022-06-17T14:59:56.862935Z"
    }
   },
   "outputs": [
    {
     "name": "stderr",
     "output_type": "stream",
     "text": [
      "C:\\ProgramData\\Anaconda3\\lib\\site-packages\\sklearn\\linear_model\\_sag.py:352: ConvergenceWarning: The max_iter was reached which means the coef_ did not converge\n",
      "  warnings.warn(\n"
     ]
    },
    {
     "data": {
      "text/plain": [
       "Pipeline(steps=[('standardscaler', StandardScaler()),\n",
       "                ('logisticregression',\n",
       "                 LogisticRegression(multi_class='multinomial', solver='sag'))])"
      ]
     },
     "execution_count": 93,
     "metadata": {},
     "output_type": "execute_result"
    }
   ],
   "source": [
    "pipe = make_pipeline(StandardScaler(), LogisticRegression(multi_class='multinomial', solver='sag'))\n",
    "pipe.fit(X_train, y_train)"
   ]
  },
  {
   "cell_type": "code",
   "execution_count": 96,
   "id": "a7ecbf12",
   "metadata": {
    "ExecuteTime": {
     "end_time": "2022-06-17T15:01:09.919143Z",
     "start_time": "2022-06-17T15:01:09.911171Z"
    }
   },
   "outputs": [
    {
     "data": {
      "text/plain": [
       "0.9666666666666667"
      ]
     },
     "execution_count": 96,
     "metadata": {},
     "output_type": "execute_result"
    }
   ],
   "source": [
    "y_pred = pipe.predict(X_test)\n",
    "\n",
    "accuracy_score(y_test, y_pred)"
   ]
  },
  {
   "cell_type": "markdown",
   "id": "1d600956",
   "metadata": {},
   "source": [
    "## Q11"
   ]
  },
  {
   "cell_type": "code",
   "execution_count": 97,
   "id": "ab25c098",
   "metadata": {
    "ExecuteTime": {
     "end_time": "2022-06-17T15:02:06.290840Z",
     "start_time": "2022-06-17T15:02:06.277814Z"
    }
   },
   "outputs": [
    {
     "data": {
      "text/plain": [
       "0.966907732026411"
      ]
     },
     "execution_count": 97,
     "metadata": {},
     "output_type": "execute_result"
    }
   ],
   "source": [
    "f1_score(y_test, y_pred, average='weighted')"
   ]
  },
  {
   "cell_type": "markdown",
   "id": "16d6b432",
   "metadata": {},
   "source": [
    "# Graded Assignments"
   ]
  },
  {
   "cell_type": "code",
   "execution_count": 125,
   "id": "cb81c0bb",
   "metadata": {
    "ExecuteTime": {
     "end_time": "2022-06-17T17:20:08.513224Z",
     "start_time": "2022-06-17T17:20:08.499197Z"
    }
   },
   "outputs": [],
   "source": [
    "import pandas as pd\n",
    "from sklearn.linear_model import SGDRegressor"
   ]
  },
  {
   "cell_type": "markdown",
   "id": "05cbeeb9",
   "metadata": {},
   "source": [
    "### Step2"
   ]
  },
  {
   "cell_type": "code",
   "execution_count": 99,
   "id": "d189f008",
   "metadata": {
    "ExecuteTime": {
     "end_time": "2022-06-17T15:07:01.055141Z",
     "start_time": "2022-06-17T15:07:00.871118Z"
    }
   },
   "outputs": [
    {
     "data": {
      "text/html": [
       "<div>\n",
       "<style scoped>\n",
       "    .dataframe tbody tr th:only-of-type {\n",
       "        vertical-align: middle;\n",
       "    }\n",
       "\n",
       "    .dataframe tbody tr th {\n",
       "        vertical-align: top;\n",
       "    }\n",
       "\n",
       "    .dataframe thead th {\n",
       "        text-align: right;\n",
       "    }\n",
       "</style>\n",
       "<table border=\"1\" class=\"dataframe\">\n",
       "  <thead>\n",
       "    <tr style=\"text-align: right;\">\n",
       "      <th></th>\n",
       "      <th>Feature-1</th>\n",
       "      <th>Feature-2</th>\n",
       "      <th>Feature-3</th>\n",
       "      <th>Feature-4</th>\n",
       "      <th>Feature-5</th>\n",
       "      <th>Feature-6</th>\n",
       "      <th>Feature-7</th>\n",
       "      <th>Feature-8</th>\n",
       "      <th>Feature-9</th>\n",
       "      <th>Feature-10</th>\n",
       "      <th>Target</th>\n",
       "    </tr>\n",
       "  </thead>\n",
       "  <tbody>\n",
       "    <tr>\n",
       "      <th>0</th>\n",
       "      <td>-1.580</td>\n",
       "      <td>1.0500</td>\n",
       "      <td>1.060</td>\n",
       "      <td>-0.440</td>\n",
       "      <td>0.451</td>\n",
       "      <td>-0.0348</td>\n",
       "      <td>0.643</td>\n",
       "      <td>0.2650</td>\n",
       "      <td>0.268</td>\n",
       "      <td>-0.851</td>\n",
       "      <td>84.7</td>\n",
       "    </tr>\n",
       "    <tr>\n",
       "      <th>1</th>\n",
       "      <td>-0.832</td>\n",
       "      <td>-0.8660</td>\n",
       "      <td>-1.340</td>\n",
       "      <td>0.138</td>\n",
       "      <td>1.180</td>\n",
       "      <td>0.7330</td>\n",
       "      <td>-1.410</td>\n",
       "      <td>0.1350</td>\n",
       "      <td>-0.088</td>\n",
       "      <td>-1.550</td>\n",
       "      <td>-211.0</td>\n",
       "    </tr>\n",
       "    <tr>\n",
       "      <th>2</th>\n",
       "      <td>-0.237</td>\n",
       "      <td>2.0900</td>\n",
       "      <td>-3.930</td>\n",
       "      <td>0.296</td>\n",
       "      <td>0.352</td>\n",
       "      <td>-0.5010</td>\n",
       "      <td>0.961</td>\n",
       "      <td>-0.0287</td>\n",
       "      <td>1.820</td>\n",
       "      <td>0.938</td>\n",
       "      <td>-96.9</td>\n",
       "    </tr>\n",
       "    <tr>\n",
       "      <th>3</th>\n",
       "      <td>-1.170</td>\n",
       "      <td>-1.1300</td>\n",
       "      <td>-1.090</td>\n",
       "      <td>1.120</td>\n",
       "      <td>0.312</td>\n",
       "      <td>0.1830</td>\n",
       "      <td>0.448</td>\n",
       "      <td>-0.8190</td>\n",
       "      <td>-1.010</td>\n",
       "      <td>-1.080</td>\n",
       "      <td>-152.0</td>\n",
       "    </tr>\n",
       "    <tr>\n",
       "      <th>4</th>\n",
       "      <td>0.260</td>\n",
       "      <td>-0.0273</td>\n",
       "      <td>0.925</td>\n",
       "      <td>-1.150</td>\n",
       "      <td>-1.390</td>\n",
       "      <td>0.0251</td>\n",
       "      <td>0.627</td>\n",
       "      <td>0.0950</td>\n",
       "      <td>-0.280</td>\n",
       "      <td>-0.848</td>\n",
       "      <td>-57.7</td>\n",
       "    </tr>\n",
       "  </tbody>\n",
       "</table>\n",
       "</div>"
      ],
      "text/plain": [
       "   Feature-1  Feature-2  Feature-3  Feature-4  Feature-5  Feature-6  \\\n",
       "0     -1.580     1.0500      1.060     -0.440      0.451    -0.0348   \n",
       "1     -0.832    -0.8660     -1.340      0.138      1.180     0.7330   \n",
       "2     -0.237     2.0900     -3.930      0.296      0.352    -0.5010   \n",
       "3     -1.170    -1.1300     -1.090      1.120      0.312     0.1830   \n",
       "4      0.260    -0.0273      0.925     -1.150     -1.390     0.0251   \n",
       "\n",
       "   Feature-7  Feature-8  Feature-9  Feature-10  Target  \n",
       "0      0.643     0.2650      0.268      -0.851    84.7  \n",
       "1     -1.410     0.1350     -0.088      -1.550  -211.0  \n",
       "2      0.961    -0.0287      1.820       0.938   -96.9  \n",
       "3      0.448    -0.8190     -1.010      -1.080  -152.0  \n",
       "4      0.627     0.0950     -0.280      -0.848   -57.7  "
      ]
     },
     "execution_count": 99,
     "metadata": {},
     "output_type": "execute_result"
    }
   ],
   "source": [
    "df = pd.read_csv('data_for_large_scale.csv')\n",
    "df.head()"
   ]
  },
  {
   "cell_type": "markdown",
   "id": "a3a864fe",
   "metadata": {},
   "source": [
    "### Step3 & 4"
   ]
  },
  {
   "cell_type": "code",
   "execution_count": 115,
   "id": "8a20fd03",
   "metadata": {
    "ExecuteTime": {
     "end_time": "2022-06-17T15:10:48.293914Z",
     "start_time": "2022-06-17T15:10:48.278946Z"
    }
   },
   "outputs": [],
   "source": [
    "X, y = np.array(df.loc[:, df.columns != 'Target']), np.array(df.Target)"
   ]
  },
  {
   "cell_type": "code",
   "execution_count": 116,
   "id": "64d5f2ba",
   "metadata": {
    "ExecuteTime": {
     "end_time": "2022-06-17T15:10:48.806473Z",
     "start_time": "2022-06-17T15:10:48.790472Z"
    }
   },
   "outputs": [
    {
     "data": {
      "text/plain": [
       "(array([[-1.58  ,  1.05  ,  1.06  , ...,  0.265 ,  0.268 , -0.851 ],\n",
       "       [-0.832 , -0.866 , -1.34  , ...,  0.135 , -0.088 , -1.55  ],\n",
       "       [-0.237 ,  2.09  , -3.93  , ..., -0.0287,  1.82  ,  0.938 ],\n",
       "       ...,\n",
       "       [ 0.509 , -0.322 ,  0.681 , ...,  0.727 , -1.94  , -2.01  ],\n",
       "       [ 0.36  ,  1.25  ,  0.651 , ..., -0.367 , -1.28  , -1.1   ],\n",
       "       [-0.86  , -0.601 ,  0.739 , ..., -0.483 , -1.38  ,  1.11  ]]), array([  84.7, -211. ,  -96.9, ...,  -80.2,  158. , -369. ]))"
      ]
     },
     "execution_count": 116,
     "metadata": {},
     "output_type": "execute_result"
    }
   ],
   "source": [
    "X, y"
   ]
  },
  {
   "cell_type": "markdown",
   "id": "36770cc1",
   "metadata": {},
   "source": [
    "### Step5"
   ]
  },
  {
   "cell_type": "code",
   "execution_count": 119,
   "id": "42d6534f",
   "metadata": {
    "ExecuteTime": {
     "end_time": "2022-06-17T15:49:23.526517Z",
     "start_time": "2022-06-17T15:49:23.492454Z"
    }
   },
   "outputs": [
    {
     "data": {
      "text/plain": [
       "((63000, 10), array([[ 0.224 ,  0.631 ,  0.639 , ..., -1.54  ,  1.03  , -0.17  ],\n",
       "       [-1.01  ,  0.118 ,  0.781 , ...,  0.7   , -0.249 , -1.05  ],\n",
       "       [ 1.97  , -0.358 ,  0.297 , ..., -0.411 ,  0.214 , -1.23  ],\n",
       "       ...,\n",
       "       [ 1.3   , -0.828 , -0.369 , ..., -0.315 , -1.8   ,  0.678 ],\n",
       "       [-0.977 ,  0.254 ,  0.582 , ..., -0.0417,  0.806 , -0.496 ],\n",
       "       [-0.141 , -0.831 , -0.199 , ...,  0.186 ,  0.94  , -0.782 ]]))"
      ]
     },
     "execution_count": 119,
     "metadata": {},
     "output_type": "execute_result"
    }
   ],
   "source": [
    "X_train, X_test, y_train, y_test = train_test_split(X, y, test_size=0.3, random_state=10)\n",
    "X_train.shape, X_train"
   ]
  },
  {
   "cell_type": "markdown",
   "id": "affd6055",
   "metadata": {},
   "source": [
    "### Step6"
   ]
  },
  {
   "cell_type": "code",
   "execution_count": 128,
   "id": "e87045de",
   "metadata": {
    "ExecuteTime": {
     "end_time": "2022-06-17T17:24:00.638639Z",
     "start_time": "2022-06-17T17:24:00.627667Z"
    }
   },
   "outputs": [
    {
     "data": {
      "text/plain": [
       "((700, 90, 10), (700, 90))"
      ]
     },
     "execution_count": 128,
     "metadata": {},
     "output_type": "execute_result"
    }
   ],
   "source": [
    "X_train_rshpd, y_train_rshpd = X_train.reshape(-1, 90, 10), y_train.reshape(-1, 90)\n",
    "X_train_rshpd.shape, y_train_rshpd.shape"
   ]
  },
  {
   "cell_type": "code",
   "execution_count": 134,
   "id": "a80369b0",
   "metadata": {
    "ExecuteTime": {
     "end_time": "2022-06-17T17:33:09.294042Z",
     "start_time": "2022-06-17T17:33:08.979045Z"
    }
   },
   "outputs": [
    {
     "name": "stdout",
     "output_type": "stream",
     "text": [
      "5\n",
      "regressor.coef_: [38.10307994 16.55515794 55.39574282 39.59670638 56.0556394  54.99254453\n",
      " 67.70253651 43.94562783 24.80852625 29.56006746]\n",
      "regressor.intercept_: [-7.35495575]\n",
      "--------------------------------------------------------------\n",
      "700\n",
      "regressor.coef_: [51.3212522  22.26535893 81.23762868 53.19615839 76.46565732 71.47204651\n",
      " 93.45092409 51.92198178 30.03910055 40.95656774]\n",
      "regressor.intercept_: [-0.0054532]\n"
     ]
    }
   ],
   "source": [
    "regressor = SGDRegressor(random_state=10)\n",
    "i = 0\n",
    "for X_trn, y_trn in zip(X_train_rshpd, y_train_rshpd):\n",
    "    i+= 1\n",
    "    regressor.partial_fit(X_trn, y_trn)\n",
    "    if i == 5:\n",
    "        print(i)\n",
    "        print('regressor.coef_:', regressor.coef_)\n",
    "        print('regressor.intercept_:', regressor.intercept_) \n",
    "        print('--------------------------------------------------------------')\n",
    "print(i)    \n",
    "print('regressor.coef_:', regressor.coef_)\n",
    "print('regressor.intercept_:', regressor.intercept_)       "
   ]
  },
  {
   "cell_type": "code",
   "execution_count": 136,
   "id": "b5e0f69f",
   "metadata": {
    "ExecuteTime": {
     "end_time": "2022-06-17T17:36:29.817044Z",
     "start_time": "2022-06-17T17:36:29.795069Z"
    }
   },
   "outputs": [
    {
     "data": {
      "text/plain": [
       "0.9999919793766233"
      ]
     },
     "execution_count": 136,
     "metadata": {},
     "output_type": "execute_result"
    }
   ],
   "source": [
    "from sklearn.metrics import r2_score\n",
    "\n",
    "y_pred = regressor.predict(X_test)\n",
    "r2_score(y_test, y_pred)"
   ]
  },
  {
   "cell_type": "markdown",
   "id": "4b4d300d",
   "metadata": {},
   "source": [
    "## Q6 to 8"
   ]
  },
  {
   "cell_type": "code",
   "execution_count": 197,
   "id": "97664b11",
   "metadata": {
    "ExecuteTime": {
     "end_time": "2022-06-18T09:03:59.027350Z",
     "start_time": "2022-06-18T09:03:57.808869Z"
    },
    "scrolled": true
   },
   "outputs": [
    {
     "name": "stdout",
     "output_type": "stream",
     "text": [
      "              1          2\n",
      "0      9.349849  56.740876\n",
      "1      9.350188  56.740679\n",
      "2      9.350549  56.740544\n",
      "3      9.350806  56.740485\n",
      "4      9.351053  56.740486\n",
      "...         ...        ...\n",
      "19995  9.841373  57.428327\n",
      "19996  9.537111  57.211692\n",
      "19997  9.537136  57.212001\n",
      "19998  9.537276  57.212396\n",
      "19999  9.537490  57.212913\n",
      "\n",
      "[20000 rows x 2 columns]\n",
      "               3\n",
      "0      17.052772\n",
      "1      17.614840\n",
      "2      18.083536\n",
      "3      18.279465\n",
      "4      18.422974\n",
      "...          ...\n",
      "19995  20.299091\n",
      "19996   9.242100\n",
      "19997   9.267994\n",
      "19998  10.219706\n",
      "19999   9.052537\n",
      "\n",
      "[20000 rows x 1 columns]\n",
      "after iter # 1\n",
      "1     9.615376\n",
      "2    57.036769\n",
      "dtype: float64\n",
      "sgd.coef_: [  2160686.84071255 -11131128.80052789]\n",
      "sgd.intercept_: [6.01967742e+08]\n",
      "---------------------------------------------------\n",
      "after iter # 2\n",
      "1     9.769328\n",
      "2    57.124693\n",
      "dtype: float64\n",
      "sgd.coef_: [  4411705.90117798 -15574224.68589523]\n",
      "sgd.intercept_: [8.43460071e+08]\n",
      "---------------------------------------------------\n",
      "after iter # 3\n",
      "1     9.738585\n",
      "2    57.064980\n",
      "dtype: float64\n",
      "sgd.coef_: [  2879875.22515013 -12814782.6600351 ]\n",
      "sgd.intercept_: [6.99897068e+08]\n",
      "---------------------------------------------------\n",
      "after iter # 4\n",
      "1     9.777121\n",
      "2    57.083119\n",
      "dtype: float64\n",
      "sgd.coef_: [  7023589.03004991 -25632406.52469219]\n",
      "sgd.intercept_: [1.37933295e+09]\n",
      "---------------------------------------------------\n",
      "after iter # 5\n",
      "1     9.825315\n",
      "2    57.138317\n",
      "dtype: float64\n",
      "sgd.coef_: [  3796291.86340679 -14806549.19449635]\n",
      "sgd.intercept_: [8.08763727e+08]\n",
      "---------------------------------------------------\n",
      "after iter # 6\n",
      "1     9.783316\n",
      "2    57.107981\n",
      "dtype: float64\n",
      "sgd.coef_: [781537.09336131 361311.03459899]\n",
      "sgd.intercept_: [-28359166.375879]\n",
      "---------------------------------------------------\n",
      "after iter # 7\n",
      "1     9.556487\n",
      "2    57.069986\n",
      "dtype: float64\n",
      "sgd.coef_: [  3406422.04499455 -14539723.4679096 ]\n",
      "sgd.intercept_: [7.94501133e+08]\n",
      "---------------------------------------------------\n",
      "after iter # 8\n",
      "1     9.654174\n",
      "2    57.033755\n",
      "dtype: float64\n",
      "sgd.coef_: [ 2562823.15060132 -9994184.87820156]\n",
      "sgd.intercept_: [5.46320982e+08]\n",
      "---------------------------------------------------\n",
      "after iter # 9\n",
      "1     9.621246\n",
      "2    57.061821\n",
      "dtype: float64\n",
      "sgd.coef_: [  5443253.9380283 -20314089.655324 ]\n",
      "sgd.intercept_: [1.10313264e+09]\n",
      "---------------------------------------------------\n",
      "after iter # 10\n",
      "1     9.742283\n",
      "2    57.118090\n",
      "dtype: float64\n",
      "sgd.coef_: [ 10187467.65504674 -41534272.48161529]\n",
      "sgd.intercept_: [2.25305864e+09]\n",
      "---------------------------------------------------\n",
      "after iter # 11\n",
      "1     9.918180\n",
      "2    57.112627\n",
      "dtype: float64\n",
      "sgd.coef_: [ 16430869.11806776 -64313475.05955879]\n",
      "sgd.intercept_: [3.50665083e+09]\n",
      "---------------------------------------------------\n",
      "after iter # 12\n",
      "1     9.691005\n",
      "2    57.051913\n",
      "dtype: float64\n",
      "sgd.coef_: [ 16029685.47677538 -66135013.73033129]\n",
      "sgd.intercept_: [3.56102956e+09]\n",
      "---------------------------------------------------\n",
      "after iter # 13\n",
      "1     9.738056\n",
      "2    57.024707\n",
      "dtype: float64\n",
      "sgd.coef_: [  6682368.34825969 -29319317.78415132]\n",
      "sgd.intercept_: [1.57540315e+09]\n",
      "---------------------------------------------------\n",
      "after iter # 14\n",
      "1     9.693266\n",
      "2    57.104499\n",
      "dtype: float64\n",
      "sgd.coef_: [ 11995135.51810918 -43544938.39269225]\n",
      "sgd.intercept_: [2.38845022e+09]\n",
      "---------------------------------------------------\n",
      "after iter # 15\n",
      "1     9.810945\n",
      "2    57.046728\n",
      "dtype: float64\n",
      "sgd.coef_: [  7289769.17102302 -39309615.5895462 ]\n",
      "sgd.intercept_: [2.19116438e+09]\n",
      "---------------------------------------------------\n",
      "after iter # 16\n",
      "1     9.903537\n",
      "2    57.086892\n",
      "dtype: float64\n",
      "sgd.coef_: [  8965084.77140717 -44087854.96390969]\n",
      "sgd.intercept_: [2.44088337e+09]\n",
      "---------------------------------------------------\n",
      "after iter # 17\n",
      "1     9.838568\n",
      "2    57.111153\n",
      "dtype: float64\n",
      "sgd.coef_: [ 18300635.16048408 -91610728.29473093]\n",
      "sgd.intercept_: [4.98000798e+09]\n",
      "---------------------------------------------------\n",
      "after iter # 18\n",
      "1     9.605998\n",
      "2    57.066884\n",
      "dtype: float64\n",
      "sgd.coef_: [ 2.71852265e+07 -1.16455930e+08]\n",
      "sgd.intercept_: [6.37792758e+09]\n",
      "---------------------------------------------------\n",
      "after iter # 19\n",
      "1     9.700039\n",
      "2    57.070823\n",
      "dtype: float64\n",
      "sgd.coef_: [ 3.83076799e+07 -1.49240751e+08]\n",
      "sgd.intercept_: [8.11703486e+09]\n",
      "---------------------------------------------------\n",
      "after iter # 20\n",
      "1     9.613055\n",
      "2    57.070990\n",
      "dtype: float64\n",
      "sgd.coef_: [ 3.99280826e+07 -1.77432060e+08]\n",
      "sgd.intercept_: [9.59722967e+09]\n",
      "---------------------------------------------------\n",
      "after iter # 21\n",
      "1     9.780396\n",
      "2    57.147687\n",
      "dtype: float64\n",
      "sgd.coef_: [ 4.14320322e+07 -1.76748842e+08]\n",
      "sgd.intercept_: [9.76745432e+09]\n",
      "---------------------------------------------------\n",
      "after iter # 22\n",
      "1     9.721459\n",
      "2    57.116715\n",
      "dtype: float64\n",
      "sgd.coef_: [-7.10472223e+07 -1.56247086e+08]\n",
      "sgd.intercept_: [9.23819282e+09]\n",
      "---------------------------------------------------\n"
     ]
    },
    {
     "data": {
      "text/plain": [
       "(1     9.721459\n",
       "2    57.116715\n",
       "dtype: float64, 1    0.665305\n",
       "2    0.304291\n",
       "dtype: float64)"
      ]
     },
     "execution_count": 197,
     "metadata": {},
     "output_type": "execute_result"
    }
   ],
   "source": [
    "sgd = SGDRegressor(random_state=10, warm_start=True)\n",
    "sclr = StandardScaler()\n",
    "sclr2 = StandardScaler()\n",
    "# pipe = make_pipeline(sclr, sgd)\n",
    "\n",
    "iter = 1\n",
    "# df = pd.read_csv('https://archive.ics.uci.edu/ml/machine-learning-databases/00246/3D_spatial_network.txt')\n",
    "for df in pd.read_csv('3D_spatial_network.txt', chunksize=20000, iterator=True, header=None):\n",
    "    X_trn, y_trn = df.iloc[:, 1:3], df.iloc[:, 3:]    \n",
    "    sclr.partial_fit(X_trn) \n",
    "    iter+= 1\n",
    "#     print(sclr.mean_)\n",
    "#     print('---------------------------------------------------')\n",
    "\n",
    "iter = 1\n",
    "for df in pd.read_csv('3D_spatial_network.txt', chunksize=20000, iterator=True, header=None):\n",
    "    X_trn, y_trn = df.iloc[:, 1:3], df.iloc[:, 3:] \n",
    "#     X_trn = sclr.transform(X_trn)\n",
    "    sgd.fit(X_trn, y_trn) \n",
    "#     sclr2.partial_fit(X_trn) \n",
    "    if iter == 1:\n",
    "        print(X_trn)\n",
    "        print(y_trn)\n",
    "    print('after iter #', iter)\n",
    "    print(X_trn.mean(axis=0))\n",
    "    print('sgd.coef_:', sgd.coef_)\n",
    "    print('sgd.intercept_:', sgd.intercept_)  \n",
    "    print('---------------------------------------------------')\n",
    "    iter+=1\n",
    "    \n",
    "X_trn.mean(axis=0), X_trn.std(axis=0)        \n",
    "# print('after iter #', iter)\n",
    "# print(sclr2.mean_)\n",
    "# print('sgd.coef_:', sgd.coef_)\n",
    "# print('sgd.intercept_:', sgd.intercept_)      "
   ]
  },
  {
   "cell_type": "code",
   "execution_count": 200,
   "id": "0e9e3234",
   "metadata": {
    "ExecuteTime": {
     "end_time": "2022-06-18T09:07:17.826819Z",
     "start_time": "2022-06-18T09:07:17.056816Z"
    }
   },
   "outputs": [
    {
     "name": "stdout",
     "output_type": "stream",
     "text": [
      "sgd.coef_: [  4621614.19896528 -19924694.1882939 ]\n",
      "sgd.intercept_: [1.08752226e+09]\n"
     ]
    }
   ],
   "source": [
    "sgd = SGDRegressor(random_state=10, warm_start=True, max_iter=7)\n",
    "df = pd.read_csv('3D_spatial_network.txt', header=None)\n",
    "X_trn, y_trn = df.iloc[:, 1:3], df.iloc[:, 3:] \n",
    "# X_trn = sclr.transform(X_trn)\n",
    "\n",
    "sgd.fit(X_trn, y_trn)\n",
    "print('sgd.coef_:', sgd.coef_)\n",
    "print('sgd.intercept_:', sgd.intercept_)  "
   ]
  },
  {
   "cell_type": "markdown",
   "id": "555563f2",
   "metadata": {},
   "source": [
    "## Q9 to 11"
   ]
  },
  {
   "cell_type": "code",
   "execution_count": 206,
   "id": "64b163c5",
   "metadata": {
    "ExecuteTime": {
     "end_time": "2022-06-18T09:13:31.046162Z",
     "start_time": "2022-06-18T09:13:31.038161Z"
    }
   },
   "outputs": [],
   "source": [
    "from sklearn.datasets import load_iris\n",
    "from sklearn.preprocessing import Normalizer\n",
    "from sklearn.neighbors import KNeighborsClassifier"
   ]
  },
  {
   "cell_type": "code",
   "execution_count": 210,
   "id": "c55bb48e",
   "metadata": {
    "ExecuteTime": {
     "end_time": "2022-06-18T09:18:10.984309Z",
     "start_time": "2022-06-18T09:18:10.973284Z"
    }
   },
   "outputs": [],
   "source": [
    "X, y = load_iris(return_X_y=True)\n",
    "\n",
    "X_train, X_test, y_train, y_test = train_test_split(X, y, test_size=0.2, random_state=10)"
   ]
  },
  {
   "cell_type": "code",
   "execution_count": 218,
   "id": "671d89d7",
   "metadata": {
    "ExecuteTime": {
     "end_time": "2022-06-18T09:27:38.432513Z",
     "start_time": "2022-06-18T09:27:38.398483Z"
    }
   },
   "outputs": [
    {
     "name": "stdout",
     "output_type": "stream",
     "text": [
      "k: 2\n",
      "Acc: 0.9666666666666667\n",
      "f1: 0.9671111111111111\n",
      "--------------------------------------------------\n",
      "k: 3\n",
      "Acc: 0.9666666666666667\n",
      "f1: 0.9671111111111111\n",
      "--------------------------------------------------\n",
      "k: 4\n",
      "Acc: 0.9666666666666667\n",
      "f1: 0.9671111111111111\n",
      "--------------------------------------------------\n"
     ]
    }
   ],
   "source": [
    "X_train = Normalizer().fit_transform(X_train)\n",
    "X_test = Normalizer().fit_transform(X_test)\n",
    "\n",
    "K = [2, 3, 4]\n",
    "\n",
    "for k in K:\n",
    "    knn = KNeighborsClassifier(n_neighbors=k)\n",
    "    knn.fit(X_train, y_train)\n",
    "    y_pred = knn.predict(X_test)\n",
    "    print('k:', k)\n",
    "    print('Acc:', accuracy_score(y_test, y_pred))\n",
    "#     if k == 3:\n",
    "    print('f1:', f1_score(y_test, y_pred, average='weighted'))\n",
    "    print('--------------------------------------------------')\n",
    "    "
   ]
  },
  {
   "cell_type": "code",
   "execution_count": null,
   "id": "82142a81",
   "metadata": {},
   "outputs": [],
   "source": []
  },
  {
   "cell_type": "code",
   "execution_count": null,
   "id": "289abf23",
   "metadata": {},
   "outputs": [],
   "source": []
  },
  {
   "cell_type": "code",
   "execution_count": null,
   "id": "54f21b55",
   "metadata": {},
   "outputs": [],
   "source": []
  },
  {
   "cell_type": "code",
   "execution_count": null,
   "id": "d16e9732",
   "metadata": {},
   "outputs": [],
   "source": []
  },
  {
   "cell_type": "code",
   "execution_count": null,
   "id": "8b8ef255",
   "metadata": {},
   "outputs": [],
   "source": []
  },
  {
   "cell_type": "code",
   "execution_count": null,
   "id": "2957c513",
   "metadata": {},
   "outputs": [],
   "source": []
  },
  {
   "cell_type": "code",
   "execution_count": null,
   "id": "395b07bb",
   "metadata": {},
   "outputs": [],
   "source": []
  },
  {
   "cell_type": "code",
   "execution_count": null,
   "id": "b0573d9e",
   "metadata": {},
   "outputs": [],
   "source": []
  },
  {
   "cell_type": "code",
   "execution_count": null,
   "id": "c4f6fa9d",
   "metadata": {},
   "outputs": [],
   "source": []
  },
  {
   "cell_type": "code",
   "execution_count": null,
   "id": "ddb3503e",
   "metadata": {},
   "outputs": [],
   "source": []
  },
  {
   "cell_type": "code",
   "execution_count": null,
   "id": "2a5bbf86",
   "metadata": {},
   "outputs": [],
   "source": []
  },
  {
   "cell_type": "code",
   "execution_count": null,
   "id": "2930a947",
   "metadata": {},
   "outputs": [],
   "source": []
  }
 ],
 "metadata": {
  "kernelspec": {
   "display_name": "Python 3 (ipykernel)",
   "language": "python",
   "name": "python3"
  },
  "language_info": {
   "codemirror_mode": {
    "name": "ipython",
    "version": 3
   },
   "file_extension": ".py",
   "mimetype": "text/x-python",
   "name": "python",
   "nbconvert_exporter": "python",
   "pygments_lexer": "ipython3",
   "version": "3.9.7"
  }
 },
 "nbformat": 4,
 "nbformat_minor": 5
}
