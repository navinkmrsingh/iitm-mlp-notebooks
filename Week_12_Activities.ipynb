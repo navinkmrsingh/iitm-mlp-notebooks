{
 "cells": [
  {
   "cell_type": "code",
   "execution_count": 3,
   "id": "ddc827b9",
   "metadata": {
    "ExecuteTime": {
     "end_time": "2022-07-26T11:47:17.531431Z",
     "start_time": "2022-07-26T11:47:17.514432Z"
    }
   },
   "outputs": [],
   "source": [
    "import warnings\n",
    "warnings.filterwarnings('ignore')"
   ]
  },
  {
   "cell_type": "markdown",
   "id": "a199fb93",
   "metadata": {},
   "source": [
    "# AQ 12.1"
   ]
  },
  {
   "cell_type": "markdown",
   "id": "88190d9c",
   "metadata": {},
   "source": [
    "### Q7"
   ]
  },
  {
   "cell_type": "code",
   "execution_count": 4,
   "id": "110d1b92",
   "metadata": {
    "ExecuteTime": {
     "end_time": "2022-07-26T11:47:19.520134Z",
     "start_time": "2022-07-26T11:47:18.981133Z"
    }
   },
   "outputs": [
    {
     "data": {
      "text/plain": [
       "'identity'"
      ]
     },
     "execution_count": 4,
     "metadata": {},
     "output_type": "execute_result"
    }
   ],
   "source": [
    "from sklearn.neural_network import MLPRegressor\n",
    "from sklearn.datasets import make_regression\n",
    "from sklearn.model_selection import train_test_split\n",
    "\n",
    "X, y = make_regression(n_samples=200, random_state=1)\n",
    "regr = MLPRegressor(random_state=1, max_iter=500).fit(X, y)\n",
    "regr.out_activation_"
   ]
  },
  {
   "cell_type": "markdown",
   "id": "70aee969",
   "metadata": {},
   "source": [
    "### Q8"
   ]
  },
  {
   "cell_type": "code",
   "execution_count": 7,
   "id": "bf949c03",
   "metadata": {
    "ExecuteTime": {
     "end_time": "2022-07-26T11:50:41.175988Z",
     "start_time": "2022-07-26T11:50:41.124963Z"
    }
   },
   "outputs": [
    {
     "data": {
      "text/plain": [
       "'logistic'"
      ]
     },
     "execution_count": 7,
     "metadata": {},
     "output_type": "execute_result"
    }
   ],
   "source": [
    "from sklearn.neural_network import MLPClassifier\n",
    "from sklearn.datasets import make_classification\n",
    "\n",
    "X, y = make_classification()\n",
    "\n",
    "clf = MLPClassifier(hidden_layer_sizes=(8, 8, 8), activation='relu', solver='sgd',\n",
    "                    alpha=1e-4, learning_rate_init=0.2, max_iter=500, random_state=1)\n",
    "\n",
    "clf.fit(X, y)\n",
    "clf.out_activation_"
   ]
  },
  {
   "cell_type": "markdown",
   "id": "0394861f",
   "metadata": {},
   "source": [
    "### Q9"
   ]
  },
  {
   "cell_type": "code",
   "execution_count": 8,
   "id": "6829876c",
   "metadata": {
    "ExecuteTime": {
     "end_time": "2022-07-26T11:51:09.449217Z",
     "start_time": "2022-07-26T11:51:09.435220Z"
    }
   },
   "outputs": [
    {
     "data": {
      "text/plain": [
       "5"
      ]
     },
     "execution_count": 8,
     "metadata": {},
     "output_type": "execute_result"
    }
   ],
   "source": [
    "clf.n_layers_"
   ]
  },
  {
   "cell_type": "code",
   "execution_count": null,
   "id": "61d0e534",
   "metadata": {},
   "outputs": [],
   "source": []
  },
  {
   "cell_type": "code",
   "execution_count": null,
   "id": "141a37cb",
   "metadata": {},
   "outputs": [],
   "source": []
  },
  {
   "cell_type": "code",
   "execution_count": null,
   "id": "30e66e54",
   "metadata": {},
   "outputs": [],
   "source": []
  },
  {
   "cell_type": "code",
   "execution_count": null,
   "id": "6ff7928f",
   "metadata": {},
   "outputs": [],
   "source": []
  },
  {
   "cell_type": "code",
   "execution_count": null,
   "id": "c1072b16",
   "metadata": {},
   "outputs": [],
   "source": []
  },
  {
   "cell_type": "code",
   "execution_count": null,
   "id": "c6b33ecb",
   "metadata": {},
   "outputs": [],
   "source": []
  }
 ],
 "metadata": {
  "kernelspec": {
   "display_name": "Python 3 (ipykernel)",
   "language": "python",
   "name": "python3"
  },
  "language_info": {
   "codemirror_mode": {
    "name": "ipython",
    "version": 3
   },
   "file_extension": ".py",
   "mimetype": "text/x-python",
   "name": "python",
   "nbconvert_exporter": "python",
   "pygments_lexer": "ipython3",
   "version": "3.9.7"
  }
 },
 "nbformat": 4,
 "nbformat_minor": 5
}
