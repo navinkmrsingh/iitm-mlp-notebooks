{
 "cells": [
  {
   "cell_type": "code",
   "execution_count": 1,
   "id": "821e9666",
   "metadata": {
    "ExecuteTime": {
     "end_time": "2022-07-09T07:48:47.400484Z",
     "start_time": "2022-07-09T07:48:47.215425Z"
    }
   },
   "outputs": [],
   "source": [
    "import numpy as np"
   ]
  },
  {
   "cell_type": "markdown",
   "id": "5bb94ae6",
   "metadata": {},
   "source": [
    "# PA"
   ]
  },
  {
   "cell_type": "markdown",
   "id": "bd40521a",
   "metadata": {},
   "source": [
    "## Q1"
   ]
  },
  {
   "cell_type": "code",
   "execution_count": 2,
   "id": "f79c3f84",
   "metadata": {
    "ExecuteTime": {
     "end_time": "2022-07-09T07:48:49.040750Z",
     "start_time": "2022-07-09T07:48:49.018755Z"
    }
   },
   "outputs": [
    {
     "data": {
      "text/plain": [
       "0.7777777777777778"
      ]
     },
     "execution_count": 2,
     "metadata": {},
     "output_type": "execute_result"
    }
   ],
   "source": [
    "def compute_explained_variance(y_true, y_pred):\n",
    "    var_y_true = np.var(y_true)\n",
    "    var_y_diff = np.var(y_true - y_pred)\n",
    "    return 1 - (var_y_diff/var_y_true)\n",
    "\n",
    "\n",
    "y_true = np.array([7, 4, 9, 4])\n",
    "y_pred = np.array([8, 7, 12, 5])\n",
    "compute_explained_variance(y_true, y_pred)"
   ]
  },
  {
   "cell_type": "markdown",
   "id": "73da8765",
   "metadata": {},
   "source": [
    "## Q2"
   ]
  },
  {
   "cell_type": "code",
   "execution_count": 3,
   "id": "62382928",
   "metadata": {
    "ExecuteTime": {
     "end_time": "2022-07-09T07:49:28.502811Z",
     "start_time": "2022-07-09T07:49:27.089128Z"
    }
   },
   "outputs": [
    {
     "data": {
      "text/plain": [
       "Pipeline(steps=[('scaling', StandardScaler()),\n",
       "                ('SGD_reg',\n",
       "                 SGDRegressor(alpha=0.01, penalty='l1', random_state=1))])"
      ]
     },
     "execution_count": 3,
     "metadata": {},
     "output_type": "execute_result"
    }
   ],
   "source": [
    "from sklearn.datasets import fetch_california_housing\n",
    "from sklearn.preprocessing import StandardScaler\n",
    "from sklearn.linear_model import SGDRegressor\n",
    "\n",
    "from sklearn.model_selection import train_test_split\n",
    "from sklearn.model_selection import validation_curve\n",
    "\n",
    "from sklearn.pipeline import Pipeline\n",
    "\n",
    "X, y = fetch_california_housing(as_frame=True, return_X_y=True)\n",
    "X_train, X_test, y_train, y_test = train_test_split(X, y, test_size=0.30, random_state=1)\n",
    "\n",
    "sgd_pipeline = Pipeline([\n",
    "    ('scaling', StandardScaler(with_mean=True, with_std=True)),\n",
    "    ('SGD_reg', SGDRegressor(loss='squared_error', penalty='l1', alpha=0.01, random_state=1))\n",
    "])\n",
    "\n",
    "sgd_pipeline.fit(X_train, y_train)"
   ]
  },
  {
   "cell_type": "code",
   "execution_count": 4,
   "id": "0a4cead7",
   "metadata": {
    "ExecuteTime": {
     "end_time": "2022-07-09T07:49:28.534810Z",
     "start_time": "2022-07-09T07:49:28.506815Z"
    }
   },
   "outputs": [
    {
     "data": {
      "text/plain": [
       "0.5951040704728554"
      ]
     },
     "execution_count": 4,
     "metadata": {},
     "output_type": "execute_result"
    }
   ],
   "source": [
    "sgd_pipeline.score(X_test, y_test)"
   ]
  },
  {
   "cell_type": "markdown",
   "id": "f3cd01d8",
   "metadata": {},
   "source": [
    "# GA"
   ]
  },
  {
   "cell_type": "markdown",
   "id": "7284b13b",
   "metadata": {},
   "source": [
    "## Q1"
   ]
  },
  {
   "cell_type": "code",
   "execution_count": 5,
   "id": "cdd0dc4b",
   "metadata": {},
   "outputs": [
    {
     "name": "stdout",
     "output_type": "stream",
     "text": [
      "TRAIN: [0 1] TEST: [2 3]\n",
      "TRAIN: [2 3] TEST: [0 1]\n",
      "TRAIN: [1 3] TEST: [0 2]\n",
      "TRAIN: [0 2] TEST: [1 3]\n"
     ]
    }
   ],
   "source": [
    "from sklearn.model_selection import RepeatedKFold\n",
    "\n",
    "X = np.array([[1, 2], [3, 4], [1, 2], [3, 4]])\n",
    "\n",
    "def k_fold_cv(X):\n",
    "    rkf = RepeatedKFold(n_splits=2, n_repeats=2, random_state=1)\n",
    "    return rkf.split(X)\n",
    "\n",
    "for train_index, test_index in k_fold_cv(X):\n",
    "     print(\"TRAIN:\", train_index, \"TEST:\", test_index)"
   ]
  },
  {
   "cell_type": "markdown",
   "id": "e0799937",
   "metadata": {},
   "source": [
    "## Q2, 3, 4"
   ]
  },
  {
   "cell_type": "code",
   "execution_count": 19,
   "id": "4d956fde",
   "metadata": {},
   "outputs": [
    {
     "data": {
      "text/plain": [
       "GridSearchCV(cv=4,\n",
       "             estimator=Pipeline(steps=[('scaling', StandardScaler()),\n",
       "                                       ('SGD', SGDRegressor(random_state=1))]),\n",
       "             n_jobs=2,\n",
       "             param_grid={'SGD__alpha': (0.1, 0.01, 0.001),\n",
       "                         'SGD__loss': ('squared_error', 'huber'),\n",
       "                         'SGD__max_iter': (1000, 2000, 5000),\n",
       "                         'SGD__penalty': ('l1', 'l2')})"
      ]
     },
     "execution_count": 19,
     "metadata": {},
     "output_type": "execute_result"
    }
   ],
   "source": [
    "from sklearn.model_selection import GridSearchCV\n",
    "\n",
    "X, y = fetch_california_housing(as_frame=True, return_X_y=True)\n",
    "X_train, X_test, y_train, y_test = train_test_split(X, y, test_size=0.30, random_state=1)\n",
    "\n",
    "sgd_grid_pipeline = Pipeline([\n",
    "    ('scaling', StandardScaler(with_mean=True, with_std=True)),\n",
    "    ('SGD', SGDRegressor(random_state=1))\n",
    "])\n",
    "\n",
    "param_grid ={\n",
    "    'SGD__loss' : ('squared_error', 'huber'),\n",
    "    'SGD__penalty': ('l1', 'l2'),\n",
    "    'SGD__alpha': (0.1, 0.01, 0.001), \n",
    "    'SGD__max_iter': (1000, 2000, 5000),\n",
    "}\n",
    "\n",
    "sgd_grid_search = GridSearchCV(\n",
    "    sgd_grid_pipeline,\n",
    "    param_grid=param_grid,\n",
    "    n_jobs=2, \n",
    "    cv=4\n",
    ")\n",
    "\n",
    "sgd_grid_search.fit(X_train, y_train)"
   ]
  },
  {
   "cell_type": "markdown",
   "id": "3033d15a",
   "metadata": {},
   "source": [
    "### Q3, 4"
   ]
  },
  {
   "cell_type": "code",
   "execution_count": 20,
   "id": "be6e1842",
   "metadata": {},
   "outputs": [
    {
     "data": {
      "text/plain": [
       "{'SGD__alpha': 0.01,\n",
       " 'SGD__loss': 'squared_error',\n",
       " 'SGD__max_iter': 1000,\n",
       " 'SGD__penalty': 'l1'}"
      ]
     },
     "execution_count": 20,
     "metadata": {},
     "output_type": "execute_result"
    }
   ],
   "source": [
    "sgd_grid_search.best_params_"
   ]
  },
  {
   "cell_type": "markdown",
   "id": "f996edd4",
   "metadata": {},
   "source": [
    "### Q2"
   ]
  },
  {
   "cell_type": "code",
   "execution_count": 21,
   "id": "122bc4b7",
   "metadata": {},
   "outputs": [
    {
     "data": {
      "text/plain": [
       "Pipeline(steps=[('scaling', StandardScaler()),\n",
       "                ('SGD_reg',\n",
       "                 SGDRegressor(alpha=0.01, penalty='l1', random_state=1))])"
      ]
     },
     "execution_count": 21,
     "metadata": {},
     "output_type": "execute_result"
    }
   ],
   "source": [
    "loss = sgd_grid_search.best_params_['SGD__loss']\n",
    "penalty = sgd_grid_search.best_params_['SGD__penalty']\n",
    "alpha = sgd_grid_search.best_params_['SGD__alpha']\n",
    "max_iter = sgd_grid_search.best_params_['SGD__max_iter']\n",
    "\n",
    "\n",
    "sgd_pipeline = Pipeline([\n",
    "    ('scaling', StandardScaler(with_mean=True, with_std=True)),\n",
    "    ('SGD_reg', SGDRegressor(random_state=1, loss=loss, penalty=penalty, max_iter=max_iter, alpha=alpha, ))\n",
    "])\n",
    "\n",
    "sgd_pipeline.fit(X_train, y_train)"
   ]
  },
  {
   "cell_type": "code",
   "execution_count": 22,
   "id": "94b53399",
   "metadata": {},
   "outputs": [
    {
     "data": {
      "text/plain": [
       "0.5951040704728554"
      ]
     },
     "execution_count": 22,
     "metadata": {},
     "output_type": "execute_result"
    }
   ],
   "source": [
    "sgd_pipeline.score(X_test, y_test)"
   ]
  },
  {
   "cell_type": "markdown",
   "id": "ff789533",
   "metadata": {},
   "source": [
    "## Q5, 6"
   ]
  },
  {
   "cell_type": "code",
   "execution_count": 26,
   "id": "a33ab032",
   "metadata": {},
   "outputs": [
    {
     "data": {
      "text/plain": [
       "GridSearchCV(cv=4,\n",
       "             estimator=Pipeline(steps=[('scaling', StandardScaler()),\n",
       "                                       ('ridge', Ridge(random_state=1))]),\n",
       "             n_jobs=2,\n",
       "             param_grid={'ridge__alpha': (0.5, 0.1, 0.05, 0.01, 0.005, 0.001),\n",
       "                         'ridge__fit_intercept': (True, False)})"
      ]
     },
     "execution_count": 26,
     "metadata": {},
     "output_type": "execute_result"
    }
   ],
   "source": [
    "from sklearn.linear_model import Ridge\n",
    "\n",
    "X, y = fetch_california_housing(as_frame=True, return_X_y=True)\n",
    "X_train, X_test, y_train, y_test = train_test_split(X, y, test_size=0.30, random_state=1)\n",
    "\n",
    "ridge_grid_pipeline = Pipeline([\n",
    "    ('scaling', StandardScaler(with_mean=True, with_std=True)),\n",
    "    ('ridge', Ridge(random_state=1))\n",
    "])\n",
    "\n",
    "param_grid ={\n",
    "    'ridge__fit_intercept' : (True, False),    \n",
    "    'ridge__alpha': (0.5,0.1,0.05,0.01,0.005,0.001),     \n",
    "}\n",
    "\n",
    "ridge_grid_search = GridSearchCV(\n",
    "    ridge_grid_pipeline,\n",
    "    param_grid=param_grid,\n",
    "    n_jobs=2, \n",
    "    cv=4\n",
    ")\n",
    "\n",
    "ridge_grid_search.fit(X_train, y_train)"
   ]
  },
  {
   "cell_type": "markdown",
   "id": "3693f4ab",
   "metadata": {},
   "source": [
    "### Q6"
   ]
  },
  {
   "cell_type": "code",
   "execution_count": 27,
   "id": "a00c6680",
   "metadata": {},
   "outputs": [
    {
     "data": {
      "text/plain": [
       "{'ridge__alpha': 0.5, 'ridge__fit_intercept': True}"
      ]
     },
     "execution_count": 27,
     "metadata": {},
     "output_type": "execute_result"
    }
   ],
   "source": [
    "ridge_grid_search.best_params_"
   ]
  },
  {
   "cell_type": "markdown",
   "id": "88bff288",
   "metadata": {},
   "source": [
    "### Q5"
   ]
  },
  {
   "cell_type": "code",
   "execution_count": 28,
   "id": "01e5d4a9",
   "metadata": {},
   "outputs": [
    {
     "data": {
      "text/plain": [
       "Pipeline(steps=[('scaling', StandardScaler()),\n",
       "                ('ridge_reg', Ridge(alpha=0.5, random_state=1))])"
      ]
     },
     "execution_count": 28,
     "metadata": {},
     "output_type": "execute_result"
    }
   ],
   "source": [
    "alpha = ridge_grid_search.best_params_['ridge__alpha']\n",
    "fit_intercept = ridge_grid_search.best_params_['ridge__fit_intercept']\n",
    "\n",
    "\n",
    "ridge_pipeline = Pipeline([\n",
    "    ('scaling', StandardScaler(with_mean=True, with_std=True)),\n",
    "    ('ridge_reg', Ridge(random_state=1, alpha=alpha, fit_intercept=fit_intercept))\n",
    "])\n",
    "\n",
    "ridge_pipeline.fit(X_train, y_train)"
   ]
  },
  {
   "cell_type": "code",
   "execution_count": 29,
   "id": "cd1662b7",
   "metadata": {},
   "outputs": [
    {
     "data": {
      "text/plain": [
       "0.597145061224877"
      ]
     },
     "execution_count": 29,
     "metadata": {},
     "output_type": "execute_result"
    }
   ],
   "source": [
    "ridge_pipeline.score(X_test, y_test)"
   ]
  },
  {
   "cell_type": "markdown",
   "id": "3ec964b6",
   "metadata": {},
   "source": [
    "## Q7, 8"
   ]
  },
  {
   "cell_type": "code",
   "execution_count": 32,
   "id": "52f50d5e",
   "metadata": {},
   "outputs": [
    {
     "data": {
      "text/plain": [
       "GridSearchCV(cv=6,\n",
       "             estimator=Pipeline(steps=[('scaling', StandardScaler()),\n",
       "                                       ('lasso', Lasso(random_state=1))]),\n",
       "             n_jobs=2,\n",
       "             param_grid={'lasso__alpha': (0.5, 0.1, 0.05, 0.01, 0.005, 0.001),\n",
       "                         'lasso__fit_intercept': (True, False)})"
      ]
     },
     "execution_count": 32,
     "metadata": {},
     "output_type": "execute_result"
    }
   ],
   "source": [
    "from sklearn.linear_model import Lasso\n",
    "\n",
    "X, y = fetch_california_housing(as_frame=True, return_X_y=True)\n",
    "X_train, X_test, y_train, y_test = train_test_split(X, y, test_size=0.40, random_state=1)\n",
    "\n",
    "lasso_grid_pipeline = Pipeline([\n",
    "    ('scaling', StandardScaler(with_mean=True, with_std=True)),\n",
    "    ('lasso', Lasso(random_state=1))\n",
    "])\n",
    "\n",
    "param_grid ={\n",
    "    'lasso__fit_intercept' : (True, False),    \n",
    "    'lasso__alpha': (0.5,0.1,0.05,0.01,0.005,0.001),     \n",
    "}\n",
    "\n",
    "lasso_grid_search = GridSearchCV(\n",
    "    lasso_grid_pipeline,\n",
    "    param_grid=param_grid,\n",
    "    n_jobs=2, \n",
    "    cv=6\n",
    ")\n",
    "\n",
    "lasso_grid_search.fit(X_train, y_train)"
   ]
  },
  {
   "cell_type": "markdown",
   "id": "96b565bf",
   "metadata": {},
   "source": [
    "### Q8"
   ]
  },
  {
   "cell_type": "code",
   "execution_count": 33,
   "id": "38b04b45",
   "metadata": {},
   "outputs": [
    {
     "data": {
      "text/plain": [
       "{'lasso__alpha': 0.001, 'lasso__fit_intercept': True}"
      ]
     },
     "execution_count": 33,
     "metadata": {},
     "output_type": "execute_result"
    }
   ],
   "source": [
    "lasso_grid_search.best_params_"
   ]
  },
  {
   "cell_type": "markdown",
   "id": "baa51a20",
   "metadata": {},
   "source": [
    "### Q7"
   ]
  },
  {
   "cell_type": "code",
   "execution_count": 34,
   "id": "f10d3b47",
   "metadata": {},
   "outputs": [
    {
     "data": {
      "text/plain": [
       "Pipeline(steps=[('scaling', StandardScaler()),\n",
       "                ('lasso_reg', Lasso(alpha=0.001, random_state=1))])"
      ]
     },
     "execution_count": 34,
     "metadata": {},
     "output_type": "execute_result"
    }
   ],
   "source": [
    "alpha = lasso_grid_search.best_params_['lasso__alpha']\n",
    "fit_intercept = lasso_grid_search.best_params_['lasso__fit_intercept']\n",
    "\n",
    "\n",
    "lasso_pipeline = Pipeline([\n",
    "    ('scaling', StandardScaler(with_mean=True, with_std=True)),\n",
    "    ('lasso_reg', Lasso(random_state=1, alpha=alpha, fit_intercept=fit_intercept))\n",
    "])\n",
    "\n",
    "lasso_pipeline.fit(X_train, y_train)"
   ]
  },
  {
   "cell_type": "code",
   "execution_count": 35,
   "id": "453c42a3",
   "metadata": {},
   "outputs": [
    {
     "data": {
      "text/plain": [
       "0.6065831805608592"
      ]
     },
     "execution_count": 35,
     "metadata": {},
     "output_type": "execute_result"
    }
   ],
   "source": [
    "lasso_pipeline.score(X_test, y_test)"
   ]
  },
  {
   "cell_type": "code",
   "execution_count": null,
   "id": "a1dc36f7",
   "metadata": {},
   "outputs": [],
   "source": []
  },
  {
   "cell_type": "code",
   "execution_count": null,
   "id": "e49c3083",
   "metadata": {},
   "outputs": [],
   "source": []
  }
 ],
 "metadata": {
  "kernelspec": {
   "display_name": "Python 3 (ipykernel)",
   "language": "python",
   "name": "python3"
  },
  "language_info": {
   "codemirror_mode": {
    "name": "ipython",
    "version": 3
   },
   "file_extension": ".py",
   "mimetype": "text/x-python",
   "name": "python",
   "nbconvert_exporter": "python",
   "pygments_lexer": "ipython3",
   "version": "3.9.7"
  }
 },
 "nbformat": 4,
 "nbformat_minor": 5
}
