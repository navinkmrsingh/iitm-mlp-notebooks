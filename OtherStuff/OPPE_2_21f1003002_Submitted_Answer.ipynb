{
 "cells": [
  {
   "cell_type": "markdown",
   "metadata": {
    "id": "FsEw40SmizCI"
   },
   "source": [
    "# MLP OPPE 2 Examination"
   ]
  },
  {
   "cell_type": "markdown",
   "metadata": {
    "id": "aD2pjlKgYfnC"
   },
   "source": [
    "## Que 1"
   ]
  },
  {
   "cell_type": "markdown",
   "metadata": {
    "id": "9EuTYOvczz56"
   },
   "source": [
    "Which dataset are you using for this exam?\n"
   ]
  },
  {
   "cell_type": "code",
   "execution_count": 1,
   "metadata": {
    "ExecuteTime": {
     "end_time": "2022-08-01T01:54:56.666112Z",
     "start_time": "2022-08-01T01:54:56.641116Z"
    },
    "colab": {
     "base_uri": "https://localhost:8080/"
    },
    "id": "24HJeUdGYhET",
    "outputId": "9a78a4ed-ca89-47c9-8683-f582150c96fc"
   },
   "outputs": [
    {
     "name": "stdout",
     "output_type": "stream",
     "text": [
      "oppe2_data_v2\n"
     ]
    }
   ],
   "source": [
    "import pandas as pd\n",
    "\n",
    "file_name = 'oppe2_data_v2.csv'\n",
    "\n",
    "df = pd.read_csv(file_name)\n",
    "\n",
    "print(file_name.replace('.csv', ''))"
   ]
  },
  {
   "cell_type": "markdown",
   "metadata": {
    "id": "NJTIVll4YoQD"
   },
   "source": [
    "## Que 2"
   ]
  },
  {
   "cell_type": "markdown",
   "metadata": {
    "id": "d3bgd31U0GjH"
   },
   "source": [
    "Which of the columns in the dataset have null values?"
   ]
  },
  {
   "cell_type": "code",
   "execution_count": 2,
   "metadata": {
    "ExecuteTime": {
     "end_time": "2022-08-01T01:54:56.682114Z",
     "start_time": "2022-08-01T01:54:56.668116Z"
    },
    "colab": {
     "base_uri": "https://localhost:8080/"
    },
    "id": "eTaIyRO-YoQF",
    "outputId": "c275bc12-a7ef-45b6-d9bf-1a4d7eb262c8"
   },
   "outputs": [
    {
     "name": "stdout",
     "output_type": "stream",
     "text": [
      "<class 'pandas.core.frame.DataFrame'>\n",
      "RangeIndex: 1500 entries, 0 to 1499\n",
      "Data columns (total 7 columns):\n",
      " #   Column      Non-Null Count  Dtype \n",
      "---  ------      --------------  ----- \n",
      " 0   Buying      1493 non-null   object\n",
      " 1   Maint       1500 non-null   object\n",
      " 2   Doors       1500 non-null   int64 \n",
      " 3   Persons     1500 non-null   int64 \n",
      " 4   Lug_boot    1500 non-null   object\n",
      " 5   Safety      1500 non-null   object\n",
      " 6   Evaluation  1500 non-null   object\n",
      "dtypes: int64(2), object(5)\n",
      "memory usage: 82.2+ KB\n"
     ]
    }
   ],
   "source": [
    "df.info()"
   ]
  },
  {
   "cell_type": "markdown",
   "metadata": {
    "id": "_AjLjgtwYoeE"
   },
   "source": [
    "## Que 3"
   ]
  },
  {
   "cell_type": "markdown",
   "metadata": {
    "id": "eVgPO1kN03Hg"
   },
   "source": [
    "What are the unique Lug_boot values mentioned in the dataset?"
   ]
  },
  {
   "cell_type": "code",
   "execution_count": 3,
   "metadata": {
    "ExecuteTime": {
     "end_time": "2022-08-01T01:54:56.698112Z",
     "start_time": "2022-08-01T01:54:56.684115Z"
    },
    "colab": {
     "base_uri": "https://localhost:8080/"
    },
    "id": "AkUHAXmuYoeG",
    "outputId": "31e70407-e2c1-414a-a60b-75e7ca8b60ae"
   },
   "outputs": [
    {
     "data": {
      "text/plain": [
       "array(['med', 'small', 'big'], dtype=object)"
      ]
     },
     "execution_count": 3,
     "metadata": {},
     "output_type": "execute_result"
    }
   ],
   "source": [
    "df.Lug_boot.unique()"
   ]
  },
  {
   "cell_type": "markdown",
   "metadata": {
    "id": "TNopt59wYozG"
   },
   "source": [
    "## Que 4"
   ]
  },
  {
   "cell_type": "markdown",
   "metadata": {
    "id": "hMCwiMk-1LRJ"
   },
   "source": [
    "Divide the dataset into X and y, where the column 'Evaluation' goes to y (labels) and the rest of the columns go to X (feature matrix). What is the distribution of unacc and acc classes in y?"
   ]
  },
  {
   "cell_type": "code",
   "execution_count": 4,
   "metadata": {
    "ExecuteTime": {
     "end_time": "2022-08-01T01:54:56.729113Z",
     "start_time": "2022-08-01T01:54:56.702116Z"
    },
    "colab": {
     "base_uri": "https://localhost:8080/"
    },
    "id": "xR5eoBNJYozH",
    "outputId": "483f7981-d978-400e-9ad8-acdae3c15061"
   },
   "outputs": [
    {
     "data": {
      "text/plain": [
       "unacc    1049\n",
       "acc       336\n",
       "good       60\n",
       "vgood      55\n",
       "Name: Evaluation, dtype: int64"
      ]
     },
     "execution_count": 4,
     "metadata": {},
     "output_type": "execute_result"
    }
   ],
   "source": [
    "X, y = df.iloc[:, df.columns != 'Evaluation'], df.Evaluation\n",
    "\n",
    "y.value_counts()"
   ]
  },
  {
   "cell_type": "markdown",
   "metadata": {
    "id": "TBsjUBPMYpAF"
   },
   "source": [
    "## Que 5"
   ]
  },
  {
   "cell_type": "markdown",
   "metadata": {
    "id": "Iwy32MnA1UHn"
   },
   "source": [
    "\n",
    "Apply SimpleImputer with strategy = 'most_frequent' to transform X. What is the data type of the transformed X?"
   ]
  },
  {
   "cell_type": "code",
   "execution_count": 5,
   "metadata": {
    "ExecuteTime": {
     "end_time": "2022-08-01T01:54:57.455113Z",
     "start_time": "2022-08-01T01:54:56.732115Z"
    },
    "colab": {
     "base_uri": "https://localhost:8080/"
    },
    "id": "Q-LdYac7YpAF",
    "outputId": "45e8e238-675d-47df-81ca-1c35d2fb99ab"
   },
   "outputs": [
    {
     "data": {
      "text/plain": [
       "numpy.ndarray"
      ]
     },
     "execution_count": 5,
     "metadata": {},
     "output_type": "execute_result"
    }
   ],
   "source": [
    "from sklearn.impute import SimpleImputer\n",
    "\n",
    "imptr = SimpleImputer(strategy='most_frequent')\n",
    "\n",
    "X = imptr.fit_transform(X)\n",
    "type(X)"
   ]
  },
  {
   "cell_type": "markdown",
   "metadata": {
    "id": "MSnWq7inYpLj"
   },
   "source": [
    "## Que 6"
   ]
  },
  {
   "cell_type": "markdown",
   "metadata": {
    "id": "qCEDtlpw1ZGS"
   },
   "source": [
    "If the X obtained in the previous question has any datatype other than DataFrame, convert it into DataFrame with columns being ['Buying', 'Maint', 'Doors', 'Persons', 'Lug_boot', 'Safety']. Do not change the order of the columns in X or order of column names. How many missing values are there in X now?"
   ]
  },
  {
   "cell_type": "code",
   "execution_count": 6,
   "metadata": {
    "ExecuteTime": {
     "end_time": "2022-08-01T01:54:57.471115Z",
     "start_time": "2022-08-01T01:54:57.458119Z"
    },
    "colab": {
     "base_uri": "https://localhost:8080/"
    },
    "id": "knm-E3nEYpLk",
    "outputId": "66db6fdb-f653-4f43-b4e1-d94e10cf79c3"
   },
   "outputs": [
    {
     "name": "stdout",
     "output_type": "stream",
     "text": [
      "<class 'pandas.core.frame.DataFrame'>\n",
      "RangeIndex: 1500 entries, 0 to 1499\n",
      "Data columns (total 6 columns):\n",
      " #   Column    Non-Null Count  Dtype \n",
      "---  ------    --------------  ----- \n",
      " 0   Buying    1500 non-null   object\n",
      " 1   Maint     1500 non-null   object\n",
      " 2   Doors     1500 non-null   object\n",
      " 3   Persons   1500 non-null   object\n",
      " 4   Lug_boot  1500 non-null   object\n",
      " 5   Safety    1500 non-null   object\n",
      "dtypes: object(6)\n",
      "memory usage: 70.4+ KB\n"
     ]
    }
   ],
   "source": [
    "X_df = pd.DataFrame(X, columns= ['Buying', 'Maint', 'Doors', \n",
    "                                 'Persons', 'Lug_boot', 'Safety'])\n",
    "X = X_df\n",
    "X.info()"
   ]
  },
  {
   "cell_type": "markdown",
   "metadata": {
    "id": "oXVlhz4cYpau"
   },
   "source": [
    "## Que 7"
   ]
  },
  {
   "cell_type": "markdown",
   "metadata": {
    "id": "5IpADd_F1dQC"
   },
   "source": [
    "Apply OneHotEncoder on the categorical features ['Buying', 'Maint', 'Lug_boot', 'Safety'] with option (sparse = False) and StandardScaler on the numerical features ['Doors', 'Persons'] of X. Let's call the outputs of the first and second operations respectively to be X1 and X2"
   ]
  },
  {
   "cell_type": "code",
   "execution_count": 7,
   "metadata": {
    "ExecuteTime": {
     "end_time": "2022-08-01T01:54:57.503116Z",
     "start_time": "2022-08-01T01:54:57.474115Z"
    },
    "colab": {
     "base_uri": "https://localhost:8080/"
    },
    "id": "XPA4tjhJYpau",
    "outputId": "fa1cfc99-faf4-4637-c0f8-b2aae39c87ce"
   },
   "outputs": [
    {
     "data": {
      "text/plain": [
       "(numpy.ndarray, numpy.ndarray)"
      ]
     },
     "execution_count": 7,
     "metadata": {},
     "output_type": "execute_result"
    }
   ],
   "source": [
    "from sklearn.compose import ColumnTransformer\n",
    "from sklearn.preprocessing import OneHotEncoder, StandardScaler\n",
    "\n",
    "ohe = OneHotEncoder(handle_unknown='ignore', sparse=False)\n",
    "scaler = StandardScaler()\n",
    "\n",
    "ct_cat = ColumnTransformer([\n",
    "    ('ohe', ohe,  ['Buying', 'Maint', 'Lug_boot', 'Safety'])\n",
    "])\n",
    "\n",
    "ct_num = ColumnTransformer([\n",
    "    ('scale', scaler, ['Doors', 'Persons'] )\n",
    "])\n",
    "\n",
    "X1 = ct_cat.fit_transform(X)\n",
    "X2 = ct_num.fit_transform(X)\n",
    "\n",
    "type(X1), type(X2)"
   ]
  },
  {
   "cell_type": "markdown",
   "metadata": {
    "id": "WEYlKyD6Ypob"
   },
   "source": [
    "## Que 8"
   ]
  },
  {
   "cell_type": "markdown",
   "metadata": {
    "id": "ZUxVcqnF1ht2"
   },
   "source": [
    "Concatenate X1 and X2 (in that order) and call it X.\n",
    "\n",
    "Hint and note: Keep axis = 1.\n",
    "\n",
    "Convert X to a dataframe. What is the shape of resultant X. Do not worry about the column names of this new dataframe."
   ]
  },
  {
   "cell_type": "code",
   "execution_count": 8,
   "metadata": {
    "ExecuteTime": {
     "end_time": "2022-08-01T01:54:57.519114Z",
     "start_time": "2022-08-01T01:54:57.505115Z"
    },
    "colab": {
     "base_uri": "https://localhost:8080/"
    },
    "id": "g2SmjUxSYpob",
    "outputId": "ef3fd3c0-6986-44e5-f62a-b93f899fd582"
   },
   "outputs": [
    {
     "data": {
      "text/plain": [
       "(1500, 16)"
      ]
     },
     "execution_count": 8,
     "metadata": {},
     "output_type": "execute_result"
    }
   ],
   "source": [
    "X1 = pd.DataFrame(X1)\n",
    "X2 = pd.DataFrame(X2)\n",
    "X_con = pd.concat([X1, X2], axis=1)\n",
    "X = X_con\n",
    "X.shape"
   ]
  },
  {
   "cell_type": "markdown",
   "metadata": {
    "id": "auAKncpsYrde"
   },
   "source": [
    "## Que 9"
   ]
  },
  {
   "cell_type": "markdown",
   "metadata": {
    "id": "okJ85jS_1lJy"
   },
   "source": [
    "Split the dataset into training and test dataset into 80:20 ratio while keeping random_state =32. what is the shape of the X_train dataset?"
   ]
  },
  {
   "cell_type": "code",
   "execution_count": 9,
   "metadata": {
    "ExecuteTime": {
     "end_time": "2022-08-01T01:54:57.535117Z",
     "start_time": "2022-08-01T01:54:57.523121Z"
    },
    "colab": {
     "base_uri": "https://localhost:8080/"
    },
    "id": "ISFi4EwtYrdg",
    "outputId": "b7a407e7-e92e-44c6-fccf-aa4c02e0f903"
   },
   "outputs": [
    {
     "data": {
      "text/plain": [
       "(1200, 16)"
      ]
     },
     "execution_count": 9,
     "metadata": {},
     "output_type": "execute_result"
    }
   ],
   "source": [
    "from sklearn.model_selection import train_test_split\n",
    "\n",
    "X_train, X_test, y_train, y_test = train_test_split(X, y, test_size=0.2, random_state=32)\n",
    "\n",
    "X_train.shape"
   ]
  },
  {
   "cell_type": "markdown",
   "metadata": {
    "id": "r45IVOWgYrdg"
   },
   "source": [
    "## Que 10"
   ]
  },
  {
   "cell_type": "markdown",
   "metadata": {
    "id": "HAnWlR7p1oII"
   },
   "source": [
    "Instantiate a perceptron classifier with following parameters:\n",
    "random_state = 32 \n",
    "learning rate = 1 (eta0=1)\n",
    "Train for 10 iterations (epoch) (max_iter=10)\n",
    "Do not shuffle the dataset for each epoch (iteration).\n",
    "Use 20% of the data for validation fraction .\n",
    "Do not apply regularization.\n",
    "Set fit_intercept to be True,\n",
    "Set warm start to false .\n",
    "Train the classifier on the training data.\n",
    "\n",
    "What is the value of the coefficient of the 2nd feature for the first class. Note that the index of the classes and features start counting from 0."
   ]
  },
  {
   "cell_type": "code",
   "execution_count": 10,
   "metadata": {
    "ExecuteTime": {
     "end_time": "2022-08-01T01:54:57.567113Z",
     "start_time": "2022-08-01T01:54:57.539115Z"
    },
    "colab": {
     "base_uri": "https://localhost:8080/"
    },
    "id": "_V4tSSCUYrdh",
    "outputId": "444fcf5f-057d-4535-c81a-5e5b646de96f"
   },
   "outputs": [
    {
     "name": "stdout",
     "output_type": "stream",
     "text": [
      "-3.0\n"
     ]
    },
    {
     "name": "stderr",
     "output_type": "stream",
     "text": [
      "C:\\ProgramData\\Anaconda3\\lib\\site-packages\\sklearn\\linear_model\\_stochastic_gradient.py:696: ConvergenceWarning: Maximum number of iteration reached before convergence. Consider increasing max_iter to improve the fit.\n",
      "  warnings.warn(\n"
     ]
    }
   ],
   "source": [
    "from sklearn.linear_model import Perceptron\n",
    "\n",
    "percp = Perceptron(random_state=32, \n",
    "                   eta0=1, \n",
    "                   max_iter=10, \n",
    "                   shuffle=False, \n",
    "                   validation_fraction=0.2, \n",
    "                   penalty=None,\n",
    "                   fit_intercept=True,\n",
    "                   warm_start=False)\n",
    "percp.fit(X_train, y_train)\n",
    "print(percp.coef_[0][1])"
   ]
  },
  {
   "cell_type": "markdown",
   "metadata": {
    "id": "aXKv5R9WYrdh"
   },
   "source": [
    "## Que 11"
   ]
  },
  {
   "cell_type": "markdown",
   "metadata": {
    "id": "7YK1arbK1sA5"
   },
   "source": [
    "Apply logistic regression using SGDClassifier on the training dataset (X_train and y_train). Use the following parameters:\n",
    "\n",
    "  * Apply appropriate loss value (i.e. log)\n",
    "\n",
    "  * apply ridge regularization,\n",
    "\n",
    "  * maximum number of passes over the training data is 10\n",
    "\n",
    "  * initial learning rate is 0.01,\n",
    "\n",
    "  * regularization rate value is 0.001,\n",
    "\n",
    "  * learning rate should not change during training.\n",
    "\n",
    "  * Take random_state=32.\n",
    "\n",
    "Based on this operation, calculate and mark the correct value of mean accuracy computed from score(X_train,y_train) (Upto 4 decimal points) from the given set of options.\n",
    "\n",
    "Note : Please ignore the convergence warning."
   ]
  },
  {
   "cell_type": "code",
   "execution_count": 11,
   "metadata": {
    "ExecuteTime": {
     "end_time": "2022-08-01T01:54:57.613112Z",
     "start_time": "2022-08-01T01:54:57.570116Z"
    },
    "colab": {
     "base_uri": "https://localhost:8080/"
    },
    "id": "kPkGFTbfYrdh",
    "outputId": "716d65db-1f6e-41bb-bb22-c534b0a4c14e"
   },
   "outputs": [
    {
     "name": "stdout",
     "output_type": "stream",
     "text": [
      "0.8\n"
     ]
    },
    {
     "name": "stderr",
     "output_type": "stream",
     "text": [
      "C:\\ProgramData\\Anaconda3\\lib\\site-packages\\sklearn\\linear_model\\_stochastic_gradient.py:696: ConvergenceWarning: Maximum number of iteration reached before convergence. Consider increasing max_iter to improve the fit.\n",
      "  warnings.warn(\n"
     ]
    }
   ],
   "source": [
    "from sklearn.linear_model import SGDClassifier\n",
    "\n",
    "sgdc = SGDClassifier(loss='log',\n",
    "                     penalty='l2',\n",
    "                     max_iter=10,\n",
    "                     eta0=0.01,\n",
    "                     alpha=0.001,\n",
    "                     learning_rate='constant',\n",
    "                     random_state=32)\n",
    "\n",
    "sgdc.fit(X_train, y_train)\n",
    "print(sgdc.score(X_train, y_train))"
   ]
  },
  {
   "cell_type": "markdown",
   "metadata": {
    "id": "L1f6tplgYrdh"
   },
   "source": [
    "## Que 12"
   ]
  },
  {
   "cell_type": "markdown",
   "metadata": {
    "id": "o_hdHEZD1v6d"
   },
   "source": [
    "Use LogisticRegression with RandomizedSearchCV for fitting on the training dataset. \n",
    "For Logistic regression, use \n",
    "* Saga solver, \n",
    "* random state to be equal to 32, \n",
    "* tolerance for stopping criteria to be 1e-2, and \n",
    "* maximum number of iterations taken for the solvers to converge to be 200.\n",
    "\n",
    "* Penalties to be tried out are L1 and L2. \n",
    "* Regularization strength (inverse of regularization rate) to be tried out is [0.5, 1.0, 1.5, 2.0, 2.5, 3, 3.5, 4]\n",
    "\n",
    "Search best values of ***C and penalty*** and mark the correct option from the following statements. For randomizedsearchCV also, take \n",
    "* random state = 32"
   ]
  },
  {
   "cell_type": "code",
   "execution_count": 12,
   "metadata": {
    "ExecuteTime": {
     "end_time": "2022-08-01T01:54:58.551117Z",
     "start_time": "2022-08-01T01:54:57.615116Z"
    },
    "colab": {
     "base_uri": "https://localhost:8080/"
    },
    "id": "5IuMAXLcYrdi",
    "outputId": "743cf873-f97e-43a2-e21d-439e94d346e5"
   },
   "outputs": [
    {
     "data": {
      "text/plain": [
       "LogisticRegression(C=3.5, max_iter=200, penalty='l1', random_state=32,\n",
       "                   solver='saga', tol=0.01)"
      ]
     },
     "execution_count": 12,
     "metadata": {},
     "output_type": "execute_result"
    }
   ],
   "source": [
    "from sklearn.linear_model import LogisticRegression\n",
    "from sklearn.model_selection import RandomizedSearchCV\n",
    "\n",
    "log_reg = LogisticRegression(solver='saga', random_state=32, \n",
    "                             tol=1e-2, max_iter=200)\n",
    "\n",
    "params = {\n",
    "    'penalty': ['l1', 'l2'],\n",
    "    'C': [0.5, 1.0, 1.5, 2.0, 2.5, 3, 3.5, 4]\n",
    "}\n",
    "\n",
    "rscv = RandomizedSearchCV(log_reg, params, random_state=32)\n",
    "rscv_search = rscv.fit(X_train, y_train)\n",
    "rscv_search.best_estimator_"
   ]
  },
  {
   "cell_type": "markdown",
   "metadata": {
    "id": "-q0mvcDDYrdi"
   },
   "source": [
    "## Que 13"
   ]
  },
  {
   "cell_type": "markdown",
   "metadata": {
    "id": "50LtO4oA1zaN"
   },
   "source": [
    "Apply GridsearchCV and support vector classifier (SVC)(kernel':('linear', 'rbf'), 'C':[1, 10]) on the training dataset X_train, y_train and calculate the best value of C and kernel.\n",
    "\n",
    "'use random_state = 32 for SVC'"
   ]
  },
  {
   "cell_type": "code",
   "execution_count": 25,
   "metadata": {
    "ExecuteTime": {
     "end_time": "2022-08-01T01:57:08.873305Z",
     "start_time": "2022-08-01T01:57:07.929307Z"
    },
    "colab": {
     "base_uri": "https://localhost:8080/"
    },
    "id": "7mpYcUxsYrdi",
    "outputId": "9499cb46-f34b-42ee-d628-35ab3565fb31"
   },
   "outputs": [
    {
     "name": "stdout",
     "output_type": "stream",
     "text": [
      "Fitting 5 folds for each of 4 candidates, totalling 20 fits\n",
      "[CV 1/5; 1/4] START C=1, kernel=linear..........................................\n",
      "[CV 1/5; 1/4] END ...........C=1, kernel=linear;, score=0.900 total time=   0.0s\n",
      "[CV 2/5; 1/4] START C=1, kernel=linear..........................................\n",
      "[CV 2/5; 1/4] END ...........C=1, kernel=linear;, score=0.875 total time=   0.0s\n",
      "[CV 3/5; 1/4] START C=1, kernel=linear..........................................\n",
      "[CV 3/5; 1/4] END ...........C=1, kernel=linear;, score=0.892 total time=   0.0s\n",
      "[CV 4/5; 1/4] START C=1, kernel=linear..........................................\n",
      "[CV 4/5; 1/4] END ...........C=1, kernel=linear;, score=0.863 total time=   0.0s\n",
      "[CV 5/5; 1/4] START C=1, kernel=linear..........................................\n",
      "[CV 5/5; 1/4] END ...........C=1, kernel=linear;, score=0.854 total time=   0.0s\n",
      "[CV 1/5; 2/4] START C=1, kernel=rbf.............................................\n",
      "[CV 1/5; 2/4] END ..............C=1, kernel=rbf;, score=0.971 total time=   0.0s\n",
      "[CV 2/5; 2/4] START C=1, kernel=rbf.............................................\n",
      "[CV 2/5; 2/4] END ..............C=1, kernel=rbf;, score=0.967 total time=   0.0s\n",
      "[CV 3/5; 2/4] START C=1, kernel=rbf.............................................\n",
      "[CV 3/5; 2/4] END ..............C=1, kernel=rbf;, score=0.963 total time=   0.0s\n",
      "[CV 4/5; 2/4] START C=1, kernel=rbf.............................................\n",
      "[CV 4/5; 2/4] END ..............C=1, kernel=rbf;, score=0.979 total time=   0.0s\n",
      "[CV 5/5; 2/4] START C=1, kernel=rbf.............................................\n",
      "[CV 5/5; 2/4] END ..............C=1, kernel=rbf;, score=0.950 total time=   0.0s\n",
      "[CV 1/5; 3/4] START C=10, kernel=linear.........................................\n",
      "[CV 1/5; 3/4] END ..........C=10, kernel=linear;, score=0.900 total time=   0.0s\n",
      "[CV 2/5; 3/4] START C=10, kernel=linear.........................................\n",
      "[CV 2/5; 3/4] END ..........C=10, kernel=linear;, score=0.892 total time=   0.0s\n",
      "[CV 3/5; 3/4] START C=10, kernel=linear.........................................\n",
      "[CV 3/5; 3/4] END ..........C=10, kernel=linear;, score=0.904 total time=   0.0s\n",
      "[CV 4/5; 3/4] START C=10, kernel=linear.........................................\n",
      "[CV 4/5; 3/4] END ..........C=10, kernel=linear;, score=0.854 total time=   0.0s\n",
      "[CV 5/5; 3/4] START C=10, kernel=linear.........................................\n",
      "[CV 5/5; 3/4] END ..........C=10, kernel=linear;, score=0.875 total time=   0.0s\n",
      "[CV 1/5; 4/4] START C=10, kernel=rbf............................................\n",
      "[CV 1/5; 4/4] END .............C=10, kernel=rbf;, score=0.983 total time=   0.0s\n",
      "[CV 2/5; 4/4] START C=10, kernel=rbf............................................\n",
      "[CV 2/5; 4/4] END .............C=10, kernel=rbf;, score=0.983 total time=   0.0s\n",
      "[CV 3/5; 4/4] START C=10, kernel=rbf............................................\n",
      "[CV 3/5; 4/4] END .............C=10, kernel=rbf;, score=0.988 total time=   0.0s\n",
      "[CV 4/5; 4/4] START C=10, kernel=rbf............................................\n",
      "[CV 4/5; 4/4] END .............C=10, kernel=rbf;, score=0.996 total time=   0.0s\n",
      "[CV 5/5; 4/4] START C=10, kernel=rbf............................................\n",
      "[CV 5/5; 4/4] END .............C=10, kernel=rbf;, score=0.979 total time=   0.0s\n"
     ]
    },
    {
     "data": {
      "text/plain": [
       "{'mean_fit_time': array([0.02479835, 0.03859701, 0.03919768, 0.03419895]),\n",
       " 'std_fit_time': array([0.00159866, 0.00135733, 0.00117452, 0.00097938]),\n",
       " 'mean_score_time': array([0.00440445, 0.01420813, 0.00420003, 0.01180158]),\n",
       " 'std_score_time': array([0.00048595, 0.00039667, 0.00040112, 0.00075097]),\n",
       " 'param_C': masked_array(data=[1, 1, 10, 10],\n",
       "              mask=[False, False, False, False],\n",
       "        fill_value='?',\n",
       "             dtype=object),\n",
       " 'param_kernel': masked_array(data=['linear', 'rbf', 'linear', 'rbf'],\n",
       "              mask=[False, False, False, False],\n",
       "        fill_value='?',\n",
       "             dtype=object),\n",
       " 'params': [{'C': 1, 'kernel': 'linear'},\n",
       "  {'C': 1, 'kernel': 'rbf'},\n",
       "  {'C': 10, 'kernel': 'linear'},\n",
       "  {'C': 10, 'kernel': 'rbf'}],\n",
       " 'split0_test_score': array([0.9       , 0.97083333, 0.9       , 0.98333333]),\n",
       " 'split1_test_score': array([0.875     , 0.96666667, 0.89166667, 0.98333333]),\n",
       " 'split2_test_score': array([0.89166667, 0.9625    , 0.90416667, 0.9875    ]),\n",
       " 'split3_test_score': array([0.8625    , 0.97916667, 0.85416667, 0.99583333]),\n",
       " 'split4_test_score': array([0.85416667, 0.95      , 0.875     , 0.97916667]),\n",
       " 'mean_test_score': array([0.87666667, 0.96583333, 0.885     , 0.98583333]),\n",
       " 'std_test_score': array([0.01719981, 0.00964653, 0.01837117, 0.00565194]),\n",
       " 'rank_test_score': array([4, 2, 3, 1])}"
      ]
     },
     "execution_count": 25,
     "metadata": {},
     "output_type": "execute_result"
    }
   ],
   "source": [
    "from sklearn.svm import SVC\n",
    "from sklearn.model_selection import GridSearchCV\n",
    "\n",
    "svc = SVC(random_state=32)\n",
    "params = {\n",
    "    'kernel': ['linear', 'rbf'],\n",
    "    'C': [1, 10]\n",
    "}\n",
    "\n",
    "gcv = GridSearchCV(svc, param_grid = params, verbose=10)\n",
    "\n",
    "gcv_search = gcv.fit(X_train, y_train)\n",
    "gcv_search.best_estimator_\n",
    "gcv_search.cv_results_"
   ]
  },
  {
   "cell_type": "markdown",
   "metadata": {
    "id": "-9WCldTAYrdi"
   },
   "source": [
    "## Que 14"
   ]
  },
  {
   "cell_type": "markdown",
   "metadata": {
    "id": "z0yq4rIa148q"
   },
   "source": [
    "**(Common Instruction for Q14 - Q15 )**\n",
    "\n",
    "Use grid search with cross validation (GridSearchCV) on training set with KNeighborsClassifier as the estimator, 'accuracy' as scoring parameter, \n",
    "* cv value as 4 and \n",
    "* consider [1,3,5,7] as \"number of neighbors\" to be examined.\n",
    "\n",
    "Consider following parameters for KNeighborsClassifier:\n",
    "* Take metric as 'minkowski',\n",
    "* Set P value as 2\n",
    "keep other parameter value as default value.\n",
    "\n",
    "\n",
    "What is the best value of K you obtained using above instructions?"
   ]
  },
  {
   "cell_type": "code",
   "execution_count": 14,
   "metadata": {
    "ExecuteTime": {
     "end_time": "2022-08-01T01:54:59.851114Z",
     "start_time": "2022-08-01T01:54:59.521127Z"
    },
    "colab": {
     "base_uri": "https://localhost:8080/"
    },
    "id": "XDQTgcJ5Yrdi",
    "outputId": "23613471-6ead-499b-daf1-f469aa1f9d58"
   },
   "outputs": [
    {
     "data": {
      "text/plain": [
       "KNeighborsClassifier(n_neighbors=7)"
      ]
     },
     "execution_count": 14,
     "metadata": {},
     "output_type": "execute_result"
    }
   ],
   "source": [
    "from sklearn.neighbors import KNeighborsClassifier\n",
    "\n",
    "knn = KNeighborsClassifier(metric='minkowski', p=2)\n",
    "\n",
    "params = {\n",
    "    'n_neighbors': [1,3,5,7],\n",
    "}\n",
    "\n",
    "gscvk = GridSearchCV(knn, param_grid=params, cv=4)\n",
    "\n",
    "gscvk_search = gscvk.fit(X_train, y_train)\n",
    "gscvk_search.best_estimator_"
   ]
  },
  {
   "cell_type": "markdown",
   "metadata": {
    "id": "QDCCUHH2Yrdj"
   },
   "source": [
    "## Que 15"
   ]
  },
  {
   "cell_type": "markdown",
   "metadata": {
    "id": "x4b_nlc-17x1"
   },
   "source": [
    "What is the value of best accuracy score from grid search cv?"
   ]
  },
  {
   "cell_type": "code",
   "execution_count": 15,
   "metadata": {
    "ExecuteTime": {
     "end_time": "2022-08-01T01:54:59.867113Z",
     "start_time": "2022-08-01T01:54:59.853114Z"
    },
    "colab": {
     "base_uri": "https://localhost:8080/"
    },
    "id": "m8Mn9i22Yrdj",
    "outputId": "4c443ba3-9d6e-426e-8b93-0c161ff8a6f6"
   },
   "outputs": [
    {
     "data": {
      "text/plain": [
       "0.9083333333333334"
      ]
     },
     "execution_count": 15,
     "metadata": {},
     "output_type": "execute_result"
    }
   ],
   "source": [
    "gscvk_search.best_score_"
   ]
  },
  {
   "cell_type": "markdown",
   "metadata": {
    "id": "7RjuAfH0Yrdj"
   },
   "source": [
    "## Que 16"
   ]
  },
  {
   "cell_type": "markdown",
   "metadata": {
    "id": "IOaCfXoj2Dvj"
   },
   "source": [
    "\n",
    "**Common Instructions for Q16-Q18**\n",
    "\n",
    "Train the model using Decision Tree Classifier on training set. Set following parameters:\n",
    "\n",
    "Take \n",
    "* criterion as 'gini',\n",
    "* Set strategy to choose the split at each node as 'random',\n",
    "* minimum number of samples required to split an internal node = 5,\n",
    "* min_impurity_decrease = 0.001,\n",
    "* Use random_state = 32\n",
    "\n",
    "What is the mean accuracy score on test data upto 3 decimal places?"
   ]
  },
  {
   "cell_type": "code",
   "execution_count": 16,
   "metadata": {
    "ExecuteTime": {
     "end_time": "2022-08-01T01:54:59.898114Z",
     "start_time": "2022-08-01T01:54:59.869115Z"
    },
    "colab": {
     "base_uri": "https://localhost:8080/"
    },
    "id": "_SiowIEAYrdj",
    "outputId": "fff8078b-5bc1-49a4-ff55-7eee0a0cc2ed"
   },
   "outputs": [
    {
     "data": {
      "text/plain": [
       "0.9666666666666667"
      ]
     },
     "execution_count": 16,
     "metadata": {},
     "output_type": "execute_result"
    }
   ],
   "source": [
    "from sklearn.tree import DecisionTreeClassifier\n",
    "\n",
    "dtc = DecisionTreeClassifier(criterion='gini',\n",
    "                             splitter='random',\n",
    "                             min_samples_split=5,\n",
    "                             min_impurity_decrease=0.001,\n",
    "                             random_state=32)\n",
    "\n",
    "dtc.fit(X_train, y_train)\n",
    "dtc.score(X_test, y_test)"
   ]
  },
  {
   "cell_type": "markdown",
   "metadata": {
    "id": "5igU5lXHYr6U"
   },
   "source": [
    "## Que 17"
   ]
  },
  {
   "cell_type": "markdown",
   "metadata": {
    "id": "F4LHKqzv2KPX"
   },
   "source": [
    "What is the resultant depth of the tree?"
   ]
  },
  {
   "cell_type": "code",
   "execution_count": null,
   "metadata": {
    "id": "S2ghOoNJYr6V"
   },
   "outputs": [],
   "source": []
  },
  {
   "cell_type": "markdown",
   "metadata": {
    "id": "_yqohGXtYr6W"
   },
   "source": [
    "## Que 18"
   ]
  },
  {
   "cell_type": "markdown",
   "metadata": {
    "id": "mEMNxcs62Mui"
   },
   "source": [
    "Visualize this tree model. What is the value of gini impurity at the right child of root?"
   ]
  },
  {
   "cell_type": "code",
   "execution_count": 17,
   "metadata": {
    "ExecuteTime": {
     "end_time": "2022-08-01T01:54:59.914113Z",
     "start_time": "2022-08-01T01:54:59.899116Z"
    },
    "id": "XGStUgE3Yr6W"
   },
   "outputs": [],
   "source": [
    "dtc.tree_\n",
    "dtc?"
   ]
  },
  {
   "cell_type": "markdown",
   "metadata": {
    "id": "DPjWDFO1Yr6W"
   },
   "source": [
    "## Que 19"
   ]
  },
  {
   "cell_type": "markdown",
   "metadata": {
    "id": "rIsfbklT2O66"
   },
   "source": [
    "Take RandomForestClassifier \n",
    "* (random state to be 32) \n",
    "\n",
    "with GridSearchCV to tune the number of decision trees with training set. \n",
    "* The number of trees in forest can range from 10 to 15 (both inclusive). \n",
    "\n",
    "Mark the number of decision trees that will produce the best score on the training data."
   ]
  },
  {
   "cell_type": "code",
   "execution_count": 18,
   "metadata": {
    "ExecuteTime": {
     "end_time": "2022-08-01T01:55:00.862140Z",
     "start_time": "2022-08-01T01:54:59.916115Z"
    },
    "colab": {
     "base_uri": "https://localhost:8080/"
    },
    "id": "NjcgaGroYr6W",
    "outputId": "dbcc5cba-1502-49fa-9208-5ff31fd38f5e"
   },
   "outputs": [
    {
     "data": {
      "text/plain": [
       "RandomForestClassifier(n_estimators=15, random_state=32)"
      ]
     },
     "execution_count": 18,
     "metadata": {},
     "output_type": "execute_result"
    }
   ],
   "source": [
    "from typing_extensions import ParamSpecKwargs\n",
    "from sklearn.ensemble import RandomForestClassifier\n",
    "\n",
    "rfc = RandomForestClassifier(random_state=32)\n",
    "\n",
    "params = {\n",
    "    'n_estimators' : [10, 11, 12, 13, 14, 15],\n",
    "}\n",
    "\n",
    "rfgscv = GridSearchCV(rfc, param_grid=params)\n",
    "\n",
    "rfc_search = rfgscv.fit(X_train, y_train)\n",
    "rfc_search.best_estimator_"
   ]
  },
  {
   "cell_type": "markdown",
   "metadata": {
    "id": "FQapaX4hYr6X"
   },
   "source": [
    "## Que 20"
   ]
  },
  {
   "cell_type": "markdown",
   "metadata": {
    "id": "eTVG4VNX2RQ6"
   },
   "source": [
    "Train a separate BaggingClassifier on training set with each one of the following as base estimator: \n",
    "* support vector classifier (SVC), \n",
    "* LogisticRegression, \n",
    "* KNeighborsClassifier and \n",
    "* DecisionTreeClassifier. \n",
    "\n",
    "Measure accuracy score on test set with each of these bagging classifiers. Which base estimator yields the highest accuracy score on test data?\n",
    "\n",
    "Take \n",
    "* random_state as 32 and \n",
    "* n_estimators value as 15 \n",
    "\n",
    "for BaggingClassifier with each base estimator.\n",
    "\n",
    "Take random_state as 32 individually for each of the following: support vector classifier(SVC), DecisionTreeClassifier and LogisticRegression."
   ]
  },
  {
   "cell_type": "code",
   "execution_count": 19,
   "metadata": {
    "ExecuteTime": {
     "end_time": "2022-08-01T01:55:01.464146Z",
     "start_time": "2022-08-01T01:55:00.865119Z"
    },
    "colab": {
     "base_uri": "https://localhost:8080/"
    },
    "id": "gLoG-MrNYr6X",
    "outputId": "20086f24-6a95-46e9-f9f6-5fa4dfa21b47"
   },
   "outputs": [
    {
     "data": {
      "text/plain": [
       "0.9866666666666667"
      ]
     },
     "execution_count": 19,
     "metadata": {},
     "output_type": "execute_result"
    }
   ],
   "source": [
    "from sklearn.ensemble import BaggingClassifier\n",
    "\n",
    "svc = SVC()\n",
    "bcSvc = BaggingClassifier(svc, random_state=32, n_estimators=15)\n",
    "bcSvc.fit(X_train, y_train).score(X_test, y_test)"
   ]
  },
  {
   "cell_type": "code",
   "execution_count": 20,
   "metadata": {
    "ExecuteTime": {
     "end_time": "2022-08-01T01:55:02.419115Z",
     "start_time": "2022-08-01T01:55:01.466119Z"
    },
    "colab": {
     "base_uri": "https://localhost:8080/"
    },
    "id": "Q0SDg_DVMs5i",
    "outputId": "89612010-4300-4002-8c83-c64bb85fcd4c"
   },
   "outputs": [
    {
     "name": "stderr",
     "output_type": "stream",
     "text": [
      "C:\\ProgramData\\Anaconda3\\lib\\site-packages\\sklearn\\linear_model\\_logistic.py:814: ConvergenceWarning: lbfgs failed to converge (status=1):\n",
      "STOP: TOTAL NO. of ITERATIONS REACHED LIMIT.\n",
      "\n",
      "Increase the number of iterations (max_iter) or scale the data as shown in:\n",
      "    https://scikit-learn.org/stable/modules/preprocessing.html\n",
      "Please also refer to the documentation for alternative solver options:\n",
      "    https://scikit-learn.org/stable/modules/linear_model.html#logistic-regression\n",
      "  n_iter_i = _check_optimize_result(\n"
     ]
    },
    {
     "data": {
      "text/plain": [
       "0.8666666666666667"
      ]
     },
     "execution_count": 20,
     "metadata": {},
     "output_type": "execute_result"
    }
   ],
   "source": [
    "from sklearn.linear_model import LogisticRegression\n",
    "\n",
    "lr = LogisticRegression()\n",
    "bcLr = BaggingClassifier(lr, random_state=32, n_estimators=15)\n",
    "bcLr.fit(X_train, y_train).score(X_test, y_test)"
   ]
  },
  {
   "cell_type": "code",
   "execution_count": 21,
   "metadata": {
    "ExecuteTime": {
     "end_time": "2022-08-01T01:55:02.611114Z",
     "start_time": "2022-08-01T01:55:02.421119Z"
    },
    "colab": {
     "base_uri": "https://localhost:8080/"
    },
    "id": "mZmkehqcNp_r",
    "outputId": "e23d4fdb-e448-416e-c298-5cf95b6e73a0"
   },
   "outputs": [
    {
     "data": {
      "text/plain": [
       "0.9366666666666666"
      ]
     },
     "execution_count": 21,
     "metadata": {},
     "output_type": "execute_result"
    }
   ],
   "source": [
    "knn = KNeighborsClassifier()\n",
    "bcKNN = BaggingClassifier(knn, random_state=32, n_estimators=15)\n",
    "bcKNN.fit(X_train, y_train).score(X_test, y_test)"
   ]
  },
  {
   "cell_type": "code",
   "execution_count": 22,
   "metadata": {
    "ExecuteTime": {
     "end_time": "2022-08-01T01:55:02.673113Z",
     "start_time": "2022-08-01T01:55:02.613118Z"
    },
    "colab": {
     "base_uri": "https://localhost:8080/"
    },
    "id": "GFQ3Qz8xN2-G",
    "outputId": "7b0fbf3e-d127-4ca6-bb1e-c322a7aa187c"
   },
   "outputs": [
    {
     "data": {
      "text/plain": [
       "0.9833333333333333"
      ]
     },
     "execution_count": 22,
     "metadata": {},
     "output_type": "execute_result"
    }
   ],
   "source": [
    "dtc = DecisionTreeClassifier()\n",
    "bcDtc = BaggingClassifier(dtc, random_state=32, n_estimators=15)\n",
    "bcDtc.fit(X_train, y_train).score(X_test, y_test)"
   ]
  }
 ],
 "metadata": {
  "colab": {
   "collapsed_sections": [],
   "name": "Copy of MLP_OPPE_2_21f1003002.ipynb",
   "provenance": []
  },
  "kernelspec": {
   "display_name": "Python 3 (ipykernel)",
   "language": "python",
   "name": "python3"
  },
  "language_info": {
   "codemirror_mode": {
    "name": "ipython",
    "version": 3
   },
   "file_extension": ".py",
   "mimetype": "text/x-python",
   "name": "python",
   "nbconvert_exporter": "python",
   "pygments_lexer": "ipython3",
   "version": "3.9.7"
  }
 },
 "nbformat": 4,
 "nbformat_minor": 1
}
