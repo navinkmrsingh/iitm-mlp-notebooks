{
 "cells": [
  {
   "cell_type": "code",
   "execution_count": 1,
   "id": "a19b7f58",
   "metadata": {
    "ExecuteTime": {
     "end_time": "2022-07-27T07:43:44.923732Z",
     "start_time": "2022-07-27T07:43:43.233737Z"
    }
   },
   "outputs": [],
   "source": [
    "import numpy as np\n",
    "import pandas as pd\n",
    "import matplotlib.pyplot as plt\n",
    "import seaborn as sns\n",
    "# rs=32 "
   ]
  },
  {
   "cell_type": "markdown",
   "id": "b97ceaa3",
   "metadata": {},
   "source": [
    "### Q1"
   ]
  },
  {
   "cell_type": "code",
   "execution_count": 2,
   "id": "8130bf80",
   "metadata": {
    "ExecuteTime": {
     "end_time": "2022-07-27T07:43:44.939736Z",
     "start_time": "2022-07-27T07:43:44.925734Z"
    }
   },
   "outputs": [
    {
     "name": "stdout",
     "output_type": "stream",
     "text": [
      "v4\n"
     ]
    }
   ],
   "source": [
    "print('v4')"
   ]
  },
  {
   "cell_type": "markdown",
   "id": "8a535a31",
   "metadata": {},
   "source": [
    "### Q2"
   ]
  },
  {
   "cell_type": "code",
   "execution_count": 3,
   "id": "b6afaed4",
   "metadata": {
    "ExecuteTime": {
     "end_time": "2022-07-27T07:43:44.971744Z",
     "start_time": "2022-07-27T07:43:44.941737Z"
    }
   },
   "outputs": [
    {
     "data": {
      "text/plain": [
       "(1000, 19)"
      ]
     },
     "execution_count": 3,
     "metadata": {},
     "output_type": "execute_result"
    }
   ],
   "source": [
    "df = pd.read_csv('oppe1_data_v4.csv')\n",
    "df.shape"
   ]
  },
  {
   "cell_type": "markdown",
   "id": "36faee60",
   "metadata": {},
   "source": [
    "### Q3 & 4"
   ]
  },
  {
   "cell_type": "code",
   "execution_count": 4,
   "id": "617e4f87",
   "metadata": {
    "ExecuteTime": {
     "end_time": "2022-07-27T07:43:45.003735Z",
     "start_time": "2022-07-27T07:43:44.976735Z"
    }
   },
   "outputs": [
    {
     "name": "stdout",
     "output_type": "stream",
     "text": [
      "<class 'pandas.core.frame.DataFrame'>\n",
      "RangeIndex: 1000 entries, 0 to 999\n",
      "Data columns (total 19 columns):\n",
      " #   Column                           Non-Null Count  Dtype  \n",
      "---  ------                           --------------  -----  \n",
      " 0   Country                          1000 non-null   object \n",
      " 1   Status                           1000 non-null   object \n",
      " 2   Life_expectancy                  995 non-null    float64\n",
      " 3   Adult_Mortality                  995 non-null    float64\n",
      " 4   infant_deaths                    1000 non-null   int64  \n",
      " 5   Alcohol                          950 non-null    float64\n",
      " 6   percentage_expenditure           1000 non-null   float64\n",
      " 7   Hepatitis_B                      828 non-null    float64\n",
      " 8   Measles                          1000 non-null   int64  \n",
      " 9   BMI                              991 non-null    float64\n",
      " 10  under-five_deaths                1000 non-null   int64  \n",
      " 11  Polio                            995 non-null    float64\n",
      " 12  Total_expenditure                935 non-null    float64\n",
      " 13  Diphtheria                       995 non-null    float64\n",
      " 14  HIV_AIDS                         1000 non-null   float64\n",
      " 15  GDP                              855 non-null    float64\n",
      " 16  Population                       787 non-null    float64\n",
      " 17  Income_composition_of_resources  946 non-null    float64\n",
      " 18  Schooling                        949 non-null    float64\n",
      "dtypes: float64(14), int64(3), object(2)\n",
      "memory usage: 148.6+ KB\n"
     ]
    }
   ],
   "source": [
    "df.info()"
   ]
  },
  {
   "cell_type": "code",
   "execution_count": 5,
   "id": "29074dac",
   "metadata": {
    "ExecuteTime": {
     "end_time": "2022-07-27T07:43:45.035734Z",
     "start_time": "2022-07-27T07:43:45.005736Z"
    }
   },
   "outputs": [
    {
     "name": "stdout",
     "output_type": "stream",
     "text": [
      "<class 'pandas.core.frame.DataFrame'>\n",
      "Int64Index: 995 entries, 0 to 999\n",
      "Data columns (total 19 columns):\n",
      " #   Column                           Non-Null Count  Dtype  \n",
      "---  ------                           --------------  -----  \n",
      " 0   Country                          995 non-null    object \n",
      " 1   Status                           995 non-null    object \n",
      " 2   Life_expectancy                  995 non-null    float64\n",
      " 3   Adult_Mortality                  995 non-null    float64\n",
      " 4   infant_deaths                    995 non-null    int64  \n",
      " 5   Alcohol                          945 non-null    float64\n",
      " 6   percentage_expenditure           995 non-null    float64\n",
      " 7   Hepatitis_B                      823 non-null    float64\n",
      " 8   Measles                          995 non-null    int64  \n",
      " 9   BMI                              987 non-null    float64\n",
      " 10  under-five_deaths                995 non-null    int64  \n",
      " 11  Polio                            990 non-null    float64\n",
      " 12  Total_expenditure                930 non-null    float64\n",
      " 13  Diphtheria                       990 non-null    float64\n",
      " 14  HIV_AIDS                         995 non-null    float64\n",
      " 15  GDP                              852 non-null    float64\n",
      " 16  Population                       786 non-null    float64\n",
      " 17  Income_composition_of_resources  945 non-null    float64\n",
      " 18  Schooling                        945 non-null    float64\n",
      "dtypes: float64(14), int64(3), object(2)\n",
      "memory usage: 155.5+ KB\n"
     ]
    }
   ],
   "source": [
    "df.dropna(subset=['Life_expectancy'], axis=0, inplace=True)\n",
    "df.info()"
   ]
  },
  {
   "cell_type": "markdown",
   "id": "8b5cf309",
   "metadata": {
    "ExecuteTime": {
     "end_time": "2022-07-26T16:51:35.125865Z",
     "start_time": "2022-07-26T16:51:35.036699Z"
    }
   },
   "source": [
    "### Q5"
   ]
  },
  {
   "cell_type": "code",
   "execution_count": 6,
   "id": "cd18e6e0",
   "metadata": {
    "ExecuteTime": {
     "end_time": "2022-07-27T07:43:45.114733Z",
     "start_time": "2022-07-27T07:43:45.038736Z"
    }
   },
   "outputs": [
    {
     "data": {
      "text/html": [
       "<div><div id=0e2bdc51-8b71-495f-b805-4e0b6247ea7d style=\"display:none; background-color:#9D6CFF; color:white; width:200px; height:30px; padding-left:5px; border-radius:4px; flex-direction:row; justify-content:space-around; align-items:center;\" onmouseover=\"this.style.backgroundColor='#BA9BF8'\" onmouseout=\"this.style.backgroundColor='#9D6CFF'\" onclick=\"window.commands?.execute('create-mitosheet-from-dataframe-output');\">See Full Dataframe in Mito</div> <script> if (window.commands?.hasCommand('create-mitosheet-from-dataframe-output')) document.getElementById('0e2bdc51-8b71-495f-b805-4e0b6247ea7d').style.display = 'flex' </script> <table border=\"1\" class=\"dataframe\">\n",
       "  <thead>\n",
       "    <tr style=\"text-align: right;\">\n",
       "      <th></th>\n",
       "      <th>Life_expectancy</th>\n",
       "      <th>Adult_Mortality</th>\n",
       "      <th>infant_deaths</th>\n",
       "      <th>Alcohol</th>\n",
       "      <th>percentage_expenditure</th>\n",
       "      <th>Hepatitis_B</th>\n",
       "      <th>Measles</th>\n",
       "      <th>BMI</th>\n",
       "      <th>under-five_deaths</th>\n",
       "      <th>Polio</th>\n",
       "      <th>Total_expenditure</th>\n",
       "      <th>Diphtheria</th>\n",
       "      <th>HIV_AIDS</th>\n",
       "      <th>GDP</th>\n",
       "      <th>Population</th>\n",
       "      <th>Income_composition_of_resources</th>\n",
       "      <th>Schooling</th>\n",
       "    </tr>\n",
       "  </thead>\n",
       "  <tbody>\n",
       "    <tr>\n",
       "      <th>count</th>\n",
       "      <td>995.000000</td>\n",
       "      <td>995.000000</td>\n",
       "      <td>995.000000</td>\n",
       "      <td>945.000000</td>\n",
       "      <td>995.000000</td>\n",
       "      <td>823.000000</td>\n",
       "      <td>995.000000</td>\n",
       "      <td>987.000000</td>\n",
       "      <td>995.000000</td>\n",
       "      <td>990.000000</td>\n",
       "      <td>930.000000</td>\n",
       "      <td>990.000000</td>\n",
       "      <td>995.000000</td>\n",
       "      <td>852.000000</td>\n",
       "      <td>7.860000e+02</td>\n",
       "      <td>945.000000</td>\n",
       "      <td>945.000000</td>\n",
       "    </tr>\n",
       "    <tr>\n",
       "      <th>mean</th>\n",
       "      <td>69.295578</td>\n",
       "      <td>158.572864</td>\n",
       "      <td>28.982915</td>\n",
       "      <td>4.445397</td>\n",
       "      <td>762.758443</td>\n",
       "      <td>80.483597</td>\n",
       "      <td>2313.129648</td>\n",
       "      <td>38.063931</td>\n",
       "      <td>40.107538</td>\n",
       "      <td>82.757576</td>\n",
       "      <td>5.900247</td>\n",
       "      <td>82.626263</td>\n",
       "      <td>1.724925</td>\n",
       "      <td>7273.050868</td>\n",
       "      <td>1.411040e+07</td>\n",
       "      <td>0.625251</td>\n",
       "      <td>11.954921</td>\n",
       "    </tr>\n",
       "    <tr>\n",
       "      <th>std</th>\n",
       "      <td>9.506018</td>\n",
       "      <td>122.020933</td>\n",
       "      <td>102.089472</td>\n",
       "      <td>3.996911</td>\n",
       "      <td>1962.313782</td>\n",
       "      <td>25.777438</td>\n",
       "      <td>11622.095051</td>\n",
       "      <td>19.994331</td>\n",
       "      <td>139.808663</td>\n",
       "      <td>23.057887</td>\n",
       "      <td>2.528484</td>\n",
       "      <td>23.278933</td>\n",
       "      <td>5.141192</td>\n",
       "      <td>13759.038478</td>\n",
       "      <td>6.485714e+07</td>\n",
       "      <td>0.215545</td>\n",
       "      <td>3.367567</td>\n",
       "    </tr>\n",
       "    <tr>\n",
       "      <th>min</th>\n",
       "      <td>39.000000</td>\n",
       "      <td>1.000000</td>\n",
       "      <td>0.000000</td>\n",
       "      <td>0.010000</td>\n",
       "      <td>0.000000</td>\n",
       "      <td>1.000000</td>\n",
       "      <td>0.000000</td>\n",
       "      <td>1.400000</td>\n",
       "      <td>0.000000</td>\n",
       "      <td>3.000000</td>\n",
       "      <td>0.760000</td>\n",
       "      <td>4.000000</td>\n",
       "      <td>0.100000</td>\n",
       "      <td>1.681350</td>\n",
       "      <td>3.400000e+01</td>\n",
       "      <td>0.000000</td>\n",
       "      <td>0.000000</td>\n",
       "    </tr>\n",
       "    <tr>\n",
       "      <th>25%</th>\n",
       "      <td>63.200000</td>\n",
       "      <td>71.000000</td>\n",
       "      <td>0.000000</td>\n",
       "      <td>0.950000</td>\n",
       "      <td>6.557836</td>\n",
       "      <td>77.000000</td>\n",
       "      <td>0.000000</td>\n",
       "      <td>18.800000</td>\n",
       "      <td>0.000000</td>\n",
       "      <td>77.250000</td>\n",
       "      <td>4.260000</td>\n",
       "      <td>79.000000</td>\n",
       "      <td>0.100000</td>\n",
       "      <td>487.097139</td>\n",
       "      <td>2.561048e+05</td>\n",
       "      <td>0.501000</td>\n",
       "      <td>10.200000</td>\n",
       "    </tr>\n",
       "    <tr>\n",
       "      <th>50%</th>\n",
       "      <td>72.200000</td>\n",
       "      <td>138.000000</td>\n",
       "      <td>3.000000</td>\n",
       "      <td>3.500000</td>\n",
       "      <td>81.288831</td>\n",
       "      <td>92.000000</td>\n",
       "      <td>19.000000</td>\n",
       "      <td>43.800000</td>\n",
       "      <td>4.000000</td>\n",
       "      <td>93.000000</td>\n",
       "      <td>5.685000</td>\n",
       "      <td>93.000000</td>\n",
       "      <td>0.100000</td>\n",
       "      <td>1803.734872</td>\n",
       "      <td>1.451070e+06</td>\n",
       "      <td>0.675000</td>\n",
       "      <td>12.300000</td>\n",
       "    </tr>\n",
       "    <tr>\n",
       "      <th>75%</th>\n",
       "      <td>75.700000</td>\n",
       "      <td>221.000000</td>\n",
       "      <td>22.000000</td>\n",
       "      <td>7.440000</td>\n",
       "      <td>491.776559</td>\n",
       "      <td>97.000000</td>\n",
       "      <td>373.500000</td>\n",
       "      <td>55.900000</td>\n",
       "      <td>28.000000</td>\n",
       "      <td>97.000000</td>\n",
       "      <td>7.470000</td>\n",
       "      <td>97.000000</td>\n",
       "      <td>0.700000</td>\n",
       "      <td>5624.831959</td>\n",
       "      <td>7.505464e+06</td>\n",
       "      <td>0.778000</td>\n",
       "      <td>14.200000</td>\n",
       "    </tr>\n",
       "    <tr>\n",
       "      <th>max</th>\n",
       "      <td>89.000000</td>\n",
       "      <td>715.000000</td>\n",
       "      <td>1500.000000</td>\n",
       "      <td>17.310000</td>\n",
       "      <td>19479.911610</td>\n",
       "      <td>99.000000</td>\n",
       "      <td>182485.000000</td>\n",
       "      <td>77.100000</td>\n",
       "      <td>2000.000000</td>\n",
       "      <td>99.000000</td>\n",
       "      <td>17.600000</td>\n",
       "      <td>99.000000</td>\n",
       "      <td>50.600000</td>\n",
       "      <td>113751.850000</td>\n",
       "      <td>1.179681e+09</td>\n",
       "      <td>0.948000</td>\n",
       "      <td>20.700000</td>\n",
       "    </tr>\n",
       "  </tbody>\n",
       "</table></div>"
      ],
      "text/plain": [
       "       Life_expectancy  Adult_Mortality  infant_deaths     Alcohol  \\\n",
       "count       995.000000       995.000000     995.000000  945.000000   \n",
       "mean         69.295578       158.572864      28.982915    4.445397   \n",
       "std           9.506018       122.020933     102.089472    3.996911   \n",
       "min          39.000000         1.000000       0.000000    0.010000   \n",
       "25%          63.200000        71.000000       0.000000    0.950000   \n",
       "50%          72.200000       138.000000       3.000000    3.500000   \n",
       "75%          75.700000       221.000000      22.000000    7.440000   \n",
       "max          89.000000       715.000000    1500.000000   17.310000   \n",
       "\n",
       "       percentage_expenditure  Hepatitis_B        Measles         BMI  \\\n",
       "count              995.000000   823.000000     995.000000  987.000000   \n",
       "mean               762.758443    80.483597    2313.129648   38.063931   \n",
       "std               1962.313782    25.777438   11622.095051   19.994331   \n",
       "min                  0.000000     1.000000       0.000000    1.400000   \n",
       "25%                  6.557836    77.000000       0.000000   18.800000   \n",
       "50%                 81.288831    92.000000      19.000000   43.800000   \n",
       "75%                491.776559    97.000000     373.500000   55.900000   \n",
       "max              19479.911610    99.000000  182485.000000   77.100000   \n",
       "\n",
       "       under-five_deaths       Polio  Total_expenditure  Diphtheria  \\\n",
       "count         995.000000  990.000000         930.000000  990.000000   \n",
       "mean           40.107538   82.757576           5.900247   82.626263   \n",
       "std           139.808663   23.057887           2.528484   23.278933   \n",
       "min             0.000000    3.000000           0.760000    4.000000   \n",
       "25%             0.000000   77.250000           4.260000   79.000000   \n",
       "50%             4.000000   93.000000           5.685000   93.000000   \n",
       "75%            28.000000   97.000000           7.470000   97.000000   \n",
       "max          2000.000000   99.000000          17.600000   99.000000   \n",
       "\n",
       "         HIV_AIDS            GDP    Population  \\\n",
       "count  995.000000     852.000000  7.860000e+02   \n",
       "mean     1.724925    7273.050868  1.411040e+07   \n",
       "std      5.141192   13759.038478  6.485714e+07   \n",
       "min      0.100000       1.681350  3.400000e+01   \n",
       "25%      0.100000     487.097139  2.561048e+05   \n",
       "50%      0.100000    1803.734872  1.451070e+06   \n",
       "75%      0.700000    5624.831959  7.505464e+06   \n",
       "max     50.600000  113751.850000  1.179681e+09   \n",
       "\n",
       "       Income_composition_of_resources   Schooling  \n",
       "count                       945.000000  945.000000  \n",
       "mean                          0.625251   11.954921  \n",
       "std                           0.215545    3.367567  \n",
       "min                           0.000000    0.000000  \n",
       "25%                           0.501000   10.200000  \n",
       "50%                           0.675000   12.300000  \n",
       "75%                           0.778000   14.200000  \n",
       "max                           0.948000   20.700000  "
      ]
     },
     "execution_count": 6,
     "metadata": {},
     "output_type": "execute_result"
    }
   ],
   "source": [
    "df.describe()"
   ]
  },
  {
   "cell_type": "markdown",
   "id": "91bb292e",
   "metadata": {},
   "source": [
    "### Q6"
   ]
  },
  {
   "cell_type": "code",
   "execution_count": 7,
   "id": "e3cde555",
   "metadata": {
    "ExecuteTime": {
     "end_time": "2022-07-27T07:43:45.129733Z",
     "start_time": "2022-07-27T07:43:45.116736Z"
    }
   },
   "outputs": [
    {
     "name": "stdout",
     "output_type": "stream",
     "text": [
      "172 209\n"
     ]
    }
   ],
   "source": [
    "print(995-823, 995-786)"
   ]
  },
  {
   "cell_type": "markdown",
   "id": "c48caa2c",
   "metadata": {},
   "source": [
    "### Q7"
   ]
  },
  {
   "cell_type": "code",
   "execution_count": 8,
   "id": "a78b719d",
   "metadata": {
    "ExecuteTime": {
     "end_time": "2022-07-27T07:43:45.146740Z",
     "start_time": "2022-07-27T07:43:45.131735Z"
    }
   },
   "outputs": [
    {
     "data": {
      "text/plain": [
       "183"
      ]
     },
     "execution_count": 8,
     "metadata": {},
     "output_type": "execute_result"
    }
   ],
   "source": [
    "len(df.Country.unique())"
   ]
  },
  {
   "cell_type": "markdown",
   "id": "40cfd165",
   "metadata": {},
   "source": [
    "### Q8"
   ]
  },
  {
   "cell_type": "code",
   "execution_count": 9,
   "id": "26e25adc",
   "metadata": {
    "ExecuteTime": {
     "end_time": "2022-07-27T07:43:45.161734Z",
     "start_time": "2022-07-27T07:43:45.151746Z"
    }
   },
   "outputs": [
    {
     "data": {
      "text/plain": [
       "69.29557788944723"
      ]
     },
     "execution_count": 9,
     "metadata": {},
     "output_type": "execute_result"
    }
   ],
   "source": [
    "X, y = df.iloc[:, df.columns != 'Life_expectancy'], df.Life_expectancy\n",
    "np.mean(y)"
   ]
  },
  {
   "cell_type": "markdown",
   "id": "13a9b5a8",
   "metadata": {},
   "source": [
    "### Q9"
   ]
  },
  {
   "cell_type": "code",
   "execution_count": 10,
   "id": "4bd29995",
   "metadata": {
    "ExecuteTime": {
     "end_time": "2022-07-27T07:43:45.349732Z",
     "start_time": "2022-07-27T07:43:45.165735Z"
    }
   },
   "outputs": [],
   "source": [
    "from sklearn.model_selection import train_test_split\n",
    "\n",
    "X_train, X_test, y_train, y_test = train_test_split(X, y, test_size=0.2, random_state=32)"
   ]
  },
  {
   "cell_type": "code",
   "execution_count": 11,
   "id": "e680a1ea",
   "metadata": {
    "ExecuteTime": {
     "end_time": "2022-07-27T07:43:45.365734Z",
     "start_time": "2022-07-27T07:43:45.354753Z"
    }
   },
   "outputs": [
    {
     "data": {
      "text/plain": [
       "(7449.137400397643, 6571.7939760912295)"
      ]
     },
     "execution_count": 11,
     "metadata": {},
     "output_type": "execute_result"
    }
   ],
   "source": [
    "np.mean(X_train.GDP), np.mean(X_test.GDP)"
   ]
  },
  {
   "cell_type": "markdown",
   "id": "d032e796",
   "metadata": {},
   "source": [
    "### Q10"
   ]
  },
  {
   "cell_type": "code",
   "execution_count": 12,
   "id": "150a735f",
   "metadata": {
    "ExecuteTime": {
     "end_time": "2022-07-27T07:43:47.901760Z",
     "start_time": "2022-07-27T07:43:45.368735Z"
    }
   },
   "outputs": [
    {
     "data": {
      "text/plain": [
       "array([[<AxesSubplot:title={'center':'Adult_Mortality'}>,\n",
       "        <AxesSubplot:title={'center':'infant_deaths'}>,\n",
       "        <AxesSubplot:title={'center':'Alcohol'}>,\n",
       "        <AxesSubplot:title={'center':'percentage_expenditure'}>],\n",
       "       [<AxesSubplot:title={'center':'Hepatitis_B'}>,\n",
       "        <AxesSubplot:title={'center':'Measles'}>,\n",
       "        <AxesSubplot:title={'center':'BMI'}>,\n",
       "        <AxesSubplot:title={'center':'under-five_deaths'}>],\n",
       "       [<AxesSubplot:title={'center':'Polio'}>,\n",
       "        <AxesSubplot:title={'center':'Total_expenditure'}>,\n",
       "        <AxesSubplot:title={'center':'Diphtheria'}>,\n",
       "        <AxesSubplot:title={'center':'HIV_AIDS'}>],\n",
       "       [<AxesSubplot:title={'center':'GDP'}>,\n",
       "        <AxesSubplot:title={'center':'Population'}>,\n",
       "        <AxesSubplot:title={'center':'Income_composition_of_resources'}>,\n",
       "        <AxesSubplot:title={'center':'Schooling'}>]], dtype=object)"
      ]
     },
     "execution_count": 12,
     "metadata": {},
     "output_type": "execute_result"
    },
    {
     "data": {
      "image/png": "[encoded data removed]",
      "text/plain": [
       "<Figure size 1080x1080 with 16 Axes>"
      ]
     },
     "metadata": {
      "needs_background": "light"
     },
     "output_type": "display_data"
    }
   ],
   "source": [
    "X_train.hist(figsize=(15,15))"
   ]
  },
  {
   "cell_type": "markdown",
   "id": "3b7021fb",
   "metadata": {},
   "source": [
    "### Q11"
   ]
  },
  {
   "cell_type": "code",
   "execution_count": 13,
   "id": "2bf527ab",
   "metadata": {
    "ExecuteTime": {
     "end_time": "2022-07-27T07:43:48.093734Z",
     "start_time": "2022-07-27T07:43:47.904735Z"
    }
   },
   "outputs": [
    {
     "data": {
      "text/plain": [
       "<AxesSubplot:xlabel='Diphtheria'>"
      ]
     },
     "execution_count": 13,
     "metadata": {},
     "output_type": "execute_result"
    },
    {
     "data": {
      "image/png": "[encoded data removed]",
      "text/plain": [
       "<Figure size 432x288 with 1 Axes>"
      ]
     },
     "metadata": {},
     "output_type": "display_data"
    }
   ],
   "source": [
    "sns.set_theme(style='darkgrid')\n",
    "sns.violinplot(x=X_train.Diphtheria)"
   ]
  },
  {
   "cell_type": "markdown",
   "id": "6ddeded5",
   "metadata": {},
   "source": [
    "### Q12"
   ]
  },
  {
   "cell_type": "code",
   "execution_count": 14,
   "id": "5acda6e8",
   "metadata": {
    "ExecuteTime": {
     "end_time": "2022-07-27T07:43:48.266736Z",
     "start_time": "2022-07-27T07:43:48.095762Z"
    }
   },
   "outputs": [
    {
     "data": {
      "text/plain": [
       "<AxesSubplot:xlabel='Alcohol'>"
      ]
     },
     "execution_count": 14,
     "metadata": {},
     "output_type": "execute_result"
    },
    {
     "data": {
      "image/png": "[encoded data removed]",
      "text/plain": [
       "<Figure size 432x288 with 1 Axes>"
      ]
     },
     "metadata": {},
     "output_type": "display_data"
    }
   ],
   "source": [
    "sns.boxplot(x=X_train.Alcohol)"
   ]
  },
  {
   "cell_type": "code",
   "execution_count": 15,
   "id": "c74c7206",
   "metadata": {
    "ExecuteTime": {
     "end_time": "2022-07-27T07:43:48.442762Z",
     "start_time": "2022-07-27T07:43:48.268763Z"
    }
   },
   "outputs": [
    {
     "data": {
      "text/plain": [
       "<AxesSubplot:xlabel='under-five_deaths'>"
      ]
     },
     "execution_count": 15,
     "metadata": {},
     "output_type": "execute_result"
    },
    {
     "data": {
      "image/png": "[encoded data removed]",
      "text/plain": [
       "<Figure size 432x288 with 1 Axes>"
      ]
     },
     "metadata": {},
     "output_type": "display_data"
    }
   ],
   "source": [
    "sns.boxplot(x=X_train['under-five_deaths'])"
   ]
  },
  {
   "cell_type": "code",
   "execution_count": 16,
   "id": "56bc05db",
   "metadata": {
    "ExecuteTime": {
     "end_time": "2022-07-27T07:43:48.617837Z",
     "start_time": "2022-07-27T07:43:48.445736Z"
    }
   },
   "outputs": [
    {
     "data": {
      "text/plain": [
       "<AxesSubplot:xlabel='Measles'>"
      ]
     },
     "execution_count": 16,
     "metadata": {},
     "output_type": "execute_result"
    },
    {
     "data": {
      "image/png": "[encoded data removed]",
      "text/plain": [
       "<Figure size 432x288 with 1 Axes>"
      ]
     },
     "metadata": {},
     "output_type": "display_data"
    }
   ],
   "source": [
    "sns.boxplot(x=X_train.Measles)"
   ]
  },
  {
   "cell_type": "code",
   "execution_count": 17,
   "id": "2d618f89",
   "metadata": {
    "ExecuteTime": {
     "end_time": "2022-07-27T07:43:48.823086Z",
     "start_time": "2022-07-27T07:43:48.620734Z"
    }
   },
   "outputs": [
    {
     "data": {
      "text/plain": [
       "<AxesSubplot:xlabel='GDP'>"
      ]
     },
     "execution_count": 17,
     "metadata": {},
     "output_type": "execute_result"
    },
    {
     "data": {
      "image/png": "[encoded data removed]",
      "text/plain": [
       "<Figure size 432x288 with 1 Axes>"
      ]
     },
     "metadata": {},
     "output_type": "display_data"
    }
   ],
   "source": [
    "sns.boxplot(x=X_train.GDP)"
   ]
  },
  {
   "cell_type": "markdown",
   "id": "91e8c527",
   "metadata": {},
   "source": [
    "### Q13"
   ]
  },
  {
   "cell_type": "code",
   "execution_count": 18,
   "id": "8f29afcf",
   "metadata": {
    "ExecuteTime": {
     "end_time": "2022-07-27T07:43:48.903058Z",
     "start_time": "2022-07-27T07:43:48.828062Z"
    }
   },
   "outputs": [],
   "source": [
    "from sklearn.preprocessing import PolynomialFeatures\n",
    "\n",
    "poly = PolynomialFeatures(degree=2)\n",
    "\n",
    "polydata = poly.fit_transform(X_train[X_train.columns[2:4]])"
   ]
  },
  {
   "cell_type": "code",
   "execution_count": 19,
   "id": "7a274050",
   "metadata": {
    "ExecuteTime": {
     "end_time": "2022-07-27T07:43:48.918059Z",
     "start_time": "2022-07-27T07:43:48.905061Z"
    }
   },
   "outputs": [
    {
     "data": {
      "text/plain": [
       "(796, 6)"
      ]
     },
     "execution_count": 19,
     "metadata": {},
     "output_type": "execute_result"
    }
   ],
   "source": [
    "polydata.shape"
   ]
  },
  {
   "cell_type": "markdown",
   "id": "57307d8e",
   "metadata": {},
   "source": [
    "### Q14"
   ]
  },
  {
   "cell_type": "code",
   "execution_count": 20,
   "id": "1e25d286",
   "metadata": {
    "ExecuteTime": {
     "end_time": "2022-07-27T07:43:49.044058Z",
     "start_time": "2022-07-27T07:43:48.922066Z"
    }
   },
   "outputs": [
    {
     "name": "stdout",
     "output_type": "stream",
     "text": [
      "(796, 18) (199, 18)\n",
      "(796, 201) (199, 201)\n"
     ]
    }
   ],
   "source": [
    "from sklearn.pipeline import Pipeline\n",
    "from sklearn.preprocessing import StandardScaler\n",
    "from sklearn.preprocessing import OneHotEncoder\n",
    "from sklearn.impute import SimpleImputer\n",
    "from sklearn.compose import ColumnTransformer\n",
    "\n",
    "numeric_transformer = Pipeline([\n",
    "    ('imputer', SimpleImputer(strategy='mean')),\n",
    "    ('scaler', StandardScaler()),   \n",
    "])\n",
    "\n",
    "categorical_transformer = OneHotEncoder()\n",
    "\n",
    "ct = ColumnTransformer([\n",
    "    ('n_t', numeric_transformer,  [2, 3, 4, 5, 6, 7, 8, 9, 10, 11, 12, 13, 14, 15, 16, 17]),\n",
    "    ('c_t', categorical_transformer, [0, 1]),\n",
    "])\n",
    "    \n",
    "print(X_train.shape, X_test.shape)\n",
    "X_train_transformed = ct.fit_transform(X_train)\n",
    "X_test_transformed = ct.transform(X_test)\n",
    "print(X_train_transformed.shape, X_test_transformed.shape)"
   ]
  },
  {
   "cell_type": "markdown",
   "id": "cca5dd01",
   "metadata": {
    "ExecuteTime": {
     "end_time": "2022-07-26T18:16:40.832346Z",
     "start_time": "2022-07-26T18:16:40.816345Z"
    }
   },
   "source": [
    "### Q15 "
   ]
  },
  {
   "cell_type": "code",
   "execution_count": 21,
   "id": "08c56840",
   "metadata": {
    "ExecuteTime": {
     "end_time": "2022-07-27T07:43:49.060059Z",
     "start_time": "2022-07-27T07:43:49.046060Z"
    }
   },
   "outputs": [
    {
     "name": "stdout",
     "output_type": "stream",
     "text": [
      "(796, 201)\n"
     ]
    }
   ],
   "source": [
    "print(X_train_transformed.shape)"
   ]
  },
  {
   "cell_type": "markdown",
   "id": "e1bf6119",
   "metadata": {},
   "source": [
    "### Q16"
   ]
  },
  {
   "cell_type": "code",
   "execution_count": 22,
   "id": "7a401f29",
   "metadata": {
    "ExecuteTime": {
     "end_time": "2022-07-27T07:43:50.911090Z",
     "start_time": "2022-07-27T07:43:49.062061Z"
    }
   },
   "outputs": [
    {
     "data": {
      "text/plain": [
       "array([False,  True, False, False, False, False, False,  True, False,\n",
       "       False, False, False, False, False, False, False, False, False,\n",
       "       False, False, False, False, False, False, False, False, False,\n",
       "       False, False, False, False, False, False, False, False, False,\n",
       "       False,  True, False, False, False, False, False, False, False,\n",
       "       False, False,  True, False, False, False, False, False, False,\n",
       "       False, False, False, False, False, False, False, False, False,\n",
       "       False, False, False, False, False,  True, False, False,  True,\n",
       "       False, False, False, False, False, False, False, False, False,\n",
       "       False, False, False,  True, False, False, False, False, False,\n",
       "        True, False, False, False, False, False, False, False, False,\n",
       "       False, False, False, False, False, False, False, False, False,\n",
       "        True,  True, False, False, False, False, False, False, False,\n",
       "       False, False, False, False, False, False, False, False, False,\n",
       "       False, False, False, False, False, False, False, False,  True,\n",
       "       False, False, False, False, False, False, False, False, False,\n",
       "       False, False, False, False, False, False, False, False, False,\n",
       "       False, False, False, False, False, False,  True, False, False,\n",
       "       False, False, False, False,  True, False, False, False, False,\n",
       "        True, False, False, False, False, False, False, False, False,\n",
       "       False, False, False, False, False, False, False, False, False,\n",
       "       False, False, False, False, False, False, False, False, False,\n",
       "        True, False, False])"
      ]
     },
     "execution_count": 22,
     "metadata": {},
     "output_type": "execute_result"
    }
   ],
   "source": [
    "from sklearn.feature_selection import RFE\n",
    "from sklearn.linear_model import LinearRegression\n",
    "\n",
    "estimator = LinearRegression()\n",
    "selector = RFE(estimator, n_features_to_select=15)\n",
    "selector.fit(X_train_transformed, y_train)\n",
    "selector.support_"
   ]
  },
  {
   "cell_type": "markdown",
   "id": "8819d3d2",
   "metadata": {
    "ExecuteTime": {
     "end_time": "2022-07-27T07:23:55.892764Z",
     "start_time": "2022-07-27T07:23:55.872752Z"
    }
   },
   "source": [
    "### Q17"
   ]
  },
  {
   "cell_type": "code",
   "execution_count": 23,
   "id": "c91c3d08",
   "metadata": {
    "ExecuteTime": {
     "end_time": "2022-07-27T07:43:50.959088Z",
     "start_time": "2022-07-27T07:43:50.914060Z"
    }
   },
   "outputs": [
    {
     "data": {
      "text/plain": [
       "0.9694387956048203"
      ]
     },
     "execution_count": 23,
     "metadata": {},
     "output_type": "execute_result"
    }
   ],
   "source": [
    "lin_reg = LinearRegression()\n",
    "lin_reg.fit(X_train_transformed, y_train).score(X_train_transformed, y_train)"
   ]
  },
  {
   "cell_type": "markdown",
   "id": "fa1a3484",
   "metadata": {},
   "source": [
    "### Q18"
   ]
  },
  {
   "cell_type": "code",
   "execution_count": 24,
   "id": "7d15fc90",
   "metadata": {
    "ExecuteTime": {
     "end_time": "2022-07-27T07:43:51.531086Z",
     "start_time": "2022-07-27T07:43:50.961061Z"
    }
   },
   "outputs": [
    {
     "data": {
      "text/plain": [
       "0.9653980135248683"
      ]
     },
     "execution_count": 24,
     "metadata": {},
     "output_type": "execute_result"
    }
   ],
   "source": [
    "from sklearn.model_selection import cross_val_score\n",
    "\n",
    "np.max(cross_val_score(lin_reg, X_train_transformed, y_train, cv=15))"
   ]
  },
  {
   "cell_type": "markdown",
   "id": "84513bfc",
   "metadata": {},
   "source": [
    "### Q19"
   ]
  },
  {
   "cell_type": "code",
   "execution_count": 25,
   "id": "bb6e63ae",
   "metadata": {
    "ExecuteTime": {
     "end_time": "2022-07-27T07:43:51.610601Z",
     "start_time": "2022-07-27T07:43:51.535061Z"
    }
   },
   "outputs": [
    {
     "data": {
      "text/plain": [
       "5.54074321386852"
      ]
     },
     "execution_count": 25,
     "metadata": {},
     "output_type": "execute_result"
    }
   ],
   "source": [
    "from sklearn.linear_model import SGDRegressor\n",
    "from sklearn.metrics import mean_squared_error \n",
    "\n",
    "sgd = SGDRegressor(\n",
    "    penalty='l1',\n",
    "    alpha=0.001,\n",
    "    learning_rate='constant',\n",
    "    eta0=0.001,\n",
    "    random_state=42\n",
    ")\n",
    "\n",
    "sgd.fit(X_train_transformed, y_train)\n",
    "\n",
    "y_hat_tr = sgd.predict(X_train_transformed)\n",
    "mse_tr = mean_squared_error(y_train, y_hat_tr)\n",
    "mse_tr"
   ]
  },
  {
   "cell_type": "code",
   "execution_count": 26,
   "id": "cfe57e2c",
   "metadata": {
    "ExecuteTime": {
     "end_time": "2022-07-27T07:43:51.626601Z",
     "start_time": "2022-07-27T07:43:51.612628Z"
    }
   },
   "outputs": [
    {
     "data": {
      "text/plain": [
       "8.563383330130385"
      ]
     },
     "execution_count": 26,
     "metadata": {},
     "output_type": "execute_result"
    }
   ],
   "source": [
    "y_hat_test = sgd.predict(X_test_transformed)\n",
    "mse_test = mean_squared_error(y_test, y_hat_test)\n",
    "mse_test"
   ]
  },
  {
   "cell_type": "code",
   "execution_count": 27,
   "id": "41e512ee",
   "metadata": {
    "ExecuteTime": {
     "end_time": "2022-07-27T07:43:51.642600Z",
     "start_time": "2022-07-27T07:43:51.628602Z"
    }
   },
   "outputs": [
    {
     "data": {
      "text/plain": [
       "3.022640116261865"
      ]
     },
     "execution_count": 27,
     "metadata": {},
     "output_type": "execute_result"
    }
   ],
   "source": [
    "np.abs(mse_tr - mse_test)"
   ]
  },
  {
   "cell_type": "markdown",
   "id": "eecd7e08",
   "metadata": {},
   "source": [
    "### Q20"
   ]
  },
  {
   "cell_type": "code",
   "execution_count": 28,
   "id": "9cd92d45",
   "metadata": {
    "ExecuteTime": {
     "end_time": "2022-07-27T07:43:51.673609Z",
     "start_time": "2022-07-27T07:43:51.646603Z"
    }
   },
   "outputs": [
    {
     "data": {
      "text/plain": [
       "-40.54634240226663"
      ]
     },
     "execution_count": 28,
     "metadata": {},
     "output_type": "execute_result"
    }
   ],
   "source": [
    "from sklearn.metrics import r2_score\n",
    "\n",
    "sgd2 = SGDRegressor(\n",
    "    penalty='l2',\n",
    "    alpha=0.01,\n",
    "    learning_rate='adaptive',\n",
    "    eta0=0.01,\n",
    "    random_state=42,\n",
    "    loss='huber'\n",
    ")\n",
    "\n",
    "sgd2.fit(X_train_transformed, y_train)\n",
    "\n",
    "y_hat_test = sgd2.predict(X_test_transformed)\n",
    "mse_tr = r2_score(y_test, y_hat_test)\n",
    "mse_tr"
   ]
  },
  {
   "cell_type": "markdown",
   "id": "0df2a3f5",
   "metadata": {
    "ExecuteTime": {
     "end_time": "2022-07-27T07:43:51.689606Z",
     "start_time": "2022-07-27T07:43:51.677601Z"
    }
   },
   "source": [
    "### Q21"
   ]
  },
  {
   "cell_type": "code",
   "execution_count": 36,
   "id": "240f511d",
   "metadata": {
    "ExecuteTime": {
     "end_time": "2022-07-27T08:00:00.960810Z",
     "start_time": "2022-07-27T08:00:00.831722Z"
    }
   },
   "outputs": [
    {
     "data": {
      "text/plain": [
       "5.779759819908152"
      ]
     },
     "execution_count": 36,
     "metadata": {},
     "output_type": "execute_result"
    }
   ],
   "source": [
    "from sklearn.model_selection import ShuffleSplit\n",
    "\n",
    "shf = ShuffleSplit(n_splits=10, test_size=0.2, random_state=42)\n",
    "\n",
    "sgd21 = SGDRegressor(\n",
    "    penalty='l2',\n",
    "    alpha=0.01,\n",
    "    learning_rate='adaptive',\n",
    "    eta0=0.01,\n",
    "    random_state=42,\n",
    "    loss='huber',    \n",
    ")\n",
    "\n",
    "np.std(cross_val_score(sgd21, X_train_transformed, y_train, cv=shf))"
   ]
  },
  {
   "cell_type": "markdown",
   "id": "27ea7b55",
   "metadata": {
    "ExecuteTime": {
     "end_time": "2022-07-27T07:59:30.493296Z",
     "start_time": "2022-07-27T07:59:30.472323Z"
    }
   },
   "source": [
    "### Q22"
   ]
  },
  {
   "cell_type": "code",
   "execution_count": 37,
   "id": "190fb984",
   "metadata": {
    "ExecuteTime": {
     "end_time": "2022-07-27T08:24:30.992312Z",
     "start_time": "2022-07-27T08:24:30.943313Z"
    }
   },
   "outputs": [
    {
     "data": {
      "text/plain": [
       "17.67588198067469"
      ]
     },
     "execution_count": 37,
     "metadata": {},
     "output_type": "execute_result"
    }
   ],
   "source": [
    "from sklearn.linear_model import Lasso\n",
    "\n",
    "lasso = Lasso(alpha=0.05, random_state=42)\n",
    "\n",
    "lasso.fit(X_train_transformed, y_train)\n",
    "y_pred_test = lasso.predict(X_test_transformed)\n",
    "\n",
    "mean_squared_error(y_test, y_pred_test)"
   ]
  },
  {
   "cell_type": "markdown",
   "id": "9bd354f7",
   "metadata": {},
   "source": [
    "### Q23"
   ]
  },
  {
   "cell_type": "code",
   "execution_count": 38,
   "id": "63b62ece",
   "metadata": {
    "ExecuteTime": {
     "end_time": "2022-07-27T08:38:56.561322Z",
     "start_time": "2022-07-27T08:38:56.526322Z"
    }
   },
   "outputs": [
    {
     "data": {
      "text/plain": [
       "0.8070594016723478"
      ]
     },
     "execution_count": 38,
     "metadata": {},
     "output_type": "execute_result"
    }
   ],
   "source": [
    "from sklearn.linear_model import Ridge\n",
    "\n",
    "ridge = Ridge(alpha=0.5, random_state=32)\n",
    "\n",
    "ridge.fit(X_train_transformed, y_train)\n",
    "y_pred_train = lasso.predict(X_train_transformed)\n",
    "\n",
    "r2_score(y_train, y_pred_train)"
   ]
  },
  {
   "cell_type": "markdown",
   "id": "39f906c4",
   "metadata": {},
   "source": [
    "### Q24"
   ]
  },
  {
   "cell_type": "code",
   "execution_count": 39,
   "id": "a279fe57",
   "metadata": {
    "ExecuteTime": {
     "end_time": "2022-07-27T08:39:50.610164Z",
     "start_time": "2022-07-27T08:39:50.599139Z"
    }
   },
   "outputs": [
    {
     "data": {
      "text/plain": [
       "0.8039014237046898"
      ]
     },
     "execution_count": 39,
     "metadata": {},
     "output_type": "execute_result"
    }
   ],
   "source": [
    "y_pred_test = lasso.predict(X_test_transformed)\n",
    "\n",
    "r2_score(y_test, y_pred_test)"
   ]
  },
  {
   "cell_type": "markdown",
   "id": "39b4b451",
   "metadata": {},
   "source": [
    "### Q25"
   ]
  },
  {
   "cell_type": "code",
   "execution_count": 54,
   "id": "f9834e82",
   "metadata": {
    "ExecuteTime": {
     "end_time": "2022-07-27T08:50:33.410983Z",
     "start_time": "2022-07-27T08:50:32.456932Z"
    }
   },
   "outputs": [
    {
     "data": {
      "text/plain": [
       "RidgeCV(alphas=array([1.e-04, 1.e-03, 1.e-02, 1.e-01, 1.e+00]),\n",
       "        cv=RepeatedKFold(n_repeats=5, n_splits=5, random_state=31),\n",
       "        scoring='r2')"
      ]
     },
     "execution_count": 54,
     "metadata": {},
     "output_type": "execute_result"
    }
   ],
   "source": [
    "from sklearn.linear_model import RidgeCV\n",
    "from sklearn.model_selection import RepeatedKFold\n",
    "\n",
    "ridge_cv = RidgeCV(\n",
    "    alphas = [1e-4, 1e-3, 1e-2, 1e-1, 1],\n",
    "    scoring = 'r2',\n",
    "    cv = RepeatedKFold(n_splits=5, n_repeats=5, random_state=31),\n",
    "#     alpha_per_target = True\n",
    ")\n",
    "\n",
    "ridge_cv.fit(X_train_transformed, y_train)"
   ]
  },
  {
   "cell_type": "code",
   "execution_count": 56,
   "id": "3e00ed21",
   "metadata": {
    "ExecuteTime": {
     "end_time": "2022-07-27T08:50:35.975141Z",
     "start_time": "2022-07-27T08:50:35.963162Z"
    }
   },
   "outputs": [
    {
     "data": {
      "text/plain": [
       "0.01"
      ]
     },
     "execution_count": 56,
     "metadata": {},
     "output_type": "execute_result"
    }
   ],
   "source": [
    "ridge_cv.alpha_ "
   ]
  },
  {
   "cell_type": "markdown",
   "id": "be6fcd6d",
   "metadata": {
    "ExecuteTime": {
     "end_time": "2022-07-27T08:50:33.426937Z",
     "start_time": "2022-07-27T08:50:33.416908Z"
    }
   },
   "source": [
    "### Q26"
   ]
  },
  {
   "cell_type": "code",
   "execution_count": 57,
   "id": "15b73f3d",
   "metadata": {
    "ExecuteTime": {
     "end_time": "2022-07-27T08:51:12.847363Z",
     "start_time": "2022-07-27T08:51:12.830389Z"
    }
   },
   "outputs": [
    {
     "data": {
      "text/plain": [
       "0.9264298286381789"
      ]
     },
     "execution_count": 57,
     "metadata": {},
     "output_type": "execute_result"
    }
   ],
   "source": [
    "ridge_cv.best_score_"
   ]
  },
  {
   "cell_type": "markdown",
   "id": "683843a8",
   "metadata": {},
   "source": [
    "## Q27-28"
   ]
  },
  {
   "cell_type": "code",
   "execution_count": 64,
   "id": "829ee495",
   "metadata": {
    "ExecuteTime": {
     "end_time": "2022-07-27T09:01:34.818210Z",
     "start_time": "2022-07-27T08:58:42.256750Z"
    }
   },
   "outputs": [
    {
     "name": "stderr",
     "output_type": "stream",
     "text": [
      "C:\\ProgramData\\Anaconda3\\lib\\site-packages\\sklearn\\linear_model\\_coordinate_descent.py:609: ConvergenceWarning: Objective did not converge. You might want to increase the number of iterations. Duality gap: 871.5709491103769, tolerance: 5.806797748427673\n",
      "  model = cd_fast.sparse_enet_coordinate_descent(\n",
      "C:\\ProgramData\\Anaconda3\\lib\\site-packages\\sklearn\\linear_model\\_coordinate_descent.py:609: ConvergenceWarning: Objective did not converge. You might want to increase the number of iterations. Duality gap: 696.2553890965817, tolerance: 5.782876229199372\n",
      "  model = cd_fast.sparse_enet_coordinate_descent(\n",
      "C:\\ProgramData\\Anaconda3\\lib\\site-packages\\sklearn\\linear_model\\_coordinate_descent.py:609: ConvergenceWarning: Objective did not converge. You might want to increase the number of iterations. Duality gap: 906.5445197772062, tolerance: 5.419189535321821\n",
      "  model = cd_fast.sparse_enet_coordinate_descent(\n",
      "C:\\ProgramData\\Anaconda3\\lib\\site-packages\\sklearn\\linear_model\\_coordinate_descent.py:609: ConvergenceWarning: Objective did not converge. You might want to increase the number of iterations. Duality gap: 942.3631682036823, tolerance: 5.779886875981162\n",
      "  model = cd_fast.sparse_enet_coordinate_descent(\n",
      "C:\\ProgramData\\Anaconda3\\lib\\site-packages\\sklearn\\linear_model\\_coordinate_descent.py:609: ConvergenceWarning: Objective did not converge. You might want to increase the number of iterations. Duality gap: 850.9045188103106, tolerance: 5.849614470957614\n",
      "  model = cd_fast.sparse_enet_coordinate_descent(\n",
      "C:\\ProgramData\\Anaconda3\\lib\\site-packages\\sklearn\\linear_model\\_coordinate_descent.py:609: ConvergenceWarning: Objective did not converge. You might want to increase the number of iterations. Duality gap: 73.459427757013, tolerance: 5.806797748427673\n",
      "  model = cd_fast.sparse_enet_coordinate_descent(\n",
      "C:\\ProgramData\\Anaconda3\\lib\\site-packages\\sklearn\\linear_model\\_coordinate_descent.py:609: ConvergenceWarning: Objective did not converge. You might want to increase the number of iterations. Duality gap: 63.36465875828767, tolerance: 5.782876229199372\n",
      "  model = cd_fast.sparse_enet_coordinate_descent(\n",
      "C:\\ProgramData\\Anaconda3\\lib\\site-packages\\sklearn\\linear_model\\_coordinate_descent.py:609: ConvergenceWarning: Objective did not converge. You might want to increase the number of iterations. Duality gap: 72.7646127510207, tolerance: 5.419189535321821\n",
      "  model = cd_fast.sparse_enet_coordinate_descent(\n",
      "C:\\ProgramData\\Anaconda3\\lib\\site-packages\\sklearn\\linear_model\\_coordinate_descent.py:609: ConvergenceWarning: Objective did not converge. You might want to increase the number of iterations. Duality gap: 70.5967752371457, tolerance: 5.779886875981162\n",
      "  model = cd_fast.sparse_enet_coordinate_descent(\n",
      "C:\\ProgramData\\Anaconda3\\lib\\site-packages\\sklearn\\linear_model\\_coordinate_descent.py:609: ConvergenceWarning: Objective did not converge. You might want to increase the number of iterations. Duality gap: 78.00303534134225, tolerance: 5.849614470957614\n",
      "  model = cd_fast.sparse_enet_coordinate_descent(\n",
      "C:\\ProgramData\\Anaconda3\\lib\\site-packages\\sklearn\\linear_model\\_coordinate_descent.py:609: ConvergenceWarning: Objective did not converge. You might want to increase the number of iterations. Duality gap: 907.9106149436097, tolerance: 5.806797748427673\n",
      "  model = cd_fast.sparse_enet_coordinate_descent(\n",
      "C:\\ProgramData\\Anaconda3\\lib\\site-packages\\sklearn\\linear_model\\_coordinate_descent.py:609: ConvergenceWarning: Objective did not converge. You might want to increase the number of iterations. Duality gap: 709.9157294732051, tolerance: 5.782876229199372\n",
      "  model = cd_fast.sparse_enet_coordinate_descent(\n",
      "C:\\ProgramData\\Anaconda3\\lib\\site-packages\\sklearn\\linear_model\\_coordinate_descent.py:609: ConvergenceWarning: Objective did not converge. You might want to increase the number of iterations. Duality gap: 929.8253527603238, tolerance: 5.419189535321821\n",
      "  model = cd_fast.sparse_enet_coordinate_descent(\n",
      "C:\\ProgramData\\Anaconda3\\lib\\site-packages\\sklearn\\linear_model\\_coordinate_descent.py:609: ConvergenceWarning: Objective did not converge. You might want to increase the number of iterations. Duality gap: 974.7415423069455, tolerance: 5.779886875981162\n",
      "  model = cd_fast.sparse_enet_coordinate_descent(\n",
      "C:\\ProgramData\\Anaconda3\\lib\\site-packages\\sklearn\\linear_model\\_coordinate_descent.py:609: ConvergenceWarning: Objective did not converge. You might want to increase the number of iterations. Duality gap: 861.0166208539861, tolerance: 5.849614470957614\n",
      "  model = cd_fast.sparse_enet_coordinate_descent(\n",
      "C:\\ProgramData\\Anaconda3\\lib\\site-packages\\sklearn\\linear_model\\_coordinate_descent.py:609: ConvergenceWarning: Objective did not converge. You might want to increase the number of iterations. Duality gap: 144.2371123978479, tolerance: 5.806797748427673\n",
      "  model = cd_fast.sparse_enet_coordinate_descent(\n",
      "C:\\ProgramData\\Anaconda3\\lib\\site-packages\\sklearn\\linear_model\\_coordinate_descent.py:609: ConvergenceWarning: Objective did not converge. You might want to increase the number of iterations. Duality gap: 132.71383283594642, tolerance: 5.782876229199372\n",
      "  model = cd_fast.sparse_enet_coordinate_descent(\n",
      "C:\\ProgramData\\Anaconda3\\lib\\site-packages\\sklearn\\linear_model\\_coordinate_descent.py:609: ConvergenceWarning: Objective did not converge. You might want to increase the number of iterations. Duality gap: 159.78322500759273, tolerance: 5.419189535321821\n",
      "  model = cd_fast.sparse_enet_coordinate_descent(\n",
      "C:\\ProgramData\\Anaconda3\\lib\\site-packages\\sklearn\\linear_model\\_coordinate_descent.py:609: ConvergenceWarning: Objective did not converge. You might want to increase the number of iterations. Duality gap: 164.4004397085306, tolerance: 5.779886875981162\n",
      "  model = cd_fast.sparse_enet_coordinate_descent(\n",
      "C:\\ProgramData\\Anaconda3\\lib\\site-packages\\sklearn\\linear_model\\_coordinate_descent.py:609: ConvergenceWarning: Objective did not converge. You might want to increase the number of iterations. Duality gap: 170.9442476690921, tolerance: 5.849614470957614\n",
      "  model = cd_fast.sparse_enet_coordinate_descent(\n",
      "C:\\ProgramData\\Anaconda3\\lib\\site-packages\\sklearn\\linear_model\\_coordinate_descent.py:609: ConvergenceWarning: Objective did not converge. You might want to increase the number of iterations. Duality gap: 985.232225920922, tolerance: 5.806797748427673\n",
      "  model = cd_fast.sparse_enet_coordinate_descent(\n",
      "C:\\ProgramData\\Anaconda3\\lib\\site-packages\\sklearn\\linear_model\\_coordinate_descent.py:609: ConvergenceWarning: Objective did not converge. You might want to increase the number of iterations. Duality gap: 682.3234312898376, tolerance: 5.782876229199372\n",
      "  model = cd_fast.sparse_enet_coordinate_descent(\n",
      "C:\\ProgramData\\Anaconda3\\lib\\site-packages\\sklearn\\linear_model\\_coordinate_descent.py:609: ConvergenceWarning: Objective did not converge. You might want to increase the number of iterations. Duality gap: 964.3774594193743, tolerance: 5.419189535321821\n",
      "  model = cd_fast.sparse_enet_coordinate_descent(\n",
      "C:\\ProgramData\\Anaconda3\\lib\\site-packages\\sklearn\\linear_model\\_coordinate_descent.py:609: ConvergenceWarning: Objective did not converge. You might want to increase the number of iterations. Duality gap: 1043.000219344946, tolerance: 5.779886875981162\n",
      "  model = cd_fast.sparse_enet_coordinate_descent(\n",
      "C:\\ProgramData\\Anaconda3\\lib\\site-packages\\sklearn\\linear_model\\_coordinate_descent.py:609: ConvergenceWarning: Objective did not converge. You might want to increase the number of iterations. Duality gap: 921.3976654550231, tolerance: 5.849614470957614\n",
      "  model = cd_fast.sparse_enet_coordinate_descent(\n",
      "C:\\ProgramData\\Anaconda3\\lib\\site-packages\\sklearn\\linear_model\\_coordinate_descent.py:609: ConvergenceWarning: Objective did not converge. You might want to increase the number of iterations. Duality gap: 209.97030329003877, tolerance: 5.806797748427673\n",
      "  model = cd_fast.sparse_enet_coordinate_descent(\n",
      "C:\\ProgramData\\Anaconda3\\lib\\site-packages\\sklearn\\linear_model\\_coordinate_descent.py:609: ConvergenceWarning: Objective did not converge. You might want to increase the number of iterations. Duality gap: 248.5286059393532, tolerance: 5.782876229199372\n",
      "  model = cd_fast.sparse_enet_coordinate_descent(\n"
     ]
    },
    {
     "name": "stderr",
     "output_type": "stream",
     "text": [
      "C:\\ProgramData\\Anaconda3\\lib\\site-packages\\sklearn\\linear_model\\_coordinate_descent.py:609: ConvergenceWarning: Objective did not converge. You might want to increase the number of iterations. Duality gap: 305.3006428921256, tolerance: 5.419189535321821\n",
      "  model = cd_fast.sparse_enet_coordinate_descent(\n",
      "C:\\ProgramData\\Anaconda3\\lib\\site-packages\\sklearn\\linear_model\\_coordinate_descent.py:609: ConvergenceWarning: Objective did not converge. You might want to increase the number of iterations. Duality gap: 294.3396615342412, tolerance: 5.779886875981162\n",
      "  model = cd_fast.sparse_enet_coordinate_descent(\n",
      "C:\\ProgramData\\Anaconda3\\lib\\site-packages\\sklearn\\linear_model\\_coordinate_descent.py:609: ConvergenceWarning: Objective did not converge. You might want to increase the number of iterations. Duality gap: 316.6250387270505, tolerance: 5.849614470957614\n",
      "  model = cd_fast.sparse_enet_coordinate_descent(\n",
      "C:\\ProgramData\\Anaconda3\\lib\\site-packages\\sklearn\\linear_model\\_coordinate_descent.py:609: ConvergenceWarning: Objective did not converge. You might want to increase the number of iterations. Duality gap: 1181.7012406488448, tolerance: 5.806797748427673\n",
      "  model = cd_fast.sparse_enet_coordinate_descent(\n",
      "C:\\ProgramData\\Anaconda3\\lib\\site-packages\\sklearn\\linear_model\\_coordinate_descent.py:609: ConvergenceWarning: Objective did not converge. You might want to increase the number of iterations. Duality gap: 858.4106939116626, tolerance: 5.782876229199372\n",
      "  model = cd_fast.sparse_enet_coordinate_descent(\n",
      "C:\\ProgramData\\Anaconda3\\lib\\site-packages\\sklearn\\linear_model\\_coordinate_descent.py:609: ConvergenceWarning: Objective did not converge. You might want to increase the number of iterations. Duality gap: 943.5268088376235, tolerance: 5.419189535321821\n",
      "  model = cd_fast.sparse_enet_coordinate_descent(\n",
      "C:\\ProgramData\\Anaconda3\\lib\\site-packages\\sklearn\\linear_model\\_coordinate_descent.py:609: ConvergenceWarning: Objective did not converge. You might want to increase the number of iterations. Duality gap: 1156.0521805150656, tolerance: 5.779886875981162\n",
      "  model = cd_fast.sparse_enet_coordinate_descent(\n",
      "C:\\ProgramData\\Anaconda3\\lib\\site-packages\\sklearn\\linear_model\\_coordinate_descent.py:609: ConvergenceWarning: Objective did not converge. You might want to increase the number of iterations. Duality gap: 1021.744751773107, tolerance: 5.849614470957614\n",
      "  model = cd_fast.sparse_enet_coordinate_descent(\n",
      "C:\\ProgramData\\Anaconda3\\lib\\site-packages\\sklearn\\linear_model\\_coordinate_descent.py:609: ConvergenceWarning: Objective did not converge. You might want to increase the number of iterations. Duality gap: 422.59272264261153, tolerance: 5.806797748427673\n",
      "  model = cd_fast.sparse_enet_coordinate_descent(\n",
      "C:\\ProgramData\\Anaconda3\\lib\\site-packages\\sklearn\\linear_model\\_coordinate_descent.py:609: ConvergenceWarning: Objective did not converge. You might want to increase the number of iterations. Duality gap: 478.39652013591905, tolerance: 5.782876229199372\n",
      "  model = cd_fast.sparse_enet_coordinate_descent(\n",
      "C:\\ProgramData\\Anaconda3\\lib\\site-packages\\sklearn\\linear_model\\_coordinate_descent.py:609: ConvergenceWarning: Objective did not converge. You might want to increase the number of iterations. Duality gap: 505.6532559878963, tolerance: 5.419189535321821\n",
      "  model = cd_fast.sparse_enet_coordinate_descent(\n",
      "C:\\ProgramData\\Anaconda3\\lib\\site-packages\\sklearn\\linear_model\\_coordinate_descent.py:609: ConvergenceWarning: Objective did not converge. You might want to increase the number of iterations. Duality gap: 496.24282433135244, tolerance: 5.779886875981162\n",
      "  model = cd_fast.sparse_enet_coordinate_descent(\n",
      "C:\\ProgramData\\Anaconda3\\lib\\site-packages\\sklearn\\linear_model\\_coordinate_descent.py:609: ConvergenceWarning: Objective did not converge. You might want to increase the number of iterations. Duality gap: 502.54903574789057, tolerance: 5.849614470957614\n",
      "  model = cd_fast.sparse_enet_coordinate_descent(\n",
      "C:\\ProgramData\\Anaconda3\\lib\\site-packages\\sklearn\\linear_model\\_coordinate_descent.py:609: ConvergenceWarning: Objective did not converge. You might want to increase the number of iterations. Duality gap: 1416.65853299181, tolerance: 5.806797748427673\n",
      "  model = cd_fast.sparse_enet_coordinate_descent(\n",
      "C:\\ProgramData\\Anaconda3\\lib\\site-packages\\sklearn\\linear_model\\_coordinate_descent.py:609: ConvergenceWarning: Objective did not converge. You might want to increase the number of iterations. Duality gap: 320.3532803583307, tolerance: 5.782876229199372\n",
      "  model = cd_fast.sparse_enet_coordinate_descent(\n",
      "C:\\ProgramData\\Anaconda3\\lib\\site-packages\\sklearn\\linear_model\\_coordinate_descent.py:609: ConvergenceWarning: Objective did not converge. You might want to increase the number of iterations. Duality gap: 280.2045948709092, tolerance: 5.419189535321821\n",
      "  model = cd_fast.sparse_enet_coordinate_descent(\n",
      "C:\\ProgramData\\Anaconda3\\lib\\site-packages\\sklearn\\linear_model\\_coordinate_descent.py:609: ConvergenceWarning: Objective did not converge. You might want to increase the number of iterations. Duality gap: 886.56282731481, tolerance: 5.779886875981162\n",
      "  model = cd_fast.sparse_enet_coordinate_descent(\n",
      "C:\\ProgramData\\Anaconda3\\lib\\site-packages\\sklearn\\linear_model\\_coordinate_descent.py:609: ConvergenceWarning: Objective did not converge. You might want to increase the number of iterations. Duality gap: 1109.235805052007, tolerance: 5.849614470957614\n",
      "  model = cd_fast.sparse_enet_coordinate_descent(\n",
      "C:\\ProgramData\\Anaconda3\\lib\\site-packages\\sklearn\\linear_model\\_coordinate_descent.py:609: ConvergenceWarning: Objective did not converge. You might want to increase the number of iterations. Duality gap: 142.96931646460314, tolerance: 5.806797748427673\n",
      "  model = cd_fast.sparse_enet_coordinate_descent(\n",
      "C:\\ProgramData\\Anaconda3\\lib\\site-packages\\sklearn\\linear_model\\_coordinate_descent.py:609: ConvergenceWarning: Objective did not converge. You might want to increase the number of iterations. Duality gap: 296.0481890278305, tolerance: 5.782876229199372\n",
      "  model = cd_fast.sparse_enet_coordinate_descent(\n",
      "C:\\ProgramData\\Anaconda3\\lib\\site-packages\\sklearn\\linear_model\\_coordinate_descent.py:609: ConvergenceWarning: Objective did not converge. You might want to increase the number of iterations. Duality gap: 265.5185795215539, tolerance: 5.419189535321821\n",
      "  model = cd_fast.sparse_enet_coordinate_descent(\n",
      "C:\\ProgramData\\Anaconda3\\lib\\site-packages\\sklearn\\linear_model\\_coordinate_descent.py:609: ConvergenceWarning: Objective did not converge. You might want to increase the number of iterations. Duality gap: 278.03840340534, tolerance: 5.779886875981162\n",
      "  model = cd_fast.sparse_enet_coordinate_descent(\n",
      "C:\\ProgramData\\Anaconda3\\lib\\site-packages\\sklearn\\linear_model\\_coordinate_descent.py:609: ConvergenceWarning: Objective did not converge. You might want to increase the number of iterations. Duality gap: 425.80217504323696, tolerance: 5.849614470957614\n",
      "  model = cd_fast.sparse_enet_coordinate_descent(\n",
      "C:\\ProgramData\\Anaconda3\\lib\\site-packages\\sklearn\\linear_model\\_coordinate_descent.py:609: ConvergenceWarning: Objective did not converge. You might want to increase the number of iterations. Duality gap: 154.279815936452, tolerance: 5.806797748427673\n",
      "  model = cd_fast.sparse_enet_coordinate_descent(\n",
      "C:\\ProgramData\\Anaconda3\\lib\\site-packages\\sklearn\\linear_model\\_coordinate_descent.py:609: ConvergenceWarning: Objective did not converge. You might want to increase the number of iterations. Duality gap: 68.69948056750127, tolerance: 5.782876229199372\n",
      "  model = cd_fast.sparse_enet_coordinate_descent(\n",
      "C:\\ProgramData\\Anaconda3\\lib\\site-packages\\sklearn\\linear_model\\_coordinate_descent.py:609: ConvergenceWarning: Objective did not converge. You might want to increase the number of iterations. Duality gap: 55.76576283256236, tolerance: 5.419189535321821\n",
      "  model = cd_fast.sparse_enet_coordinate_descent(\n",
      "C:\\ProgramData\\Anaconda3\\lib\\site-packages\\sklearn\\linear_model\\_coordinate_descent.py:609: ConvergenceWarning: Objective did not converge. You might want to increase the number of iterations. Duality gap: 122.00265083192699, tolerance: 5.779886875981162\n",
      "  model = cd_fast.sparse_enet_coordinate_descent(\n"
     ]
    },
    {
     "name": "stderr",
     "output_type": "stream",
     "text": [
      "C:\\ProgramData\\Anaconda3\\lib\\site-packages\\sklearn\\linear_model\\_coordinate_descent.py:609: ConvergenceWarning: Objective did not converge. You might want to increase the number of iterations. Duality gap: 99.43928726178274, tolerance: 5.849614470957614\n",
      "  model = cd_fast.sparse_enet_coordinate_descent(\n",
      "C:\\ProgramData\\Anaconda3\\lib\\site-packages\\sklearn\\linear_model\\_coordinate_descent.py:609: ConvergenceWarning: Objective did not converge. You might want to increase the number of iterations. Duality gap: 382.5803813194518, tolerance: 5.806797748427673\n",
      "  model = cd_fast.sparse_enet_coordinate_descent(\n",
      "C:\\ProgramData\\Anaconda3\\lib\\site-packages\\sklearn\\linear_model\\_coordinate_descent.py:609: ConvergenceWarning: Objective did not converge. You might want to increase the number of iterations. Duality gap: 75.0898254373019, tolerance: 5.782876229199372\n",
      "  model = cd_fast.sparse_enet_coordinate_descent(\n",
      "C:\\ProgramData\\Anaconda3\\lib\\site-packages\\sklearn\\linear_model\\_coordinate_descent.py:609: ConvergenceWarning: Objective did not converge. You might want to increase the number of iterations. Duality gap: 196.38180568441976, tolerance: 5.419189535321821\n",
      "  model = cd_fast.sparse_enet_coordinate_descent(\n",
      "C:\\ProgramData\\Anaconda3\\lib\\site-packages\\sklearn\\linear_model\\_coordinate_descent.py:609: ConvergenceWarning: Objective did not converge. You might want to increase the number of iterations. Duality gap: 169.82870392131827, tolerance: 5.779886875981162\n",
      "  model = cd_fast.sparse_enet_coordinate_descent(\n",
      "C:\\ProgramData\\Anaconda3\\lib\\site-packages\\sklearn\\linear_model\\_coordinate_descent.py:609: ConvergenceWarning: Objective did not converge. You might want to increase the number of iterations. Duality gap: 82.50654820423642, tolerance: 5.849614470957614\n",
      "  model = cd_fast.sparse_enet_coordinate_descent(\n",
      "C:\\ProgramData\\Anaconda3\\lib\\site-packages\\sklearn\\linear_model\\_coordinate_descent.py:609: ConvergenceWarning: Objective did not converge. You might want to increase the number of iterations. Duality gap: 14.272115265221146, tolerance: 5.779886875981162\n",
      "  model = cd_fast.sparse_enet_coordinate_descent(\n",
      "C:\\ProgramData\\Anaconda3\\lib\\site-packages\\sklearn\\linear_model\\_coordinate_descent.py:609: ConvergenceWarning: Objective did not converge. You might want to increase the number of iterations. Duality gap: 1215.6939124539476, tolerance: 7.165678909547738\n",
      "  model = cd_fast.sparse_enet_coordinate_descent(\n"
     ]
    },
    {
     "data": {
      "text/plain": [
       "GridSearchCV(estimator=Pipeline(steps=[('poly', PolynomialFeatures()),\n",
       "                                       ('lasso', Lasso())]),\n",
       "             param_grid={'lasso__alpha': array([1.00000000e-04, 2.78255940e-04, 7.74263683e-04, 2.15443469e-03,\n",
       "       5.99484250e-03, 1.66810054e-02, 4.64158883e-02, 1.29154967e-01,\n",
       "       3.59381366e-01, 1.00000000e+00]),\n",
       "                         'poly__degree': [1, 2]},\n",
       "             scoring='neg_mean_absolute_error')"
      ]
     },
     "execution_count": 64,
     "metadata": {},
     "output_type": "execute_result"
    }
   ],
   "source": [
    "from sklearn.pipeline import Pipeline\n",
    "from sklearn.preprocessing import PolynomialFeatures\n",
    "from sklearn.model_selection import GridSearchCV\n",
    "\n",
    "pipe = Pipeline([\n",
    "    ('poly', PolynomialFeatures()),\n",
    "    ('lasso', Lasso()),\n",
    "])\n",
    "\n",
    "param_grid = {\n",
    "    'poly__degree': [1, 2],\n",
    "    'lasso__alpha': np.logspace(-4, 0, num=10),    \n",
    "}\n",
    "\n",
    "grid = GridSearchCV(pipe, param_grid, scoring='neg_mean_absolute_error')\n",
    "\n",
    "grid.fit(X_train_transformed, y_train)"
   ]
  },
  {
   "cell_type": "markdown",
   "id": "9b42e612",
   "metadata": {
    "ExecuteTime": {
     "end_time": "2022-07-27T08:58:15.731265Z",
     "start_time": "2022-07-27T08:58:15.704266Z"
    }
   },
   "source": [
    "### Q27"
   ]
  },
  {
   "cell_type": "code",
   "execution_count": 65,
   "id": "418aadf1",
   "metadata": {
    "ExecuteTime": {
     "end_time": "2022-07-27T09:02:29.298157Z",
     "start_time": "2022-07-27T09:02:29.279157Z"
    }
   },
   "outputs": [
    {
     "data": {
      "text/plain": [
       "Pipeline(steps=[('poly', PolynomialFeatures(degree=1)),\n",
       "                ('lasso', Lasso(alpha=0.0002782559402207126))])"
      ]
     },
     "execution_count": 65,
     "metadata": {},
     "output_type": "execute_result"
    }
   ],
   "source": [
    "grid.best_estimator_"
   ]
  },
  {
   "cell_type": "markdown",
   "id": "1b0d0ffc",
   "metadata": {},
   "source": [
    "### Q28"
   ]
  },
  {
   "cell_type": "code",
   "execution_count": 66,
   "id": "bb64c16f",
   "metadata": {
    "ExecuteTime": {
     "end_time": "2022-07-27T09:03:21.093260Z",
     "start_time": "2022-07-27T09:03:21.087235Z"
    }
   },
   "outputs": [
    {
     "data": {
      "text/plain": [
       "-1.6876417735877354"
      ]
     },
     "execution_count": 66,
     "metadata": {},
     "output_type": "execute_result"
    }
   ],
   "source": [
    "grid.best_score_"
   ]
  }
 ],
 "metadata": {
  "kernelspec": {
   "display_name": "Python 3 (ipykernel)",
   "language": "python",
   "name": "python3"
  },
  "language_info": {
   "codemirror_mode": {
    "name": "ipython",
    "version": 3
   },
   "file_extension": ".py",
   "mimetype": "text/x-python",
   "name": "python",
   "nbconvert_exporter": "python",
   "pygments_lexer": "ipython3",
   "version": "3.9.7"
  }
 },
 "nbformat": 4,
 "nbformat_minor": 5
}
