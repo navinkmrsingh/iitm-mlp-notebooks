{
 "cells": [
  {
   "cell_type": "markdown",
   "id": "ce4f225f",
   "metadata": {},
   "source": [
    "# Practice Assignments"
   ]
  },
  {
   "cell_type": "code",
   "execution_count": 1,
   "id": "1905d903",
   "metadata": {
    "ExecuteTime": {
     "end_time": "2022-07-15T09:29:59.087570Z",
     "start_time": "2022-07-15T09:29:57.879267Z"
    }
   },
   "outputs": [],
   "source": [
    "import pandas as pd\n",
    "import numpy as np\n",
    "\n",
    "from sklearn.model_selection import train_test_split\n",
    "from sklearn.ensemble import AdaBoostClassifier\n",
    "\n",
    "from sklearn.pipeline import Pipeline"
   ]
  },
  {
   "cell_type": "markdown",
   "id": "c2c49052",
   "metadata": {},
   "source": [
    "## Q1-3"
   ]
  },
  {
   "cell_type": "code",
   "execution_count": 2,
   "id": "24bf5070",
   "metadata": {
    "ExecuteTime": {
     "end_time": "2022-07-15T09:32:00.243448Z",
     "start_time": "2022-07-15T09:32:00.185679Z"
    }
   },
   "outputs": [],
   "source": [
    "from sklearn.datasets import load_wine\n",
    "\n",
    "X, y = load_wine(as_frame=True, return_X_y=True)\n",
    "\n",
    "X_train, X_test, y_train, y_test = train_test_split(X, y, test_size=0.3, random_state=1)"
   ]
  },
  {
   "cell_type": "code",
   "execution_count": 4,
   "id": "e2f4c31d",
   "metadata": {
    "ExecuteTime": {
     "end_time": "2022-07-15T09:34:08.647808Z",
     "start_time": "2022-07-15T09:34:08.537783Z"
    }
   },
   "outputs": [
    {
     "data": {
      "text/plain": [
       "0.6774193548387096"
      ]
     },
     "execution_count": 4,
     "metadata": {},
     "output_type": "execute_result"
    }
   ],
   "source": [
    "adb = AdaBoostClassifier()\n",
    "adb.fit(X_train, y_train)\n",
    "\n",
    "adb.score(X_train, y_train)"
   ]
  },
  {
   "cell_type": "code",
   "execution_count": 5,
   "id": "93142f4d",
   "metadata": {
    "ExecuteTime": {
     "end_time": "2022-07-15T09:34:33.686679Z",
     "start_time": "2022-07-15T09:34:33.665681Z"
    }
   },
   "outputs": [
    {
     "data": {
      "text/plain": [
       "0.5370370370370371"
      ]
     },
     "execution_count": 5,
     "metadata": {},
     "output_type": "execute_result"
    }
   ],
   "source": [
    "adb.score(X_test, y_test)"
   ]
  },
  {
   "cell_type": "markdown",
   "id": "6e746209",
   "metadata": {},
   "source": [
    "## Q3-5"
   ]
  },
  {
   "cell_type": "code",
   "execution_count": 8,
   "id": "8483ed09",
   "metadata": {
    "ExecuteTime": {
     "end_time": "2022-07-15T12:56:32.649495Z",
     "start_time": "2022-07-15T12:56:32.633466Z"
    }
   },
   "outputs": [],
   "source": [
    "from sklearn.model_selection import GridSearchCV\n",
    "\n",
    "adb2 = AdaBoostClassifier(random_state=1)\n",
    "\n",
    "params = {\n",
    "    'n_estimators': [100, 500, 1000],\n",
    "    'learning_rate': [0.5, 1, 2],\n",
    "}\n",
    "\n",
    "cv = 4\n",
    "\n",
    "grid = GridSearchCV(estimator=adb2, param_grid=params, cv=cv)"
   ]
  },
  {
   "cell_type": "code",
   "execution_count": 11,
   "id": "928282ff",
   "metadata": {
    "ExecuteTime": {
     "end_time": "2022-07-15T13:01:35.921375Z",
     "start_time": "2022-07-15T13:01:09.280340Z"
    }
   },
   "outputs": [
    {
     "data": {
      "text/plain": [
       "0.9629629629629629"
      ]
     },
     "execution_count": 11,
     "metadata": {},
     "output_type": "execute_result"
    }
   ],
   "source": [
    "grid.fit(X_train, y_train)\n",
    "\n",
    "grid.score(X_test, y_test)"
   ]
  },
  {
   "cell_type": "code",
   "execution_count": 10,
   "id": "c9c597cc",
   "metadata": {
    "ExecuteTime": {
     "end_time": "2022-07-15T13:00:17.317509Z",
     "start_time": "2022-07-15T13:00:17.305511Z"
    }
   },
   "outputs": [
    {
     "data": {
      "text/plain": [
       "{'learning_rate': 0.5, 'n_estimators': 100}"
      ]
     },
     "execution_count": 10,
     "metadata": {},
     "output_type": "execute_result"
    }
   ],
   "source": [
    "grid.best_params_"
   ]
  },
  {
   "cell_type": "markdown",
   "id": "21b1b7ed",
   "metadata": {},
   "source": [
    "## Q6-7"
   ]
  },
  {
   "cell_type": "code",
   "execution_count": 13,
   "id": "b9675c81",
   "metadata": {
    "ExecuteTime": {
     "end_time": "2022-07-15T13:15:29.006594Z",
     "start_time": "2022-07-15T13:15:28.543682Z"
    }
   },
   "outputs": [
    {
     "data": {
      "text/plain": [
       "1.0"
      ]
     },
     "execution_count": 13,
     "metadata": {},
     "output_type": "execute_result"
    }
   ],
   "source": [
    "from sklearn.ensemble import VotingClassifier\n",
    "from sklearn.ensemble import RandomForestClassifier, BaggingClassifier, GradientBoostingClassifier\n",
    "\n",
    "bc = BaggingClassifier(random_state=1)\n",
    "rfc = RandomForestClassifier(random_state=1)\n",
    "gbc = GradientBoostingClassifier(random_state=1)\n",
    "\n",
    "vdf = VotingClassifier(\n",
    "    estimators=[\n",
    "        ('bc', bc),\n",
    "        ('rfc', rfc),\n",
    "        ('gbc', gbc),\n",
    "    ]\n",
    ")\n",
    "\n",
    "vdf.fit(X_train, y_train)\n",
    "\n",
    "vdf.score(X_train, y_train)"
   ]
  },
  {
   "cell_type": "code",
   "execution_count": 14,
   "id": "d44913a8",
   "metadata": {
    "ExecuteTime": {
     "end_time": "2022-07-15T13:15:46.285408Z",
     "start_time": "2022-07-15T13:15:46.252413Z"
    }
   },
   "outputs": [
    {
     "data": {
      "text/plain": [
       "0.9814814814814815"
      ]
     },
     "execution_count": 14,
     "metadata": {},
     "output_type": "execute_result"
    }
   ],
   "source": [
    "vdf.score(X_test, y_test)"
   ]
  },
  {
   "cell_type": "markdown",
   "id": "f810ac83",
   "metadata": {},
   "source": [
    "# Graded Assignment"
   ]
  },
  {
   "cell_type": "code",
   "execution_count": 65,
   "id": "f8f7b7d9",
   "metadata": {
    "ExecuteTime": {
     "end_time": "2022-07-15T16:57:13.543018Z",
     "start_time": "2022-07-15T16:57:13.478993Z"
    }
   },
   "outputs": [
    {
     "data": {
      "text/html": [
       "<div>\n",
       "<style scoped>\n",
       "    .dataframe tbody tr th:only-of-type {\n",
       "        vertical-align: middle;\n",
       "    }\n",
       "\n",
       "    .dataframe tbody tr th {\n",
       "        vertical-align: top;\n",
       "    }\n",
       "\n",
       "    .dataframe thead th {\n",
       "        text-align: right;\n",
       "    }\n",
       "</style>\n",
       "<table border=\"1\" class=\"dataframe\">\n",
       "  <thead>\n",
       "    <tr style=\"text-align: right;\">\n",
       "      <th></th>\n",
       "      <th>Make</th>\n",
       "      <th>Model</th>\n",
       "      <th>Type</th>\n",
       "      <th>Origin</th>\n",
       "      <th>DriveTrain</th>\n",
       "      <th>MSRP</th>\n",
       "      <th>EngineSize</th>\n",
       "      <th>Cylinders</th>\n",
       "      <th>Horsepower</th>\n",
       "      <th>MPG_City</th>\n",
       "      <th>...</th>\n",
       "      <th>Sedan</th>\n",
       "      <th>Sports</th>\n",
       "      <th>Truck</th>\n",
       "      <th>Wagon</th>\n",
       "      <th>Asia</th>\n",
       "      <th>Europe</th>\n",
       "      <th>USA</th>\n",
       "      <th>All</th>\n",
       "      <th>Front</th>\n",
       "      <th>Rear</th>\n",
       "    </tr>\n",
       "  </thead>\n",
       "  <tbody>\n",
       "    <tr>\n",
       "      <th>0</th>\n",
       "      <td>Acura</td>\n",
       "      <td>MDX</td>\n",
       "      <td>SUV</td>\n",
       "      <td>Asia</td>\n",
       "      <td>All</td>\n",
       "      <td>36945</td>\n",
       "      <td>3.5</td>\n",
       "      <td>6.0</td>\n",
       "      <td>265</td>\n",
       "      <td>17</td>\n",
       "      <td>...</td>\n",
       "      <td>0</td>\n",
       "      <td>0</td>\n",
       "      <td>0</td>\n",
       "      <td>0</td>\n",
       "      <td>1</td>\n",
       "      <td>0</td>\n",
       "      <td>0</td>\n",
       "      <td>1</td>\n",
       "      <td>0</td>\n",
       "      <td>0</td>\n",
       "    </tr>\n",
       "    <tr>\n",
       "      <th>1</th>\n",
       "      <td>Acura</td>\n",
       "      <td>RSX Type S 2dr</td>\n",
       "      <td>Sedan</td>\n",
       "      <td>Asia</td>\n",
       "      <td>Front</td>\n",
       "      <td>23820</td>\n",
       "      <td>2.0</td>\n",
       "      <td>4.0</td>\n",
       "      <td>200</td>\n",
       "      <td>24</td>\n",
       "      <td>...</td>\n",
       "      <td>1</td>\n",
       "      <td>0</td>\n",
       "      <td>0</td>\n",
       "      <td>0</td>\n",
       "      <td>1</td>\n",
       "      <td>0</td>\n",
       "      <td>0</td>\n",
       "      <td>0</td>\n",
       "      <td>1</td>\n",
       "      <td>0</td>\n",
       "    </tr>\n",
       "    <tr>\n",
       "      <th>2</th>\n",
       "      <td>Acura</td>\n",
       "      <td>TSX 4dr</td>\n",
       "      <td>Sedan</td>\n",
       "      <td>Asia</td>\n",
       "      <td>Front</td>\n",
       "      <td>26990</td>\n",
       "      <td>2.4</td>\n",
       "      <td>4.0</td>\n",
       "      <td>200</td>\n",
       "      <td>22</td>\n",
       "      <td>...</td>\n",
       "      <td>1</td>\n",
       "      <td>0</td>\n",
       "      <td>0</td>\n",
       "      <td>0</td>\n",
       "      <td>1</td>\n",
       "      <td>0</td>\n",
       "      <td>0</td>\n",
       "      <td>0</td>\n",
       "      <td>1</td>\n",
       "      <td>0</td>\n",
       "    </tr>\n",
       "    <tr>\n",
       "      <th>3</th>\n",
       "      <td>Acura</td>\n",
       "      <td>TL 4dr</td>\n",
       "      <td>Sedan</td>\n",
       "      <td>Asia</td>\n",
       "      <td>Front</td>\n",
       "      <td>33195</td>\n",
       "      <td>3.2</td>\n",
       "      <td>6.0</td>\n",
       "      <td>270</td>\n",
       "      <td>20</td>\n",
       "      <td>...</td>\n",
       "      <td>1</td>\n",
       "      <td>0</td>\n",
       "      <td>0</td>\n",
       "      <td>0</td>\n",
       "      <td>1</td>\n",
       "      <td>0</td>\n",
       "      <td>0</td>\n",
       "      <td>0</td>\n",
       "      <td>1</td>\n",
       "      <td>0</td>\n",
       "    </tr>\n",
       "    <tr>\n",
       "      <th>4</th>\n",
       "      <td>Acura</td>\n",
       "      <td>3.5 RL 4dr</td>\n",
       "      <td>Sedan</td>\n",
       "      <td>Asia</td>\n",
       "      <td>Front</td>\n",
       "      <td>43755</td>\n",
       "      <td>3.5</td>\n",
       "      <td>6.0</td>\n",
       "      <td>225</td>\n",
       "      <td>18</td>\n",
       "      <td>...</td>\n",
       "      <td>1</td>\n",
       "      <td>0</td>\n",
       "      <td>0</td>\n",
       "      <td>0</td>\n",
       "      <td>1</td>\n",
       "      <td>0</td>\n",
       "      <td>0</td>\n",
       "      <td>0</td>\n",
       "      <td>1</td>\n",
       "      <td>0</td>\n",
       "    </tr>\n",
       "    <tr>\n",
       "      <th>...</th>\n",
       "      <td>...</td>\n",
       "      <td>...</td>\n",
       "      <td>...</td>\n",
       "      <td>...</td>\n",
       "      <td>...</td>\n",
       "      <td>...</td>\n",
       "      <td>...</td>\n",
       "      <td>...</td>\n",
       "      <td>...</td>\n",
       "      <td>...</td>\n",
       "      <td>...</td>\n",
       "      <td>...</td>\n",
       "      <td>...</td>\n",
       "      <td>...</td>\n",
       "      <td>...</td>\n",
       "      <td>...</td>\n",
       "      <td>...</td>\n",
       "      <td>...</td>\n",
       "      <td>...</td>\n",
       "      <td>...</td>\n",
       "      <td>...</td>\n",
       "    </tr>\n",
       "    <tr>\n",
       "      <th>423</th>\n",
       "      <td>Volvo</td>\n",
       "      <td>C70 LPT convertible 2dr</td>\n",
       "      <td>Sedan</td>\n",
       "      <td>Europe</td>\n",
       "      <td>Front</td>\n",
       "      <td>40565</td>\n",
       "      <td>2.4</td>\n",
       "      <td>5.0</td>\n",
       "      <td>197</td>\n",
       "      <td>21</td>\n",
       "      <td>...</td>\n",
       "      <td>1</td>\n",
       "      <td>0</td>\n",
       "      <td>0</td>\n",
       "      <td>0</td>\n",
       "      <td>0</td>\n",
       "      <td>1</td>\n",
       "      <td>0</td>\n",
       "      <td>0</td>\n",
       "      <td>1</td>\n",
       "      <td>0</td>\n",
       "    </tr>\n",
       "    <tr>\n",
       "      <th>424</th>\n",
       "      <td>Volvo</td>\n",
       "      <td>C70 HPT convertible 2dr</td>\n",
       "      <td>Sedan</td>\n",
       "      <td>Europe</td>\n",
       "      <td>Front</td>\n",
       "      <td>42565</td>\n",
       "      <td>2.3</td>\n",
       "      <td>5.0</td>\n",
       "      <td>242</td>\n",
       "      <td>20</td>\n",
       "      <td>...</td>\n",
       "      <td>1</td>\n",
       "      <td>0</td>\n",
       "      <td>0</td>\n",
       "      <td>0</td>\n",
       "      <td>0</td>\n",
       "      <td>1</td>\n",
       "      <td>0</td>\n",
       "      <td>0</td>\n",
       "      <td>1</td>\n",
       "      <td>0</td>\n",
       "    </tr>\n",
       "    <tr>\n",
       "      <th>425</th>\n",
       "      <td>Volvo</td>\n",
       "      <td>S80 T6 4dr</td>\n",
       "      <td>Sedan</td>\n",
       "      <td>Europe</td>\n",
       "      <td>Front</td>\n",
       "      <td>45210</td>\n",
       "      <td>2.9</td>\n",
       "      <td>6.0</td>\n",
       "      <td>268</td>\n",
       "      <td>19</td>\n",
       "      <td>...</td>\n",
       "      <td>1</td>\n",
       "      <td>0</td>\n",
       "      <td>0</td>\n",
       "      <td>0</td>\n",
       "      <td>0</td>\n",
       "      <td>1</td>\n",
       "      <td>0</td>\n",
       "      <td>0</td>\n",
       "      <td>1</td>\n",
       "      <td>0</td>\n",
       "    </tr>\n",
       "    <tr>\n",
       "      <th>426</th>\n",
       "      <td>Volvo</td>\n",
       "      <td>V40</td>\n",
       "      <td>Wagon</td>\n",
       "      <td>Europe</td>\n",
       "      <td>Front</td>\n",
       "      <td>26135</td>\n",
       "      <td>1.9</td>\n",
       "      <td>4.0</td>\n",
       "      <td>170</td>\n",
       "      <td>22</td>\n",
       "      <td>...</td>\n",
       "      <td>0</td>\n",
       "      <td>0</td>\n",
       "      <td>0</td>\n",
       "      <td>1</td>\n",
       "      <td>0</td>\n",
       "      <td>1</td>\n",
       "      <td>0</td>\n",
       "      <td>0</td>\n",
       "      <td>1</td>\n",
       "      <td>0</td>\n",
       "    </tr>\n",
       "    <tr>\n",
       "      <th>427</th>\n",
       "      <td>Volvo</td>\n",
       "      <td>XC70</td>\n",
       "      <td>Wagon</td>\n",
       "      <td>Europe</td>\n",
       "      <td>All</td>\n",
       "      <td>35145</td>\n",
       "      <td>2.5</td>\n",
       "      <td>5.0</td>\n",
       "      <td>208</td>\n",
       "      <td>20</td>\n",
       "      <td>...</td>\n",
       "      <td>0</td>\n",
       "      <td>0</td>\n",
       "      <td>0</td>\n",
       "      <td>1</td>\n",
       "      <td>0</td>\n",
       "      <td>1</td>\n",
       "      <td>0</td>\n",
       "      <td>1</td>\n",
       "      <td>0</td>\n",
       "      <td>0</td>\n",
       "    </tr>\n",
       "  </tbody>\n",
       "</table>\n",
       "<p>426 rows × 489 columns</p>\n",
       "</div>"
      ],
      "text/plain": [
       "      Make                    Model   Type  Origin DriveTrain   MSRP  \\\n",
       "0    Acura                      MDX    SUV    Asia        All  36945   \n",
       "1    Acura           RSX Type S 2dr  Sedan    Asia      Front  23820   \n",
       "2    Acura                  TSX 4dr  Sedan    Asia      Front  26990   \n",
       "3    Acura                   TL 4dr  Sedan    Asia      Front  33195   \n",
       "4    Acura               3.5 RL 4dr  Sedan    Asia      Front  43755   \n",
       "..     ...                      ...    ...     ...        ...    ...   \n",
       "423  Volvo  C70 LPT convertible 2dr  Sedan  Europe      Front  40565   \n",
       "424  Volvo  C70 HPT convertible 2dr  Sedan  Europe      Front  42565   \n",
       "425  Volvo               S80 T6 4dr  Sedan  Europe      Front  45210   \n",
       "426  Volvo                      V40  Wagon  Europe      Front  26135   \n",
       "427  Volvo                     XC70  Wagon  Europe        All  35145   \n",
       "\n",
       "     EngineSize  Cylinders  Horsepower  MPG_City  ...  Sedan  Sports  Truck  \\\n",
       "0           3.5        6.0         265        17  ...      0       0      0   \n",
       "1           2.0        4.0         200        24  ...      1       0      0   \n",
       "2           2.4        4.0         200        22  ...      1       0      0   \n",
       "3           3.2        6.0         270        20  ...      1       0      0   \n",
       "4           3.5        6.0         225        18  ...      1       0      0   \n",
       "..          ...        ...         ...       ...  ...    ...     ...    ...   \n",
       "423         2.4        5.0         197        21  ...      1       0      0   \n",
       "424         2.3        5.0         242        20  ...      1       0      0   \n",
       "425         2.9        6.0         268        19  ...      1       0      0   \n",
       "426         1.9        4.0         170        22  ...      0       0      0   \n",
       "427         2.5        5.0         208        20  ...      0       0      0   \n",
       "\n",
       "     Wagon  Asia  Europe  USA  All  Front  Rear  \n",
       "0        0     1       0    0    1      0     0  \n",
       "1        0     1       0    0    0      1     0  \n",
       "2        0     1       0    0    0      1     0  \n",
       "3        0     1       0    0    0      1     0  \n",
       "4        0     1       0    0    0      1     0  \n",
       "..     ...   ...     ...  ...  ...    ...   ...  \n",
       "423      0     0       1    0    0      1     0  \n",
       "424      0     0       1    0    0      1     0  \n",
       "425      0     0       1    0    0      1     0  \n",
       "426      1     0       1    0    0      1     0  \n",
       "427      1     0       1    0    1      0     0  \n",
       "\n",
       "[426 rows x 489 columns]"
      ]
     },
     "execution_count": 65,
     "metadata": {},
     "output_type": "execute_result"
    }
   ],
   "source": [
    "df = pd.read_csv('cars_data.csv')\n",
    "df.drop(axis=1, columns=['Invoice'], inplace=True)\n",
    "df['MSRP'] = df['MSRP'].replace('[$,]', '', regex=True).astype('int64')\n",
    "df = df.join(pd.get_dummies(df.Make))\n",
    "df = df.join(pd.get_dummies(df.Model))\n",
    "df = df.join(pd.get_dummies(df.Type))\n",
    "df = df.join(pd.get_dummies(df.Origin))\n",
    "df = df.join(pd.get_dummies(df.DriveTrain))\n",
    "df = df.dropna(how='any')\n",
    "df"
   ]
  },
  {
   "cell_type": "code",
   "execution_count": 66,
   "id": "9a29d363",
   "metadata": {
    "ExecuteTime": {
     "end_time": "2022-07-15T16:57:13.904341Z",
     "start_time": "2022-07-15T16:57:13.874289Z"
    }
   },
   "outputs": [
    {
     "name": "stdout",
     "output_type": "stream",
     "text": [
      "<class 'pandas.core.frame.DataFrame'>\n",
      "Int64Index: 426 entries, 0 to 427\n",
      "Columns: 483 entries, EngineSize to Rear\n",
      "dtypes: float64(2), int64(6), uint8(475)\n",
      "memory usage: 227.6 KB\n"
     ]
    }
   ],
   "source": [
    "y = df.MSRP\n",
    "X= df.drop(axis=1, columns=['MSRP', 'Make', 'Model', 'Type', 'Origin', 'DriveTrain'])\n",
    "X.info(show_counts=True)"
   ]
  },
  {
   "cell_type": "code",
   "execution_count": 67,
   "id": "d1bc5b42",
   "metadata": {
    "ExecuteTime": {
     "end_time": "2022-07-15T16:57:14.372510Z",
     "start_time": "2022-07-15T16:57:14.354485Z"
    }
   },
   "outputs": [],
   "source": [
    "X_train, X_test, y_train, y_test = train_test_split(X, y, test_size=0.3, random_state=1)"
   ]
  },
  {
   "cell_type": "markdown",
   "id": "1f8e7e4a",
   "metadata": {},
   "source": [
    "### Q1"
   ]
  },
  {
   "cell_type": "code",
   "execution_count": 68,
   "id": "4862173b",
   "metadata": {
    "ExecuteTime": {
     "end_time": "2022-07-15T16:57:14.952218Z",
     "start_time": "2022-07-15T16:57:14.866247Z"
    }
   },
   "outputs": [
    {
     "data": {
      "text/plain": [
       "0.8081101853064041"
      ]
     },
     "execution_count": 68,
     "metadata": {},
     "output_type": "execute_result"
    }
   ],
   "source": [
    "from sklearn.ensemble import BaggingRegressor\n",
    "\n",
    "br = BaggingRegressor(random_state=1)\n",
    "\n",
    "br.fit(X_train, y_train).score(X_test, y_test)"
   ]
  },
  {
   "cell_type": "markdown",
   "id": "6dcecc92",
   "metadata": {},
   "source": [
    "### Q2"
   ]
  },
  {
   "cell_type": "code",
   "execution_count": 69,
   "id": "8fb33ec0",
   "metadata": {
    "ExecuteTime": {
     "end_time": "2022-07-15T16:57:15.820743Z",
     "start_time": "2022-07-15T16:57:15.265720Z"
    }
   },
   "outputs": [
    {
     "data": {
      "text/plain": [
       "0.8322596113057631"
      ]
     },
     "execution_count": 69,
     "metadata": {},
     "output_type": "execute_result"
    }
   ],
   "source": [
    "from sklearn.ensemble import RandomForestRegressor\n",
    "\n",
    "rfr = RandomForestRegressor(random_state=1)\n",
    "\n",
    "rfr.fit(X_train, y_train).score(X_test, y_test)"
   ]
  },
  {
   "cell_type": "markdown",
   "id": "1d7eff91",
   "metadata": {},
   "source": [
    "### Q3"
   ]
  },
  {
   "cell_type": "code",
   "execution_count": 70,
   "id": "cae68c69",
   "metadata": {
    "ExecuteTime": {
     "end_time": "2022-07-15T16:57:16.075818Z",
     "start_time": "2022-07-15T16:57:15.823719Z"
    }
   },
   "outputs": [
    {
     "data": {
      "text/plain": [
       "0.828591223628385"
      ]
     },
     "execution_count": 70,
     "metadata": {},
     "output_type": "execute_result"
    }
   ],
   "source": [
    "from sklearn.ensemble import GradientBoostingRegressor\n",
    "\n",
    "gbr = GradientBoostingRegressor(random_state=1)\n",
    "\n",
    "gbr.fit(X_train, y_train).score(X_test, y_test)"
   ]
  },
  {
   "cell_type": "markdown",
   "id": "8a43de96",
   "metadata": {},
   "source": [
    "### Q4"
   ]
  },
  {
   "cell_type": "code",
   "execution_count": 71,
   "id": "91be63c7",
   "metadata": {
    "ExecuteTime": {
     "end_time": "2022-07-15T16:57:16.360785Z",
     "start_time": "2022-07-15T16:57:16.100741Z"
    }
   },
   "outputs": [
    {
     "data": {
      "text/plain": [
       "0.7117418179818926"
      ]
     },
     "execution_count": 71,
     "metadata": {},
     "output_type": "execute_result"
    }
   ],
   "source": [
    "from sklearn.ensemble import AdaBoostRegressor\n",
    "\n",
    "abr = AdaBoostRegressor(random_state=1)\n",
    "\n",
    "abr.fit(X_train, y_train).score(X_test, y_test)"
   ]
  },
  {
   "cell_type": "markdown",
   "id": "0fbd2363",
   "metadata": {},
   "source": [
    "## Q5-7"
   ]
  },
  {
   "cell_type": "code",
   "execution_count": 72,
   "id": "88c63ffc",
   "metadata": {
    "ExecuteTime": {
     "end_time": "2022-07-15T16:58:02.868276Z",
     "start_time": "2022-07-15T16:57:16.906428Z"
    }
   },
   "outputs": [
    {
     "data": {
      "text/plain": [
       "GridSearchCV(cv=4, estimator=AdaBoostRegressor(random_state=1),\n",
       "             param_grid={'learning_rate': [0.5, 1, 2],\n",
       "                         'n_estimators': [100, 500, 1000]})"
      ]
     },
     "execution_count": 72,
     "metadata": {},
     "output_type": "execute_result"
    }
   ],
   "source": [
    "adbr2 = AdaBoostRegressor(random_state=1)\n",
    "\n",
    "params = {\n",
    "    'n_estimators': [100, 500, 1000],\n",
    "    'learning_rate': [0.5, 1, 2],\n",
    "}\n",
    "\n",
    "cv = 4\n",
    "\n",
    "grid = GridSearchCV(estimator=adbr2, param_grid=params, cv=cv)\n",
    "\n",
    "grid.fit(X_train, y_train)"
   ]
  },
  {
   "cell_type": "code",
   "execution_count": 73,
   "id": "022176d0",
   "metadata": {
    "ExecuteTime": {
     "end_time": "2022-07-15T16:58:03.214306Z",
     "start_time": "2022-07-15T16:58:02.872278Z"
    }
   },
   "outputs": [
    {
     "data": {
      "text/plain": [
       "0.7221800230165094"
      ]
     },
     "execution_count": 73,
     "metadata": {},
     "output_type": "execute_result"
    }
   ],
   "source": [
    "grid.score(X_test, y_test)"
   ]
  },
  {
   "cell_type": "code",
   "execution_count": 74,
   "id": "efcc2a3e",
   "metadata": {
    "ExecuteTime": {
     "end_time": "2022-07-15T17:00:41.908412Z",
     "start_time": "2022-07-15T17:00:41.887390Z"
    }
   },
   "outputs": [
    {
     "data": {
      "text/plain": [
       "AdaBoostRegressor(learning_rate=0.5, n_estimators=1000, random_state=1)"
      ]
     },
     "execution_count": 74,
     "metadata": {},
     "output_type": "execute_result"
    }
   ],
   "source": [
    "grid.best_estimator_"
   ]
  },
  {
   "cell_type": "code",
   "execution_count": null,
   "id": "6a54a08d",
   "metadata": {},
   "outputs": [],
   "source": []
  },
  {
   "cell_type": "code",
   "execution_count": null,
   "id": "5ed5afc5",
   "metadata": {},
   "outputs": [],
   "source": []
  },
  {
   "cell_type": "code",
   "execution_count": null,
   "id": "98a606d7",
   "metadata": {},
   "outputs": [],
   "source": []
  },
  {
   "cell_type": "code",
   "execution_count": null,
   "id": "f60f7699",
   "metadata": {},
   "outputs": [],
   "source": []
  },
  {
   "cell_type": "code",
   "execution_count": null,
   "id": "fcb266ad",
   "metadata": {},
   "outputs": [],
   "source": []
  },
  {
   "cell_type": "code",
   "execution_count": null,
   "id": "ddfdc1a0",
   "metadata": {},
   "outputs": [],
   "source": []
  }
 ],
 "metadata": {
  "kernelspec": {
   "display_name": "Python 3 (ipykernel)",
   "language": "python",
   "name": "python3"
  },
  "language_info": {
   "codemirror_mode": {
    "name": "ipython",
    "version": 3
   },
   "file_extension": ".py",
   "mimetype": "text/x-python",
   "name": "python",
   "nbconvert_exporter": "python",
   "pygments_lexer": "ipython3",
   "version": "3.9.7"
  }
 },
 "nbformat": 4,
 "nbformat_minor": 5
}
