{
 "cells": [
  {
   "cell_type": "markdown",
   "id": "f3d4938d",
   "metadata": {},
   "source": [
    "# Practice Assignment"
   ]
  },
  {
   "cell_type": "code",
   "execution_count": 22,
   "id": "d3ec7af5",
   "metadata": {
    "ExecuteTime": {
     "end_time": "2022-07-16T05:50:09.880910Z",
     "start_time": "2022-07-16T05:50:08.693092Z"
    }
   },
   "outputs": [],
   "source": [
    "import pandas as pd\n",
    "import numpy as np\n",
    "\n",
    "import matplotlib.pyplot as plt\n",
    "\n",
    "import warnings\n",
    "warnings.filterwarnings('ignore')"
   ]
  },
  {
   "cell_type": "markdown",
   "id": "90f35ffc",
   "metadata": {},
   "source": [
    "## Q1-4"
   ]
  },
  {
   "cell_type": "code",
   "execution_count": 16,
   "id": "da4a7daf",
   "metadata": {
    "ExecuteTime": {
     "end_time": "2022-07-16T05:49:11.644411Z",
     "start_time": "2022-07-16T05:49:11.622439Z"
    }
   },
   "outputs": [],
   "source": [
    "from sklearn.datasets import load_iris\n",
    "from sklearn.cluster import KMeans\n",
    "\n",
    "X, y = load_iris(return_X_y=True, as_frame=True)\n",
    "\n",
    "kmeans_kwargs = {\n",
    "    'init' : 'random',\n",
    "    'n_init' : 50,\n",
    "    'max_iter' : 500,\n",
    "    'random_state' : 10,\n",
    "}"
   ]
  },
  {
   "cell_type": "markdown",
   "id": "08894390",
   "metadata": {},
   "source": [
    "### Q1"
   ]
  },
  {
   "cell_type": "code",
   "execution_count": 17,
   "id": "7faa4d99",
   "metadata": {
    "ExecuteTime": {
     "end_time": "2022-07-16T05:49:12.175747Z",
     "start_time": "2022-07-16T05:49:12.162749Z"
    }
   },
   "outputs": [
    {
     "data": {
      "text/html": [
       "<div><div id=adbb2b70-6607-4d0e-9fae-1e71c709aefe style=\"display:none; background-color:#9D6CFF; color:white; width:200px; height:30px; padding-left:5px; border-radius:4px; flex-direction:row; justify-content:space-around; align-items:center;\" onmouseover=\"this.style.backgroundColor='#BA9BF8'\" onmouseout=\"this.style.backgroundColor='#9D6CFF'\" onclick=\"window.commands?.execute('create-mitosheet-from-dataframe-output');\">See Full Dataframe in Mito</div> <script> if (window.commands?.hasCommand('create-mitosheet-from-dataframe-output')) document.getElementById('adbb2b70-6607-4d0e-9fae-1e71c709aefe').style.display = 'flex' </script> <table border=\"1\" class=\"dataframe\">\n",
       "  <thead>\n",
       "    <tr style=\"text-align: right;\">\n",
       "      <th></th>\n",
       "      <th>sepal length (cm)</th>\n",
       "      <th>sepal width (cm)</th>\n",
       "      <th>petal length (cm)</th>\n",
       "      <th>petal width (cm)</th>\n",
       "    </tr>\n",
       "  </thead>\n",
       "  <tbody>\n",
       "    <tr>\n",
       "      <th>sepal length (cm)</th>\n",
       "      <td>1.000000</td>\n",
       "      <td>-0.117570</td>\n",
       "      <td>0.871754</td>\n",
       "      <td>0.817941</td>\n",
       "    </tr>\n",
       "    <tr>\n",
       "      <th>sepal width (cm)</th>\n",
       "      <td>-0.117570</td>\n",
       "      <td>1.000000</td>\n",
       "      <td>-0.428440</td>\n",
       "      <td>-0.366126</td>\n",
       "    </tr>\n",
       "    <tr>\n",
       "      <th>petal length (cm)</th>\n",
       "      <td>0.871754</td>\n",
       "      <td>-0.428440</td>\n",
       "      <td>1.000000</td>\n",
       "      <td>0.962865</td>\n",
       "    </tr>\n",
       "    <tr>\n",
       "      <th>petal width (cm)</th>\n",
       "      <td>0.817941</td>\n",
       "      <td>-0.366126</td>\n",
       "      <td>0.962865</td>\n",
       "      <td>1.000000</td>\n",
       "    </tr>\n",
       "  </tbody>\n",
       "</table></div>"
      ],
      "text/plain": [
       "                   sepal length (cm)  sepal width (cm)  petal length (cm)  \\\n",
       "sepal length (cm)           1.000000         -0.117570           0.871754   \n",
       "sepal width (cm)           -0.117570          1.000000          -0.428440   \n",
       "petal length (cm)           0.871754         -0.428440           1.000000   \n",
       "petal width (cm)            0.817941         -0.366126           0.962865   \n",
       "\n",
       "                   petal width (cm)  \n",
       "sepal length (cm)          0.817941  \n",
       "sepal width (cm)          -0.366126  \n",
       "petal length (cm)          0.962865  \n",
       "petal width (cm)           1.000000  "
      ]
     },
     "execution_count": 17,
     "metadata": {},
     "output_type": "execute_result"
    }
   ],
   "source": [
    "X.corr()"
   ]
  },
  {
   "cell_type": "markdown",
   "id": "8d905b4a",
   "metadata": {},
   "source": [
    "### Q2"
   ]
  },
  {
   "cell_type": "code",
   "execution_count": 18,
   "id": "5ae24d88",
   "metadata": {
    "ExecuteTime": {
     "end_time": "2022-07-16T05:49:13.535858Z",
     "start_time": "2022-07-16T05:49:13.377857Z"
    }
   },
   "outputs": [
    {
     "data": {
      "text/plain": [
       "46.44618205128205"
      ]
     },
     "execution_count": 18,
     "metadata": {},
     "output_type": "execute_result"
    }
   ],
   "source": [
    "km = KMeans(n_clusters=5, **kmeans_kwargs)\n",
    "\n",
    "km.fit(X)\n",
    "km.inertia_"
   ]
  },
  {
   "cell_type": "markdown",
   "id": "1890a91f",
   "metadata": {
    "ExecuteTime": {
     "end_time": "2022-07-16T05:45:26.145776Z",
     "start_time": "2022-07-16T05:45:26.133752Z"
    }
   },
   "source": [
    "### Q3"
   ]
  },
  {
   "cell_type": "code",
   "execution_count": 21,
   "id": "fd954034",
   "metadata": {
    "ExecuteTime": {
     "end_time": "2022-07-16T05:49:51.636761Z",
     "start_time": "2022-07-16T05:49:46.907763Z"
    }
   },
   "outputs": [],
   "source": [
    "sse_iris = []\n",
    "\n",
    "for k in range(1, 12):\n",
    "    kmeans = KMeans(n_clusters=k, **kmeans_kwargs)\n",
    "    kmeans.fit(X)\n",
    "    sse_iris.append(kmeans.inertia_)"
   ]
  },
  {
   "cell_type": "code",
   "execution_count": 23,
   "id": "5e2209fb",
   "metadata": {
    "ExecuteTime": {
     "end_time": "2022-07-16T05:50:57.292452Z",
     "start_time": "2022-07-16T05:50:56.999482Z"
    }
   },
   "outputs": [
    {
     "data": {
      "image/png": "[encoded data removed]",
      "text/plain": [
       "<Figure size 432x288 with 1 Axes>"
      ]
     },
     "metadata": {
      "needs_background": "light"
     },
     "output_type": "display_data"
    }
   ],
   "source": [
    "plt.plot(range(1, 12), sse_iris)\n",
    "plt.xticks(range(1,12))\n",
    "plt.xlabel('Number of clusters')\n",
    "plt.ylabel('SSE')\n",
    "plt.show()"
   ]
  },
  {
   "cell_type": "markdown",
   "id": "ce89e4f8",
   "metadata": {},
   "source": [
    "### Q4"
   ]
  },
  {
   "cell_type": "code",
   "execution_count": 25,
   "id": "ea85fb7e",
   "metadata": {
    "ExecuteTime": {
     "end_time": "2022-07-16T05:52:46.312853Z",
     "start_time": "2022-07-16T05:52:46.300818Z"
    }
   },
   "outputs": [
    {
     "data": {
      "text/plain": [
       "78.85144142614601"
      ]
     },
     "execution_count": 25,
     "metadata": {},
     "output_type": "execute_result"
    }
   ],
   "source": [
    "sse_iris[2]"
   ]
  },
  {
   "cell_type": "markdown",
   "id": "edb86485",
   "metadata": {},
   "source": [
    "## Q5-6"
   ]
  },
  {
   "cell_type": "code",
   "execution_count": 28,
   "id": "830cfa16",
   "metadata": {
    "ExecuteTime": {
     "end_time": "2022-07-16T05:58:31.140363Z",
     "start_time": "2022-07-16T05:58:31.125341Z"
    }
   },
   "outputs": [
    {
     "data": {
      "text/plain": [
       "AgglomerativeClustering(n_clusters=3)"
      ]
     },
     "execution_count": 28,
     "metadata": {},
     "output_type": "execute_result"
    }
   ],
   "source": [
    "from sklearn.cluster import AgglomerativeClustering\n",
    "\n",
    "aggc = AgglomerativeClustering(n_clusters=3, affinity='euclidean', linkage='ward')\n",
    "\n",
    "aggc.fit(X)"
   ]
  },
  {
   "cell_type": "markdown",
   "id": "5f13512c",
   "metadata": {},
   "source": [
    "### Q5"
   ]
  },
  {
   "cell_type": "code",
   "execution_count": 29,
   "id": "822e7ec3",
   "metadata": {
    "ExecuteTime": {
     "end_time": "2022-07-16T05:58:33.185544Z",
     "start_time": "2022-07-16T05:58:33.164543Z"
    }
   },
   "outputs": [
    {
     "data": {
      "text/plain": [
       "array([1, 1, 1, 1, 1, 1, 1, 1, 1, 1, 1, 1, 1, 1, 1, 1, 1, 1, 1, 1, 1, 1,\n",
       "       1, 1, 1, 1, 1, 1, 1, 1, 1, 1, 1, 1, 1, 1, 1, 1, 1, 1, 1, 1, 1, 1,\n",
       "       1, 1, 1, 1, 1, 1, 0, 0, 0, 0, 0, 0, 0, 0, 0, 0, 0, 0, 0, 0, 0, 0,\n",
       "       0, 0, 0, 0, 0, 0, 0, 0, 0, 0, 0, 2, 0, 0, 0, 0, 0, 0, 0, 0, 0, 0,\n",
       "       0, 0, 0, 0, 0, 0, 0, 0, 0, 0, 0, 0, 2, 0, 2, 2, 2, 2, 0, 2, 2, 2,\n",
       "       2, 2, 2, 0, 0, 2, 2, 2, 2, 0, 2, 0, 2, 0, 2, 2, 0, 0, 2, 2, 2, 2,\n",
       "       2, 0, 0, 2, 2, 2, 0, 2, 2, 2, 0, 2, 2, 2, 0, 2, 2, 0], dtype=int64)"
      ]
     },
     "execution_count": 29,
     "metadata": {},
     "output_type": "execute_result"
    }
   ],
   "source": [
    "aggc.labels_"
   ]
  },
  {
   "cell_type": "markdown",
   "id": "5809500d",
   "metadata": {},
   "source": [
    "### Q6"
   ]
  },
  {
   "cell_type": "code",
   "execution_count": 30,
   "id": "c216274e",
   "metadata": {
    "ExecuteTime": {
     "end_time": "2022-07-16T05:58:56.071332Z",
     "start_time": "2022-07-16T05:58:56.060330Z"
    }
   },
   "outputs": [
    {
     "data": {
      "text/plain": [
       "150"
      ]
     },
     "execution_count": 30,
     "metadata": {},
     "output_type": "execute_result"
    }
   ],
   "source": [
    "aggc.n_leaves_"
   ]
  },
  {
   "cell_type": "markdown",
   "id": "a386c6d0",
   "metadata": {},
   "source": [
    "# Graded Assignment"
   ]
  },
  {
   "cell_type": "code",
   "execution_count": 67,
   "id": "15293fe2",
   "metadata": {
    "ExecuteTime": {
     "end_time": "2022-07-16T07:01:03.842863Z",
     "start_time": "2022-07-16T07:01:03.806005Z"
    }
   },
   "outputs": [
    {
     "data": {
      "text/html": [
       "<div><div id=06a82513-a649-4cac-98c7-f6eb82ecc60d style=\"display:none; background-color:#9D6CFF; color:white; width:200px; height:30px; padding-left:5px; border-radius:4px; flex-direction:row; justify-content:space-around; align-items:center;\" onmouseover=\"this.style.backgroundColor='#BA9BF8'\" onmouseout=\"this.style.backgroundColor='#9D6CFF'\" onclick=\"window.commands?.execute('create-mitosheet-from-dataframe-output');\">See Full Dataframe in Mito</div> <script> if (window.commands?.hasCommand('create-mitosheet-from-dataframe-output')) document.getElementById('06a82513-a649-4cac-98c7-f6eb82ecc60d').style.display = 'flex' </script> <table border=\"1\" class=\"dataframe\">\n",
       "  <thead>\n",
       "    <tr style=\"text-align: right;\">\n",
       "      <th></th>\n",
       "      <th>status_id</th>\n",
       "      <th>status_type</th>\n",
       "      <th>status_published</th>\n",
       "      <th>num_reactions</th>\n",
       "      <th>num_comments</th>\n",
       "      <th>num_shares</th>\n",
       "      <th>num_likes</th>\n",
       "      <th>num_loves</th>\n",
       "      <th>num_wows</th>\n",
       "      <th>num_hahas</th>\n",
       "      <th>num_sads</th>\n",
       "      <th>num_angrys</th>\n",
       "      <th>Column1</th>\n",
       "      <th>Column2</th>\n",
       "      <th>Column3</th>\n",
       "      <th>Column4</th>\n",
       "    </tr>\n",
       "  </thead>\n",
       "  <tbody>\n",
       "    <tr>\n",
       "      <th>0</th>\n",
       "      <td>1</td>\n",
       "      <td>video</td>\n",
       "      <td>4/22/2018 6:00</td>\n",
       "      <td>529</td>\n",
       "      <td>512</td>\n",
       "      <td>262</td>\n",
       "      <td>432</td>\n",
       "      <td>92</td>\n",
       "      <td>3</td>\n",
       "      <td>1</td>\n",
       "      <td>1</td>\n",
       "      <td>0</td>\n",
       "      <td>NaN</td>\n",
       "      <td>NaN</td>\n",
       "      <td>NaN</td>\n",
       "      <td>NaN</td>\n",
       "    </tr>\n",
       "    <tr>\n",
       "      <th>1</th>\n",
       "      <td>2</td>\n",
       "      <td>photo</td>\n",
       "      <td>4/21/2018 22:45</td>\n",
       "      <td>150</td>\n",
       "      <td>0</td>\n",
       "      <td>0</td>\n",
       "      <td>150</td>\n",
       "      <td>0</td>\n",
       "      <td>0</td>\n",
       "      <td>0</td>\n",
       "      <td>0</td>\n",
       "      <td>0</td>\n",
       "      <td>NaN</td>\n",
       "      <td>NaN</td>\n",
       "      <td>NaN</td>\n",
       "      <td>NaN</td>\n",
       "    </tr>\n",
       "    <tr>\n",
       "      <th>2</th>\n",
       "      <td>3</td>\n",
       "      <td>video</td>\n",
       "      <td>4/21/2018 6:17</td>\n",
       "      <td>227</td>\n",
       "      <td>236</td>\n",
       "      <td>57</td>\n",
       "      <td>204</td>\n",
       "      <td>21</td>\n",
       "      <td>1</td>\n",
       "      <td>1</td>\n",
       "      <td>0</td>\n",
       "      <td>0</td>\n",
       "      <td>NaN</td>\n",
       "      <td>NaN</td>\n",
       "      <td>NaN</td>\n",
       "      <td>NaN</td>\n",
       "    </tr>\n",
       "    <tr>\n",
       "      <th>3</th>\n",
       "      <td>4</td>\n",
       "      <td>photo</td>\n",
       "      <td>4/21/2018 2:29</td>\n",
       "      <td>111</td>\n",
       "      <td>0</td>\n",
       "      <td>0</td>\n",
       "      <td>111</td>\n",
       "      <td>0</td>\n",
       "      <td>0</td>\n",
       "      <td>0</td>\n",
       "      <td>0</td>\n",
       "      <td>0</td>\n",
       "      <td>NaN</td>\n",
       "      <td>NaN</td>\n",
       "      <td>NaN</td>\n",
       "      <td>NaN</td>\n",
       "    </tr>\n",
       "    <tr>\n",
       "      <th>4</th>\n",
       "      <td>5</td>\n",
       "      <td>photo</td>\n",
       "      <td>4/18/2018 3:22</td>\n",
       "      <td>213</td>\n",
       "      <td>0</td>\n",
       "      <td>0</td>\n",
       "      <td>204</td>\n",
       "      <td>9</td>\n",
       "      <td>0</td>\n",
       "      <td>0</td>\n",
       "      <td>0</td>\n",
       "      <td>0</td>\n",
       "      <td>NaN</td>\n",
       "      <td>NaN</td>\n",
       "      <td>NaN</td>\n",
       "      <td>NaN</td>\n",
       "    </tr>\n",
       "  </tbody>\n",
       "</table></div>"
      ],
      "text/plain": [
       "   status_id status_type status_published  num_reactions  num_comments  \\\n",
       "0          1       video   4/22/2018 6:00            529           512   \n",
       "1          2       photo  4/21/2018 22:45            150             0   \n",
       "2          3       video   4/21/2018 6:17            227           236   \n",
       "3          4       photo   4/21/2018 2:29            111             0   \n",
       "4          5       photo   4/18/2018 3:22            213             0   \n",
       "\n",
       "   num_shares  num_likes  num_loves  num_wows  num_hahas  num_sads  \\\n",
       "0         262        432         92         3          1         1   \n",
       "1           0        150          0         0          0         0   \n",
       "2          57        204         21         1          1         0   \n",
       "3           0        111          0         0          0         0   \n",
       "4           0        204          9         0          0         0   \n",
       "\n",
       "   num_angrys  Column1  Column2  Column3  Column4  \n",
       "0           0      NaN      NaN      NaN      NaN  \n",
       "1           0      NaN      NaN      NaN      NaN  \n",
       "2           0      NaN      NaN      NaN      NaN  \n",
       "3           0      NaN      NaN      NaN      NaN  \n",
       "4           0      NaN      NaN      NaN      NaN  "
      ]
     },
     "execution_count": 67,
     "metadata": {},
     "output_type": "execute_result"
    }
   ],
   "source": [
    "df = pd.read_csv('Live_20210128.csv')\n",
    "df.head()"
   ]
  },
  {
   "cell_type": "markdown",
   "id": "ef34736e",
   "metadata": {},
   "source": [
    "### Q1"
   ]
  },
  {
   "cell_type": "code",
   "execution_count": 68,
   "id": "7f8e9c0c",
   "metadata": {
    "ExecuteTime": {
     "end_time": "2022-07-16T07:01:04.406436Z",
     "start_time": "2022-07-16T07:01:04.387411Z"
    }
   },
   "outputs": [
    {
     "data": {
      "text/plain": [
       "(7050, 16)"
      ]
     },
     "execution_count": 68,
     "metadata": {},
     "output_type": "execute_result"
    }
   ],
   "source": [
    "df.shape"
   ]
  },
  {
   "cell_type": "markdown",
   "id": "9aac80e9",
   "metadata": {},
   "source": [
    "### Q2"
   ]
  },
  {
   "cell_type": "code",
   "execution_count": 69,
   "id": "6efa17d8",
   "metadata": {
    "ExecuteTime": {
     "end_time": "2022-07-16T07:01:04.765224Z",
     "start_time": "2022-07-16T07:01:04.741918Z"
    }
   },
   "outputs": [
    {
     "data": {
      "text/plain": [
       "status_id              0\n",
       "status_type            0\n",
       "status_published       0\n",
       "num_reactions          0\n",
       "num_comments           0\n",
       "num_shares             0\n",
       "num_likes              0\n",
       "num_loves              0\n",
       "num_wows               0\n",
       "num_hahas              0\n",
       "num_sads               0\n",
       "num_angrys             0\n",
       "Column1             7050\n",
       "Column2             7050\n",
       "Column3             7050\n",
       "Column4             7050\n",
       "dtype: int64"
      ]
     },
     "execution_count": 69,
     "metadata": {},
     "output_type": "execute_result"
    }
   ],
   "source": [
    "df.isnull().sum()"
   ]
  },
  {
   "cell_type": "markdown",
   "id": "9d6a19dd",
   "metadata": {},
   "source": [
    "### Q3 "
   ]
  },
  {
   "cell_type": "code",
   "execution_count": 70,
   "id": "d48e4334",
   "metadata": {
    "ExecuteTime": {
     "end_time": "2022-07-16T07:01:05.090967Z",
     "start_time": "2022-07-16T07:01:05.079966Z"
    }
   },
   "outputs": [
    {
     "data": {
      "text/plain": [
       "array(['video', 'photo', 'link', 'status'], dtype=object)"
      ]
     },
     "execution_count": 70,
     "metadata": {},
     "output_type": "execute_result"
    }
   ],
   "source": [
    "df.status_type.unique()"
   ]
  },
  {
   "cell_type": "markdown",
   "id": "eece681d",
   "metadata": {},
   "source": [
    "## Q4-8 (Preprocessing)"
   ]
  },
  {
   "cell_type": "code",
   "execution_count": 71,
   "id": "2afadc96",
   "metadata": {
    "ExecuteTime": {
     "end_time": "2022-07-16T07:01:05.438225Z",
     "start_time": "2022-07-16T07:01:05.419231Z"
    }
   },
   "outputs": [],
   "source": [
    "y = df.status_type\n",
    "X = df.drop(axis=1, columns=['Column1', 'Column2', 'Column3', 'Column4', 'status_id', 'status_type', 'status_published' ])"
   ]
  },
  {
   "cell_type": "code",
   "execution_count": 72,
   "id": "73becc1c",
   "metadata": {
    "ExecuteTime": {
     "end_time": "2022-07-16T07:01:05.626492Z",
     "start_time": "2022-07-16T07:01:05.604495Z"
    }
   },
   "outputs": [
    {
     "data": {
      "text/html": [
       "<div><div id=6d108f20-be84-410d-9918-7540a48621a3 style=\"display:none; background-color:#9D6CFF; color:white; width:200px; height:30px; padding-left:5px; border-radius:4px; flex-direction:row; justify-content:space-around; align-items:center;\" onmouseover=\"this.style.backgroundColor='#BA9BF8'\" onmouseout=\"this.style.backgroundColor='#9D6CFF'\" onclick=\"window.commands?.execute('create-mitosheet-from-dataframe-output');\">See Full Dataframe in Mito</div> <script> if (window.commands?.hasCommand('create-mitosheet-from-dataframe-output')) document.getElementById('6d108f20-be84-410d-9918-7540a48621a3').style.display = 'flex' </script> <table border=\"1\" class=\"dataframe\">\n",
       "  <thead>\n",
       "    <tr style=\"text-align: right;\">\n",
       "      <th></th>\n",
       "      <th>num_reactions</th>\n",
       "      <th>num_comments</th>\n",
       "      <th>num_shares</th>\n",
       "      <th>num_likes</th>\n",
       "      <th>num_loves</th>\n",
       "      <th>num_wows</th>\n",
       "      <th>num_hahas</th>\n",
       "      <th>num_sads</th>\n",
       "      <th>num_angrys</th>\n",
       "    </tr>\n",
       "  </thead>\n",
       "  <tbody>\n",
       "    <tr>\n",
       "      <th>0</th>\n",
       "      <td>529</td>\n",
       "      <td>512</td>\n",
       "      <td>262</td>\n",
       "      <td>432</td>\n",
       "      <td>92</td>\n",
       "      <td>3</td>\n",
       "      <td>1</td>\n",
       "      <td>1</td>\n",
       "      <td>0</td>\n",
       "    </tr>\n",
       "    <tr>\n",
       "      <th>1</th>\n",
       "      <td>150</td>\n",
       "      <td>0</td>\n",
       "      <td>0</td>\n",
       "      <td>150</td>\n",
       "      <td>0</td>\n",
       "      <td>0</td>\n",
       "      <td>0</td>\n",
       "      <td>0</td>\n",
       "      <td>0</td>\n",
       "    </tr>\n",
       "    <tr>\n",
       "      <th>2</th>\n",
       "      <td>227</td>\n",
       "      <td>236</td>\n",
       "      <td>57</td>\n",
       "      <td>204</td>\n",
       "      <td>21</td>\n",
       "      <td>1</td>\n",
       "      <td>1</td>\n",
       "      <td>0</td>\n",
       "      <td>0</td>\n",
       "    </tr>\n",
       "    <tr>\n",
       "      <th>3</th>\n",
       "      <td>111</td>\n",
       "      <td>0</td>\n",
       "      <td>0</td>\n",
       "      <td>111</td>\n",
       "      <td>0</td>\n",
       "      <td>0</td>\n",
       "      <td>0</td>\n",
       "      <td>0</td>\n",
       "      <td>0</td>\n",
       "    </tr>\n",
       "    <tr>\n",
       "      <th>4</th>\n",
       "      <td>213</td>\n",
       "      <td>0</td>\n",
       "      <td>0</td>\n",
       "      <td>204</td>\n",
       "      <td>9</td>\n",
       "      <td>0</td>\n",
       "      <td>0</td>\n",
       "      <td>0</td>\n",
       "      <td>0</td>\n",
       "    </tr>\n",
       "  </tbody>\n",
       "</table></div>"
      ],
      "text/plain": [
       "   num_reactions  num_comments  num_shares  num_likes  num_loves  num_wows  \\\n",
       "0            529           512         262        432         92         3   \n",
       "1            150             0           0        150          0         0   \n",
       "2            227           236          57        204         21         1   \n",
       "3            111             0           0        111          0         0   \n",
       "4            213             0           0        204          9         0   \n",
       "\n",
       "   num_hahas  num_sads  num_angrys  \n",
       "0          1         1           0  \n",
       "1          0         0           0  \n",
       "2          1         0           0  \n",
       "3          0         0           0  \n",
       "4          0         0           0  "
      ]
     },
     "execution_count": 72,
     "metadata": {},
     "output_type": "execute_result"
    }
   ],
   "source": [
    "X.head()"
   ]
  },
  {
   "cell_type": "markdown",
   "id": "bff74d07",
   "metadata": {},
   "source": [
    "### Q4"
   ]
  },
  {
   "cell_type": "code",
   "execution_count": 73,
   "id": "e5ddc10d",
   "metadata": {
    "ExecuteTime": {
     "end_time": "2022-07-16T07:01:06.080729Z",
     "start_time": "2022-07-16T07:01:05.992730Z"
    }
   },
   "outputs": [
    {
     "data": {
      "text/plain": [
       "48278.098242205444"
      ]
     },
     "execution_count": 73,
     "metadata": {},
     "output_type": "execute_result"
    }
   ],
   "source": [
    "from sklearn.pipeline import Pipeline\n",
    "from sklearn.preprocessing import StandardScaler\n",
    "\n",
    "km2 = KMeans(n_clusters=2, random_state=10)\n",
    "\n",
    "kmpipe = Pipeline([\n",
    "    ('scaling', StandardScaler()),\n",
    "    ('km', km2),\n",
    "])\n",
    "\n",
    "kmpipe.fit(X)\n",
    "kmpipe[-1].inertia_"
   ]
  },
  {
   "cell_type": "markdown",
   "id": "0e1ac369",
   "metadata": {},
   "source": [
    "### Q5"
   ]
  },
  {
   "cell_type": "code",
   "execution_count": 92,
   "id": "db4a6b3b",
   "metadata": {
    "ExecuteTime": {
     "end_time": "2022-07-16T07:07:51.618137Z",
     "start_time": "2022-07-16T07:07:51.476139Z"
    }
   },
   "outputs": [],
   "source": [
    "from sklearn.preprocessing import LabelEncoder\n",
    "\n",
    "le = LabelEncoder()\n",
    "le.fit(y)\n",
    "y_enc = le.transform(y)  # encoded y\n",
    "\n",
    "\n",
    "# Refit kmpipeline with k=4\n",
    "km2 = KMeans(n_clusters=4, random_state=10)\n",
    "kmpipe = Pipeline([\n",
    "    ('scaling', StandardScaler()),\n",
    "    ('km', km2),\n",
    "])\n",
    "kmpipe.fit(X)\n",
    "y_pred = kmpipe[-1].labels_"
   ]
  },
  {
   "cell_type": "code",
   "execution_count": 93,
   "id": "cf01676d",
   "metadata": {
    "ExecuteTime": {
     "end_time": "2022-07-16T07:07:51.682137Z",
     "start_time": "2022-07-16T07:07:51.667137Z"
    }
   },
   "outputs": [
    {
     "data": {
      "text/plain": [
       "4421"
      ]
     },
     "execution_count": 93,
     "metadata": {},
     "output_type": "execute_result"
    }
   ],
   "source": [
    "len(np.where(y_enc==y_pred)[0])"
   ]
  },
  {
   "cell_type": "markdown",
   "id": "8e0b5b70",
   "metadata": {
    "ExecuteTime": {
     "end_time": "2022-07-16T07:06:46.930859Z",
     "start_time": "2022-07-16T07:06:46.924882Z"
    }
   },
   "source": [
    "### Q6"
   ]
  },
  {
   "cell_type": "code",
   "execution_count": 95,
   "id": "b8b68486",
   "metadata": {
    "ExecuteTime": {
     "end_time": "2022-07-16T07:28:22.836141Z",
     "start_time": "2022-07-16T07:28:20.725139Z"
    }
   },
   "outputs": [
    {
     "data": {
      "text/plain": [
       "Pipeline(steps=[('scaling', StandardScaler()),\n",
       "                ('aggc', AgglomerativeClustering(n_clusters=4))])"
      ]
     },
     "execution_count": 95,
     "metadata": {},
     "output_type": "execute_result"
    }
   ],
   "source": [
    "aggc2 = AgglomerativeClustering(n_clusters=4, affinity='euclidean', linkage='ward')\n",
    "\n",
    "aggcpipe = Pipeline([\n",
    "    ('scaling', StandardScaler()),\n",
    "    ('aggc', aggc2),\n",
    "])\n",
    "\n",
    "aggcpipe.fit(X)"
   ]
  },
  {
   "cell_type": "code",
   "execution_count": 100,
   "id": "01b40be5",
   "metadata": {
    "ExecuteTime": {
     "end_time": "2022-07-16T07:29:58.010098Z",
     "start_time": "2022-07-16T07:29:57.997100Z"
    }
   },
   "outputs": [
    {
     "data": {
      "text/plain": [
       "array([3, 3, 3, ..., 3, 3, 3], dtype=int64)"
      ]
     },
     "execution_count": 100,
     "metadata": {},
     "output_type": "execute_result"
    }
   ],
   "source": [
    "y_pred = aggcpipe[-1].labels_\n",
    "y_pred"
   ]
  },
  {
   "cell_type": "markdown",
   "id": "4b567eef",
   "metadata": {
    "ExecuteTime": {
     "end_time": "2022-07-16T07:29:20.219039Z",
     "start_time": "2022-07-16T07:29:20.211014Z"
    }
   },
   "source": [
    "### Q7"
   ]
  },
  {
   "cell_type": "code",
   "execution_count": 101,
   "id": "be8d80fa",
   "metadata": {
    "ExecuteTime": {
     "end_time": "2022-07-16T07:30:53.255906Z",
     "start_time": "2022-07-16T07:30:53.236909Z"
    }
   },
   "outputs": [
    {
     "data": {
      "text/plain": [
       "7050"
      ]
     },
     "execution_count": 101,
     "metadata": {},
     "output_type": "execute_result"
    }
   ],
   "source": [
    "aggcpipe[-1].n_leaves_"
   ]
  },
  {
   "cell_type": "markdown",
   "id": "bae838ad",
   "metadata": {},
   "source": [
    "### Q8"
   ]
  },
  {
   "cell_type": "code",
   "execution_count": 103,
   "id": "4242baac",
   "metadata": {
    "ExecuteTime": {
     "end_time": "2022-07-16T07:33:05.498225Z",
     "start_time": "2022-07-16T07:33:05.260196Z"
    }
   },
   "outputs": [
    {
     "data": {
      "text/plain": [
       "<sklearn.metrics._plot.confusion_matrix.ConfusionMatrixDisplay at 0x26519e4c5b0>"
      ]
     },
     "execution_count": 103,
     "metadata": {},
     "output_type": "execute_result"
    },
    {
     "data": {
      "image/png": "[encoded data removed]",
      "text/plain": [
       "<Figure size 432x288 with 2 Axes>"
      ]
     },
     "metadata": {
      "needs_background": "light"
     },
     "output_type": "display_data"
    }
   ],
   "source": [
    "from sklearn.metrics import ConfusionMatrixDisplay, confusion_matrix, classification_report\n",
    "\n",
    "cm = confusion_matrix(y_enc, y_pred)\n",
    "ConfusionMatrixDisplay.from_predictions(y_enc, y_pred)"
   ]
  },
  {
   "cell_type": "code",
   "execution_count": 106,
   "id": "8c2d3e20",
   "metadata": {
    "ExecuteTime": {
     "end_time": "2022-07-16T07:33:49.642960Z",
     "start_time": "2022-07-16T07:33:49.612959Z"
    }
   },
   "outputs": [
    {
     "name": "stdout",
     "output_type": "stream",
     "text": [
      "              precision    recall  f1-score   support\n",
      "\n",
      "           0       0.00      0.00      0.00        63\n",
      "           1       0.04      0.00      0.00      4288\n",
      "           2       0.20      0.21      0.20       365\n",
      "           3       0.31      0.83      0.45      2334\n",
      "\n",
      "    accuracy                           0.28      7050\n",
      "   macro avg       0.13      0.26      0.16      7050\n",
      "weighted avg       0.13      0.28      0.16      7050\n",
      "\n"
     ]
    }
   ],
   "source": [
    "print(classification_report(y_enc, y_pred))"
   ]
  },
  {
   "cell_type": "code",
   "execution_count": null,
   "id": "20b490fe",
   "metadata": {},
   "outputs": [],
   "source": []
  }
 ],
 "metadata": {
  "kernelspec": {
   "display_name": "Python 3 (ipykernel)",
   "language": "python",
   "name": "python3"
  },
  "language_info": {
   "codemirror_mode": {
    "name": "ipython",
    "version": 3
   },
   "file_extension": ".py",
   "mimetype": "text/x-python",
   "name": "python",
   "nbconvert_exporter": "python",
   "pygments_lexer": "ipython3",
   "version": "3.9.7"
  }
 },
 "nbformat": 4,
 "nbformat_minor": 5
}
