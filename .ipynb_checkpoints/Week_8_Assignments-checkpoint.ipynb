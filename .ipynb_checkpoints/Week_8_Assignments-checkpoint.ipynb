{
 "cells": [
  {
   "cell_type": "markdown",
   "id": "16e6e498",
   "metadata": {},
   "source": [
    "# Practice Assignments"
   ]
  },
  {
   "cell_type": "code",
   "execution_count": 97,
   "id": "588da9a4",
   "metadata": {
    "ExecuteTime": {
     "end_time": "2022-06-24T07:04:43.749202Z",
     "start_time": "2022-06-24T07:04:43.745198Z"
    }
   },
   "outputs": [],
   "source": [
    "from sklearn.datasets import load_iris\n",
    "from sklearn.model_selection import train_test_split\n",
    "\n",
    "import numpy as np\n",
    "import pandas as pd"
   ]
  },
  {
   "cell_type": "code",
   "execution_count": 39,
   "id": "6fe9d7f3",
   "metadata": {
    "ExecuteTime": {
     "end_time": "2022-06-24T05:23:15.129870Z",
     "start_time": "2022-06-24T05:23:14.050002Z"
    }
   },
   "outputs": [],
   "source": [
    "X, y = load_iris(return_X_y=True)\n",
    "\n",
    "X_train, X_test, y_train, y_test = train_test_split(X, y, test_size=0.3, random_state=42)"
   ]
  },
  {
   "cell_type": "code",
   "execution_count": 40,
   "id": "bc7a5733",
   "metadata": {
    "ExecuteTime": {
     "end_time": "2022-06-24T05:23:15.333156Z",
     "start_time": "2022-06-24T05:23:15.138868Z"
    }
   },
   "outputs": [
    {
     "data": {
      "text/plain": [
       "((105, 4), (45, 4), (105,), (45,))"
      ]
     },
     "execution_count": 40,
     "metadata": {},
     "output_type": "execute_result"
    }
   ],
   "source": [
    "X_train.shape, X_test.shape, y_train.shape, y_test.shape"
   ]
  },
  {
   "cell_type": "markdown",
   "id": "55ed0344",
   "metadata": {},
   "source": [
    "### Q1"
   ]
  },
  {
   "cell_type": "code",
   "execution_count": 41,
   "id": "ae086992",
   "metadata": {
    "ExecuteTime": {
     "end_time": "2022-06-24T05:23:15.505368Z",
     "start_time": "2022-06-24T05:23:15.348159Z"
    }
   },
   "outputs": [],
   "source": [
    "from sklearn.svm import SVC\n",
    "\n",
    "def compute_score(X_train, y_train, X_test, y_test):\n",
    "    model = SVC(C=20, kernel='rbf', gamma='auto', random_state=42)\n",
    "    model.fit(X_train, y_train)    \n",
    "    return model.score(X_test, y_test)"
   ]
  },
  {
   "cell_type": "code",
   "execution_count": 42,
   "id": "32d4f3f3",
   "metadata": {
    "ExecuteTime": {
     "end_time": "2022-06-24T05:23:16.097354Z",
     "start_time": "2022-06-24T05:23:15.507341Z"
    }
   },
   "outputs": [
    {
     "data": {
      "text/plain": [
       "1.0"
      ]
     },
     "execution_count": 42,
     "metadata": {},
     "output_type": "execute_result"
    }
   ],
   "source": [
    "compute_score(X_train, y_train, X_test, y_test)"
   ]
  },
  {
   "cell_type": "markdown",
   "id": "2571338a",
   "metadata": {},
   "source": [
    "### Q2"
   ]
  },
  {
   "cell_type": "code",
   "execution_count": 43,
   "id": "1cb5742c",
   "metadata": {
    "ExecuteTime": {
     "end_time": "2022-06-24T05:23:16.498092Z",
     "start_time": "2022-06-24T05:23:16.106300Z"
    }
   },
   "outputs": [],
   "source": [
    "from sklearn.pipeline import Pipeline\n",
    "from sklearn.preprocessing import MinMaxScaler\n",
    "from sklearn.metrics import precision_score, f1_score\n",
    "\n",
    "pipe = Pipeline([\n",
    "    ('scaler', MinMaxScaler()),\n",
    "    ('classifier', SVC(C=1, kernel='linear',  decision_function_shape='ovr', class_weight=None)),\n",
    "])\n",
    "\n",
    "pipe.fit(X_train, y_train)\n",
    "\n",
    "y_pred = pipe.predict(X_test)"
   ]
  },
  {
   "cell_type": "code",
   "execution_count": 44,
   "id": "89088b5f",
   "metadata": {
    "ExecuteTime": {
     "end_time": "2022-06-24T05:23:16.576066Z",
     "start_time": "2022-06-24T05:23:16.502011Z"
    }
   },
   "outputs": [
    {
     "data": {
      "text/plain": [
       "(1.0, 1.0)"
      ]
     },
     "execution_count": 44,
     "metadata": {},
     "output_type": "execute_result"
    }
   ],
   "source": [
    "precision_score(y_test, y_pred, average='weighted'), f1_score(y_test, y_pred, average='weighted')"
   ]
  },
  {
   "cell_type": "markdown",
   "id": "81054a3a",
   "metadata": {
    "ExecuteTime": {
     "end_time": "2022-06-22T14:33:09.110131Z",
     "start_time": "2022-06-22T14:33:09.094152Z"
    }
   },
   "source": [
    "### Q3"
   ]
  },
  {
   "cell_type": "code",
   "execution_count": 55,
   "id": "00726965",
   "metadata": {
    "ExecuteTime": {
     "end_time": "2022-06-24T05:28:18.007766Z",
     "start_time": "2022-06-24T05:28:17.996767Z"
    }
   },
   "outputs": [],
   "source": [
    "raw = load_iris()\n",
    "X, y = load_iris(return_X_y=True, as_frame=True)"
   ]
  },
  {
   "cell_type": "code",
   "execution_count": 56,
   "id": "12ab9fda",
   "metadata": {
    "ExecuteTime": {
     "end_time": "2022-06-24T05:28:18.259284Z",
     "start_time": "2022-06-24T05:28:18.253284Z"
    }
   },
   "outputs": [],
   "source": [
    "X['y'] = y\n",
    "X = X[X.y != 1]"
   ]
  },
  {
   "cell_type": "code",
   "execution_count": 57,
   "id": "12449b35",
   "metadata": {
    "ExecuteTime": {
     "end_time": "2022-06-24T05:28:18.901487Z",
     "start_time": "2022-06-24T05:28:18.882474Z"
    }
   },
   "outputs": [
    {
     "data": {
      "text/plain": [
       "((100, 4), (100,))"
      ]
     },
     "execution_count": 57,
     "metadata": {},
     "output_type": "execute_result"
    }
   ],
   "source": [
    "X, y = np.array(X.loc[:, X.columns != 'y']), X.y\n",
    "X.shape, y.shape"
   ]
  },
  {
   "cell_type": "code",
   "execution_count": 60,
   "id": "553690b1",
   "metadata": {
    "ExecuteTime": {
     "end_time": "2022-06-24T05:30:20.450085Z",
     "start_time": "2022-06-24T05:30:20.404890Z"
    }
   },
   "outputs": [
    {
     "data": {
      "text/plain": [
       "Pipeline(steps=[('scaler', MinMaxScaler()), ('classifier', SVC())])"
      ]
     },
     "execution_count": 60,
     "metadata": {},
     "output_type": "execute_result"
    }
   ],
   "source": [
    "X_train, X_test, y_train, y_test = train_test_split(X, y, test_size=0.5, random_state=0)\n",
    "\n",
    "pipe = Pipeline([\n",
    "    ('scaler', MinMaxScaler()),\n",
    "    ('classifier', SVC()),\n",
    "])\n",
    "\n",
    "pipe.fit(X_train, y_train)"
   ]
  },
  {
   "cell_type": "code",
   "execution_count": 68,
   "id": "39c59043",
   "metadata": {
    "ExecuteTime": {
     "end_time": "2022-06-24T05:34:36.819985Z",
     "start_time": "2022-06-24T05:34:36.813985Z"
    }
   },
   "outputs": [],
   "source": [
    "y_pred = pipe.predict(X_test)"
   ]
  },
  {
   "cell_type": "code",
   "execution_count": 69,
   "id": "8333ac03",
   "metadata": {
    "ExecuteTime": {
     "end_time": "2022-06-24T05:34:37.427553Z",
     "start_time": "2022-06-24T05:34:37.407551Z"
    }
   },
   "outputs": [
    {
     "data": {
      "text/plain": [
       "1.0"
      ]
     },
     "execution_count": 69,
     "metadata": {},
     "output_type": "execute_result"
    }
   ],
   "source": [
    "from sklearn.metrics import recall_score\n",
    "\n",
    "recall_score(y_test, y_pred, average='weighted')"
   ]
  },
  {
   "cell_type": "markdown",
   "id": "4404f7b3",
   "metadata": {
    "ExecuteTime": {
     "end_time": "2022-06-24T05:33:29.286152Z",
     "start_time": "2022-06-24T05:33:29.268134Z"
    }
   },
   "source": [
    "### Q4"
   ]
  },
  {
   "cell_type": "code",
   "execution_count": 79,
   "id": "14c4c006",
   "metadata": {
    "ExecuteTime": {
     "end_time": "2022-06-24T05:46:06.050023Z",
     "start_time": "2022-06-24T05:46:06.040998Z"
    }
   },
   "outputs": [],
   "source": [
    "X_train, X_test, y_train, y_test = train_test_split(X, y, test_size=0.3, random_state=42)"
   ]
  },
  {
   "cell_type": "code",
   "execution_count": 80,
   "id": "6f002cfc",
   "metadata": {
    "ExecuteTime": {
     "end_time": "2022-06-24T05:46:06.896280Z",
     "start_time": "2022-06-24T05:46:06.767649Z"
    }
   },
   "outputs": [
    {
     "name": "stderr",
     "output_type": "stream",
     "text": [
      "C:\\ProgramData\\Anaconda3\\lib\\site-packages\\sklearn\\svm\\_base.py:1206: ConvergenceWarning: Liblinear failed to converge, increase the number of iterations.\n",
      "  warnings.warn(\n"
     ]
    },
    {
     "data": {
      "text/plain": [
       "Pipeline(steps=[('classifier', LinearSVC(loss='hinge', random_state=42))])"
      ]
     },
     "execution_count": 80,
     "metadata": {},
     "output_type": "execute_result"
    }
   ],
   "source": [
    "from sklearn.svm import LinearSVC\n",
    "\n",
    "pipe = Pipeline([\n",
    "#     ('scaler', MinMaxScaler()),\n",
    "    ('classifier', LinearSVC(penalty='l2', loss='hinge', random_state=42)),\n",
    "])\n",
    "\n",
    "pipe.fit(X_train, y_train)"
   ]
  },
  {
   "cell_type": "code",
   "execution_count": 81,
   "id": "01298036",
   "metadata": {
    "ExecuteTime": {
     "end_time": "2022-06-24T05:46:08.271070Z",
     "start_time": "2022-06-24T05:46:08.262102Z"
    }
   },
   "outputs": [
    {
     "data": {
      "text/plain": [
       "1.0"
      ]
     },
     "execution_count": 81,
     "metadata": {},
     "output_type": "execute_result"
    }
   ],
   "source": [
    "pipe.score(X_test, y_test)"
   ]
  },
  {
   "cell_type": "markdown",
   "id": "10924768",
   "metadata": {
    "ExecuteTime": {
     "end_time": "2022-06-24T05:44:25.382033Z",
     "start_time": "2022-06-24T05:44:25.362032Z"
    }
   },
   "source": [
    "### Q5"
   ]
  },
  {
   "cell_type": "code",
   "execution_count": 90,
   "id": "7cda6536",
   "metadata": {
    "ExecuteTime": {
     "end_time": "2022-06-24T06:15:49.291294Z",
     "start_time": "2022-06-24T06:15:49.158290Z"
    }
   },
   "outputs": [
    {
     "name": "stdout",
     "output_type": "stream",
     "text": [
      "1.0\n"
     ]
    }
   ],
   "source": [
    "from sklearn.model_selection import GridSearchCV\n",
    "X_train, X_test, y_train, y_test = train_test_split(X, y, test_size=0.3, random_state=42)\n",
    "\n",
    "svc = SVC(random_state=42)\n",
    "\n",
    "param_grid = dict(\n",
    "    kernel=['linear', 'rbf'], \n",
    "    C=[5,10,100]\n",
    ")\n",
    "\n",
    "gridSearchCV = GridSearchCV(svc, param_grid, cv=10)\n",
    "gridSearchCV.fit(X_train, y_train)\n",
    "score = gridSearchCV.best_estimator_.score(X_test, y_test)\n",
    "\n",
    "print(score)"
   ]
  },
  {
   "cell_type": "code",
   "execution_count": 91,
   "id": "45ae3a65",
   "metadata": {
    "ExecuteTime": {
     "end_time": "2022-06-24T06:15:49.369563Z",
     "start_time": "2022-06-24T06:15:49.358563Z"
    }
   },
   "outputs": [
    {
     "data": {
      "text/plain": [
       "1.0"
      ]
     },
     "execution_count": 91,
     "metadata": {},
     "output_type": "execute_result"
    }
   ],
   "source": [
    "gridSearchCV.best_score_"
   ]
  },
  {
   "cell_type": "markdown",
   "id": "2ff68133",
   "metadata": {
    "ExecuteTime": {
     "end_time": "2022-06-24T05:59:53.434532Z",
     "start_time": "2022-06-24T05:59:53.406366Z"
    }
   },
   "source": [
    "# Graded Assignment"
   ]
  },
  {
   "cell_type": "markdown",
   "id": "d39e4f6d",
   "metadata": {
    "ExecuteTime": {
     "end_time": "2022-06-24T06:00:22.003976Z",
     "start_time": "2022-06-24T06:00:21.992977Z"
    }
   },
   "source": [
    "### Q1"
   ]
  },
  {
   "cell_type": "code",
   "execution_count": 94,
   "id": "d2d1c9b3",
   "metadata": {
    "ExecuteTime": {
     "end_time": "2022-06-24T06:17:19.380682Z",
     "start_time": "2022-06-24T06:17:19.305645Z"
    }
   },
   "outputs": [
    {
     "name": "stdout",
     "output_type": "stream",
     "text": [
      "1.0\n"
     ]
    }
   ],
   "source": [
    "X_train, X_test, y_train, y_test = train_test_split(X, y, test_size=0.3, random_state=0)\n",
    "\n",
    "svc = SVC(random_state=0)\n",
    "\n",
    "param_grid = dict(\n",
    "    kernel=['linear', 'rbf'], \n",
    "    C=[1,15,25],\n",
    "    gamma=['auto']\n",
    ")\n",
    "\n",
    "gridSearchCV = GridSearchCV(svc, param_grid, cv=4)\n",
    "gridSearchCV.fit(X_train, y_train)\n",
    "score = gridSearchCV.best_estimator_.score(X_test, y_test)\n",
    "\n",
    "print(score)"
   ]
  },
  {
   "cell_type": "markdown",
   "id": "4d3f66a4",
   "metadata": {},
   "source": [
    "### Q2"
   ]
  },
  {
   "cell_type": "code",
   "execution_count": 150,
   "id": "bd2e7f04",
   "metadata": {
    "ExecuteTime": {
     "end_time": "2022-06-24T07:44:51.048021Z",
     "start_time": "2022-06-24T07:44:51.026019Z"
    }
   },
   "outputs": [
    {
     "data": {
      "text/plain": [
       "((400, 2), (400,))"
      ]
     },
     "execution_count": 150,
     "metadata": {},
     "output_type": "execute_result"
    }
   ],
   "source": [
    "data = pd.read_csv('Social_Network_Ads.csv')\n",
    "X, y = np.array(data.loc[:, data.columns != 'Purchased']), data['Purchased']\n",
    "X.shape, y.shape"
   ]
  },
  {
   "cell_type": "code",
   "execution_count": 151,
   "id": "707ff3d9",
   "metadata": {
    "ExecuteTime": {
     "end_time": "2022-06-24T07:44:51.221917Z",
     "start_time": "2022-06-24T07:44:51.210196Z"
    }
   },
   "outputs": [],
   "source": [
    "X_train, X_test, y_train, y_test = train_test_split(X, y, test_size=0.25, random_state=0)"
   ]
  },
  {
   "cell_type": "code",
   "execution_count": 152,
   "id": "04af5566",
   "metadata": {
    "ExecuteTime": {
     "end_time": "2022-06-24T07:44:51.411182Z",
     "start_time": "2022-06-24T07:44:51.387183Z"
    }
   },
   "outputs": [
    {
     "data": {
      "text/plain": [
       "Pipeline(steps=[('scaler', StandardScaler()),\n",
       "                ('lin_svm', SVC(kernel='linear', random_state=0))])"
      ]
     },
     "execution_count": 152,
     "metadata": {},
     "output_type": "execute_result"
    }
   ],
   "source": [
    "from sklearn.preprocessing import StandardScaler\n",
    "\n",
    "pipe = Pipeline([\n",
    "    ('scaler', StandardScaler()),\n",
    "    ('lin_svm', SVC(kernel='linear', random_state=0)),\n",
    "])\n",
    "\n",
    "pipe.fit(X_train, y_train)"
   ]
  },
  {
   "cell_type": "code",
   "execution_count": 153,
   "id": "05dd9fea",
   "metadata": {
    "ExecuteTime": {
     "end_time": "2022-06-24T07:44:51.583840Z",
     "start_time": "2022-06-24T07:44:51.565853Z"
    }
   },
   "outputs": [
    {
     "data": {
      "text/plain": [
       "0.9"
      ]
     },
     "execution_count": 153,
     "metadata": {},
     "output_type": "execute_result"
    }
   ],
   "source": [
    "pipe.score(X_test, y_test)"
   ]
  },
  {
   "cell_type": "markdown",
   "id": "5bd38e6b",
   "metadata": {},
   "source": [
    "### Q3"
   ]
  },
  {
   "cell_type": "code",
   "execution_count": 154,
   "id": "61884717",
   "metadata": {
    "ExecuteTime": {
     "end_time": "2022-06-24T07:44:52.068682Z",
     "start_time": "2022-06-24T07:44:51.897352Z"
    }
   },
   "outputs": [
    {
     "data": {
      "text/plain": [
       "(<sklearn.metrics._plot.confusion_matrix.ConfusionMatrixDisplay at 0x1f642b8c490>,\n",
       " array([[66,  2],\n",
       "        [ 8, 24]], dtype=int64))"
      ]
     },
     "execution_count": 154,
     "metadata": {},
     "output_type": "execute_result"
    },
    {
     "data": {
      "image/png": "[encoded data removed]",
      "text/plain": [
       "<Figure size 432x288 with 2 Axes>"
      ]
     },
     "metadata": {
      "needs_background": "light"
     },
     "output_type": "display_data"
    }
   ],
   "source": [
    "from sklearn.metrics import confusion_matrix, ConfusionMatrixDisplay\n",
    "\n",
    "y_pred = pipe.predict(X_test)\n",
    "cm = confusion_matrix(y_test, y_pred)\n",
    "ConfusionMatrixDisplay(cm).plot(), cm"
   ]
  },
  {
   "cell_type": "code",
   "execution_count": 128,
   "id": "a4f7abf6",
   "metadata": {
    "ExecuteTime": {
     "end_time": "2022-06-24T07:37:14.139191Z",
     "start_time": "2022-06-24T07:37:14.121194Z"
    }
   },
   "outputs": [],
   "source": [
    "ConfusionMatrixDisplay?"
   ]
  },
  {
   "cell_type": "markdown",
   "id": "e2cc7ce1",
   "metadata": {},
   "source": [
    "## Q4 to 6"
   ]
  },
  {
   "cell_type": "code",
   "execution_count": 160,
   "id": "19ff58a9",
   "metadata": {
    "ExecuteTime": {
     "end_time": "2022-06-24T07:50:47.454386Z",
     "start_time": "2022-06-24T07:48:56.689071Z"
    }
   },
   "outputs": [],
   "source": [
    "from sklearn.datasets import fetch_openml\n",
    "\n",
    "X_pd, y_pd = fetch_openml('mnist_784', version=1, return_X_y=True)"
   ]
  },
  {
   "cell_type": "code",
   "execution_count": 164,
   "id": "5a04933d",
   "metadata": {
    "ExecuteTime": {
     "end_time": "2022-06-24T07:53:23.203453Z",
     "start_time": "2022-06-24T07:53:23.190467Z"
    }
   },
   "outputs": [],
   "source": [
    "X = X_pd.to_numpy()\n",
    "y = y_pd.to_numpy()"
   ]
  },
  {
   "cell_type": "markdown",
   "id": "f3cc4280",
   "metadata": {},
   "source": [
    "### Q4"
   ]
  },
  {
   "cell_type": "code",
   "execution_count": 165,
   "id": "9e136ca8",
   "metadata": {
    "ExecuteTime": {
     "end_time": "2022-06-24T07:55:53.320427Z",
     "start_time": "2022-06-24T07:55:53.303397Z"
    }
   },
   "outputs": [],
   "source": [
    "X_train = X[0:20000]\n",
    "y_train = y[0:20000]\n",
    "X_test = X[20000:25000]\n",
    "y_test = y[20000:25000]"
   ]
  },
  {
   "cell_type": "code",
   "execution_count": 166,
   "id": "a1d44159",
   "metadata": {
    "ExecuteTime": {
     "end_time": "2022-06-24T08:16:49.216193Z",
     "start_time": "2022-06-24T08:16:09.805202Z"
    }
   },
   "outputs": [
    {
     "data": {
      "text/plain": [
       "Pipeline(steps=[('scaler', MinMaxScaler()), ('svc', SVC(kernel='linear'))])"
      ]
     },
     "execution_count": 166,
     "metadata": {},
     "output_type": "execute_result"
    }
   ],
   "source": [
    "pipe = Pipeline([\n",
    "    ('scaler', MinMaxScaler()),\n",
    "    ('svc', SVC(kernel='linear', decision_function_shape='ovr', class_weight=None)),\n",
    "])\n",
    "\n",
    "pipe.fit(X_train, y_train)"
   ]
  },
  {
   "cell_type": "code",
   "execution_count": 167,
   "id": "ea36fd14",
   "metadata": {
    "ExecuteTime": {
     "end_time": "2022-06-24T08:17:46.124220Z",
     "start_time": "2022-06-24T08:17:31.723199Z"
    }
   },
   "outputs": [
    {
     "data": {
      "text/plain": [
       "<sklearn.metrics._plot.confusion_matrix.ConfusionMatrixDisplay at 0x1f6c844e430>"
      ]
     },
     "execution_count": 167,
     "metadata": {},
     "output_type": "execute_result"
    },
    {
     "data": {
      "image/png": "[encoded data removed]",
      "text/plain": [
       "<Figure size 432x288 with 2 Axes>"
      ]
     },
     "metadata": {
      "needs_background": "light"
     },
     "output_type": "display_data"
    }
   ],
   "source": [
    "y_pred = pipe.predict(X_test)\n",
    "\n",
    "cm = confusion_matrix(y_test, y_pred)\n",
    "ConfusionMatrixDisplay(cm).plot()"
   ]
  },
  {
   "cell_type": "code",
   "execution_count": 173,
   "id": "7563dd09",
   "metadata": {
    "ExecuteTime": {
     "end_time": "2022-06-24T08:25:03.442121Z",
     "start_time": "2022-06-24T08:25:03.424121Z"
    }
   },
   "outputs": [
    {
     "data": {
      "text/plain": [
       "4623"
      ]
     },
     "execution_count": 173,
     "metadata": {},
     "output_type": "execute_result"
    }
   ],
   "source": [
    "len(np.where(y_pred == y_test)[0])"
   ]
  },
  {
   "cell_type": "markdown",
   "id": "36cc83b2",
   "metadata": {},
   "source": [
    "## Q5"
   ]
  },
  {
   "cell_type": "code",
   "execution_count": 180,
   "id": "5e15ccc4",
   "metadata": {
    "ExecuteTime": {
     "end_time": "2022-06-24T08:28:32.472166Z",
     "start_time": "2022-06-24T08:28:32.403166Z"
    }
   },
   "outputs": [
    {
     "data": {
      "text/plain": [
       "0.9245834577056025"
      ]
     },
     "execution_count": 180,
     "metadata": {},
     "output_type": "execute_result"
    }
   ],
   "source": [
    "from sklearn.metrics import precision_score, recall_score, f1_score, classification_report\n",
    "\n",
    "precision_score(y_test, y_pred, average='weighted')"
   ]
  },
  {
   "cell_type": "code",
   "execution_count": 177,
   "id": "a27750e2",
   "metadata": {
    "ExecuteTime": {
     "end_time": "2022-06-24T08:27:29.283944Z",
     "start_time": "2022-06-24T08:27:29.242942Z"
    }
   },
   "outputs": [
    {
     "data": {
      "text/plain": [
       "0.9246"
      ]
     },
     "execution_count": 177,
     "metadata": {},
     "output_type": "execute_result"
    }
   ],
   "source": [
    "recall_score(y_test, y_pred, average='weighted')"
   ]
  },
  {
   "cell_type": "code",
   "execution_count": 178,
   "id": "ce8f7ab5",
   "metadata": {
    "ExecuteTime": {
     "end_time": "2022-06-24T08:27:29.811941Z",
     "start_time": "2022-06-24T08:27:29.773941Z"
    }
   },
   "outputs": [
    {
     "data": {
      "text/plain": [
       "0.9242341822537996"
      ]
     },
     "execution_count": 178,
     "metadata": {},
     "output_type": "execute_result"
    }
   ],
   "source": [
    "f1_score(y_test, y_pred, average='weighted')"
   ]
  },
  {
   "cell_type": "code",
   "execution_count": 183,
   "id": "3d78f338",
   "metadata": {
    "ExecuteTime": {
     "end_time": "2022-06-24T08:29:23.448096Z",
     "start_time": "2022-06-24T08:29:23.290093Z"
    },
    "scrolled": true
   },
   "outputs": [
    {
     "name": "stdout",
     "output_type": "stream",
     "text": [
      "              precision    recall  f1-score   support\n",
      "\n",
      "           0       0.94      0.98      0.96       478\n",
      "           1       0.95      0.98      0.97       568\n",
      "           2       0.92      0.92      0.92       521\n",
      "           3       0.91      0.90      0.90       516\n",
      "           4       0.91      0.94      0.92       500\n",
      "           5       0.88      0.88      0.88       460\n",
      "           6       0.97      0.96      0.96       491\n",
      "           7       0.91      0.96      0.94       504\n",
      "           8       0.93      0.85      0.89       466\n",
      "           9       0.92      0.88      0.90       496\n",
      "\n",
      "    accuracy                           0.92      5000\n",
      "   macro avg       0.92      0.92      0.92      5000\n",
      "weighted avg       0.92      0.92      0.92      5000\n",
      "\n"
     ]
    }
   ],
   "source": [
    "# Alternatively\n",
    "cr = classification_report(y_test, y_pred)\n",
    "print(cr)"
   ]
  },
  {
   "cell_type": "markdown",
   "id": "b96f1db6",
   "metadata": {},
   "source": [
    "### Q6"
   ]
  },
  {
   "cell_type": "code",
   "execution_count": 186,
   "id": "6db2e1c8",
   "metadata": {
    "ExecuteTime": {
     "end_time": "2022-06-24T08:45:56.580914Z",
     "start_time": "2022-06-24T08:45:54.138914Z"
    }
   },
   "outputs": [
    {
     "data": {
      "text/plain": [
       "((35000, 784), (35000, 784))"
      ]
     },
     "execution_count": 186,
     "metadata": {},
     "output_type": "execute_result"
    }
   ],
   "source": [
    "X_train, X_test, y_train, y_test = train_test_split(X, y, test_size=0.5, random_state=42)\n",
    "\n",
    "X_train.shape, X_test.shape"
   ]
  },
  {
   "cell_type": "code",
   "execution_count": 187,
   "id": "270c7e20",
   "metadata": {
    "ExecuteTime": {
     "end_time": "2022-06-24T08:49:00.325806Z",
     "start_time": "2022-06-24T08:47:07.845810Z"
    }
   },
   "outputs": [
    {
     "data": {
      "text/plain": [
       "Pipeline(steps=[('scaler', MinMaxScaler()),\n",
       "                ('svc', SVC(C=10, class_weight='balanced', kernel='poly'))])"
      ]
     },
     "execution_count": 187,
     "metadata": {},
     "output_type": "execute_result"
    }
   ],
   "source": [
    "pipe = Pipeline([\n",
    "    ('scaler', MinMaxScaler()),\n",
    "    ('svc', SVC(kernel='poly', degree=3, decision_function_shape='ovr', class_weight='balanced', C=10)),\n",
    "])\n",
    "\n",
    "pipe.fit(X_train, y_train)"
   ]
  },
  {
   "cell_type": "code",
   "execution_count": 188,
   "id": "6eb2ff14",
   "metadata": {
    "ExecuteTime": {
     "end_time": "2022-06-24T08:51:07.856349Z",
     "start_time": "2022-06-24T08:49:00.329807Z"
    }
   },
   "outputs": [
    {
     "name": "stdout",
     "output_type": "stream",
     "text": [
      "              precision    recall  f1-score   support\n",
      "\n",
      "           0       0.98      0.99      0.98      3463\n",
      "           1       0.98      0.99      0.98      3927\n",
      "           2       0.96      0.97      0.97      3520\n",
      "           3       0.97      0.96      0.97      3551\n",
      "           4       0.97      0.98      0.98      3333\n",
      "           5       0.97      0.97      0.97      3144\n",
      "           6       0.98      0.99      0.99      3490\n",
      "           7       0.98      0.98      0.98      3718\n",
      "           8       0.97      0.96      0.96      3344\n",
      "           9       0.97      0.96      0.97      3510\n",
      "\n",
      "    accuracy                           0.97     35000\n",
      "   macro avg       0.97      0.97      0.97     35000\n",
      "weighted avg       0.97      0.97      0.97     35000\n",
      "\n"
     ]
    }
   ],
   "source": [
    "y_pred = pipe.predict(X_test)\n",
    "\n",
    "cr = classification_report(y_test, y_pred)\n",
    "print(cr)"
   ]
  },
  {
   "cell_type": "markdown",
   "id": "df849e6a",
   "metadata": {},
   "source": [
    "## Q7 to 9"
   ]
  },
  {
   "cell_type": "code",
   "execution_count": 190,
   "id": "3a335806",
   "metadata": {
    "ExecuteTime": {
     "end_time": "2022-06-24T09:02:09.052479Z",
     "start_time": "2022-06-24T09:02:09.032478Z"
    }
   },
   "outputs": [],
   "source": [
    "X, y = load_iris(return_X_y=True)"
   ]
  },
  {
   "cell_type": "markdown",
   "id": "6d24ef16",
   "metadata": {},
   "source": [
    "### Q7"
   ]
  },
  {
   "cell_type": "code",
   "execution_count": 191,
   "id": "00e192dc",
   "metadata": {
    "ExecuteTime": {
     "end_time": "2022-06-24T09:05:40.476563Z",
     "start_time": "2022-06-24T09:05:40.458537Z"
    }
   },
   "outputs": [
    {
     "data": {
      "text/plain": [
       "Pipeline(steps=[('scaler', MinMaxScaler()),\n",
       "                ('svc', SVC(C=10, gamma='auto', kernel='poly'))])"
      ]
     },
     "execution_count": 191,
     "metadata": {},
     "output_type": "execute_result"
    }
   ],
   "source": [
    "X_train, X_test, y_train, y_test = train_test_split(X, y, test_size=0.3)\n",
    "\n",
    "pipe = Pipeline([\n",
    "    ('scaler', MinMaxScaler()),\n",
    "    ('svc', SVC(kernel='poly', gamma='auto', C=10)),\n",
    "])\n",
    "\n",
    "pipe.fit(X_train, y_train)"
   ]
  },
  {
   "cell_type": "code",
   "execution_count": 195,
   "id": "274dc173",
   "metadata": {
    "ExecuteTime": {
     "end_time": "2022-06-24T09:06:41.002682Z",
     "start_time": "2022-06-24T09:06:40.978672Z"
    }
   },
   "outputs": [
    {
     "data": {
      "text/plain": [
       "0.8952380952380953"
      ]
     },
     "execution_count": 195,
     "metadata": {},
     "output_type": "execute_result"
    }
   ],
   "source": [
    "pipe.score(X_train, y_train)"
   ]
  },
  {
   "cell_type": "code",
   "execution_count": null,
   "id": "c768e14b",
   "metadata": {},
   "outputs": [],
   "source": []
  }
 ],
 "metadata": {
  "kernelspec": {
   "display_name": "Python 3 (ipykernel)",
   "language": "python",
   "name": "python3"
  },
  "language_info": {
   "codemirror_mode": {
    "name": "ipython",
    "version": 3
   },
   "file_extension": ".py",
   "mimetype": "text/x-python",
   "name": "python",
   "nbconvert_exporter": "python",
   "pygments_lexer": "ipython3",
   "version": "3.9.7"
  }
 },
 "nbformat": 4,
 "nbformat_minor": 5
}
