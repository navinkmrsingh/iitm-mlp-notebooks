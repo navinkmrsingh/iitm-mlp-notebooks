{
 "cells": [
  {
   "cell_type": "markdown",
   "id": "bb9194d6",
   "metadata": {},
   "source": [
    "# Practice Assignments"
   ]
  },
  {
   "cell_type": "code",
   "execution_count": 152,
   "id": "777fa06f",
   "metadata": {
    "ExecuteTime": {
     "end_time": "2022-06-18T07:49:29.100349Z",
     "start_time": "2022-06-18T07:49:29.094370Z"
    }
   },
   "outputs": [],
   "source": [
    "import numpy as np\n",
    "import pprint\n",
    "\n",
    "import warnings\n",
    "warnings.filterwarnings('ignore')"
   ]
  },
  {
   "cell_type": "code",
   "execution_count": 1,
   "id": "dc45ddb4",
   "metadata": {
    "ExecuteTime": {
     "end_time": "2022-06-17T11:13:24.713814Z",
     "start_time": "2022-06-17T11:13:24.697814Z"
    }
   },
   "outputs": [],
   "source": [
    "# (Common data for 1,2,3)\n",
    "text_data=['A metaverse is a network of 3D virtual worlds focused on social connection.',\n",
    "           'In futurism and science fiction, the term is often described as a hypothetical iteration of the Internet as a single', \n",
    "           'universal virtual world that is facilitated by the use of virtual and augmented reality headsets.',\n",
    "           'The term \"metaverse\" has its origins  the 1992 science fiction novel Snow Crash as a portmanteau of \"meta\" and \"universe.\"',\n",
    "           'Various metaverses have been developed for popular use such as virtual world platforms like Second Life.',\n",
    "           'Some metaverse iterations involve integration between virtual and physical spaces and virtual economies',\n",
    "           'often including a significant interest in advancing virtual reality technology.', \n",
    "           'The term has seen considerable use as a buzzword for public relations purposes to exaggerate development progress for various related technologies and projects.[10] Information privacy and user addiction are concerns within metaverses',\n",
    "           'stemming from challenges facing the social media and video game industries as a whole.']"
   ]
  },
  {
   "cell_type": "markdown",
   "id": "91e25f6b",
   "metadata": {},
   "source": [
    "## Q1"
   ]
  },
  {
   "cell_type": "code",
   "execution_count": 3,
   "id": "f8ba332f",
   "metadata": {
    "ExecuteTime": {
     "end_time": "2022-06-17T11:15:38.651556Z",
     "start_time": "2022-06-17T11:15:38.622555Z"
    }
   },
   "outputs": [
    {
     "data": {
      "text/plain": [
       "(9, 99)"
      ]
     },
     "execution_count": 3,
     "metadata": {},
     "output_type": "execute_result"
    }
   ],
   "source": [
    "from sklearn.feature_extraction.text import CountVectorizer\n",
    "c_vectorizer = CountVectorizer()\n",
    "X_c = c_vectorizer.fit_transform(text_data)\n",
    "\n",
    "X_c.shape"
   ]
  },
  {
   "cell_type": "markdown",
   "id": "abd3d62e",
   "metadata": {
    "ExecuteTime": {
     "end_time": "2022-06-17T12:12:50.983900Z",
     "start_time": "2022-06-17T12:12:50.962928Z"
    }
   },
   "source": [
    "## Q2"
   ]
  },
  {
   "cell_type": "code",
   "execution_count": 44,
   "id": "e1cc89d0",
   "metadata": {
    "ExecuteTime": {
     "end_time": "2022-06-17T12:17:15.840155Z",
     "start_time": "2022-06-17T12:17:15.826157Z"
    }
   },
   "outputs": [
    {
     "data": {
      "text/plain": [
       "(9, 20)"
      ]
     },
     "execution_count": 44,
     "metadata": {},
     "output_type": "execute_result"
    }
   ],
   "source": [
    "c_vectorizer2 = CountVectorizer(min_df=2)\n",
    "X_c2 = c_vectorizer2.fit_transform(text_data)\n",
    "\n",
    "X_c2.shape"
   ]
  },
  {
   "cell_type": "markdown",
   "id": "c4054130",
   "metadata": {},
   "source": [
    "## Q3"
   ]
  },
  {
   "cell_type": "code",
   "execution_count": 47,
   "id": "e5089b1a",
   "metadata": {
    "ExecuteTime": {
     "end_time": "2022-06-17T12:19:00.662530Z",
     "start_time": "2022-06-17T12:19:00.648529Z"
    }
   },
   "outputs": [
    {
     "data": {
      "text/plain": [
       "{'metaverse': 51, 'is': 43, 'network': 53, 'of': 55, '3d': 2, 'virtual': 94, 'worlds': 98, 'focused': 26, 'on': 57, 'social': 77, 'connection': 15, 'in': 35, 'futurism': 29, 'and': 5, 'science': 71, 'fiction': 25, 'the': 86, 'term': 84, 'often': 56, 'described': 18, 'as': 7, 'hypothetical': 34, 'iteration': 44, 'internet': 41, 'single': 75, 'universal': 88, 'world': 97, 'that': 85, 'facilitated': 23, 'by': 12, 'use': 90, 'augmented': 8, 'reality': 68, 'headsets': 33, 'has': 31, 'its': 46, 'origins': 58, '1992': 1, 'novel': 54, 'snow': 76, 'crash': 17, 'portmanteau': 62, 'meta': 50, 'universe': 89, 'various': 92, 'metaverses': 52, 'have': 32, 'been': 9, 'developed': 19, 'for': 27, 'popular': 61, 'such': 81, 'platforms': 60, 'like': 48, 'second': 72, 'life': 47, 'some': 78, 'iterations': 45, 'involve': 42, 'integration': 39, 'between': 10, 'physical': 59, 'spaces': 79, 'economies': 21, 'including': 36, 'significant': 74, 'interest': 40, 'advancing': 4, 'technology': 83, 'seen': 73, 'considerable': 16, 'buzzword': 11, 'public': 66, 'relations': 70, 'purposes': 67, 'to': 87, 'exaggerate': 22, 'development': 20, 'progress': 64, 'related': 69, 'technologies': 82, 'projects': 65, '10': 0, 'information': 38, 'privacy': 63, 'user': 91, 'addiction': 3, 'are': 6, 'concerns': 14, 'within': 96, 'stemming': 80, 'from': 28, 'challenges': 13, 'facing': 24, 'media': 49, 'video': 93, 'game': 30, 'industries': 37, 'whole': 95}"
      ]
     },
     "execution_count": 47,
     "metadata": {},
     "output_type": "execute_result"
    }
   ],
   "source": [
    "c_vectorizer.vocabulary_"
   ]
  },
  {
   "cell_type": "code",
   "execution_count": 48,
   "id": "cc69c031",
   "metadata": {
    "ExecuteTime": {
     "end_time": "2022-06-17T12:19:01.196527Z",
     "start_time": "2022-06-17T12:19:01.187531Z"
    }
   },
   "outputs": [
    {
     "data": {
      "text/plain": [
       "{'metaverse': 7, 'is': 6, 'of': 9, 'virtual': 18, 'social': 13, 'in': 5, 'and': 0, 'science': 12, 'fiction': 2, 'the': 15, 'term': 14, 'often': 10, 'as': 1, 'world': 19, 'use': 16, 'reality': 11, 'has': 4, 'various': 17, 'metaverses': 8, 'for': 3}"
      ]
     },
     "execution_count": 48,
     "metadata": {},
     "output_type": "execute_result"
    }
   ],
   "source": [
    "c_vectorizer2.vocabulary_"
   ]
  },
  {
   "cell_type": "markdown",
   "id": "02f72e7f",
   "metadata": {},
   "source": [
    "## Q4"
   ]
  },
  {
   "cell_type": "code",
   "execution_count": 49,
   "id": "1a476d85",
   "metadata": {
    "ExecuteTime": {
     "end_time": "2022-06-17T12:23:59.299634Z",
     "start_time": "2022-06-17T12:23:59.279610Z"
    }
   },
   "outputs": [
    {
     "data": {
      "text/plain": [
       "(3, 10)"
      ]
     },
     "execution_count": 49,
     "metadata": {},
     "output_type": "execute_result"
    }
   ],
   "source": [
    "docs = ['This is the first question.', 'This document is the second document.', 'And this is the third one' ]\n",
    "\n",
    "c_vectorizer3 = CountVectorizer()\n",
    "X_c3 = c_vectorizer3.fit_transform(docs)\n",
    "\n",
    "X_c3.shape"
   ]
  },
  {
   "cell_type": "code",
   "execution_count": 50,
   "id": "6e357556",
   "metadata": {
    "ExecuteTime": {
     "end_time": "2022-06-17T12:24:17.061859Z",
     "start_time": "2022-06-17T12:24:17.050882Z"
    }
   },
   "outputs": [
    {
     "data": {
      "text/plain": [
       "array([[0, 0, 1, 1, 0, 1, 0, 1, 0, 1],\n",
       "       [0, 2, 0, 1, 0, 0, 1, 1, 0, 1],\n",
       "       [1, 0, 0, 1, 1, 0, 0, 1, 1, 1]], dtype=int64)"
      ]
     },
     "execution_count": 50,
     "metadata": {},
     "output_type": "execute_result"
    }
   ],
   "source": [
    "X_c3.toarray()"
   ]
  },
  {
   "cell_type": "code",
   "execution_count": 51,
   "id": "91196c7f",
   "metadata": {
    "ExecuteTime": {
     "end_time": "2022-06-17T12:25:29.147996Z",
     "start_time": "2022-06-17T12:25:29.138971Z"
    }
   },
   "outputs": [
    {
     "data": {
      "text/plain": [
       "{'this': 9, 'is': 3, 'the': 7, 'first': 2, 'question': 5, 'document': 1, 'second': 6, 'and': 0, 'third': 8, 'one': 4}"
      ]
     },
     "execution_count": 51,
     "metadata": {},
     "output_type": "execute_result"
    }
   ],
   "source": [
    "c_vectorizer3.vocabulary_"
   ]
  },
  {
   "cell_type": "markdown",
   "id": "8a6aaeee",
   "metadata": {},
   "source": [
    "## Q5"
   ]
  },
  {
   "cell_type": "code",
   "execution_count": 52,
   "id": "83ae2177",
   "metadata": {
    "ExecuteTime": {
     "end_time": "2022-06-17T12:35:00.936988Z",
     "start_time": "2022-06-17T12:35:00.915960Z"
    }
   },
   "outputs": [
    {
     "data": {
      "text/plain": [
       "(array([[2]], dtype=int64), array([[[20, 47, 88]]]))"
      ]
     },
     "execution_count": 52,
     "metadata": {},
     "output_type": "execute_result"
    }
   ],
   "source": [
    "X = np.asarray([[72, 69 ,82], [ 9 ,79, 99], [20 ,47, 88], [80 ,64, 49]]) \n",
    "p= np.asarray([[0,0,0]]) \n",
    "k=1 \n",
    "\n",
    "def k_closest(X, p, k):\n",
    "    from sklearn.neighbors import NearestNeighbors\n",
    "    nbrs = NearestNeighbors(n_neighbors=k).fit(X)\n",
    "    dist, indx = nbrs.kneighbors(p)\n",
    "    return indx, X[indx]\n",
    "\n",
    "k_closest(X, p, k)"
   ]
  },
  {
   "cell_type": "markdown",
   "id": "6de2a39b",
   "metadata": {},
   "source": [
    "## Q6"
   ]
  },
  {
   "cell_type": "code",
   "execution_count": 71,
   "id": "7f45b380",
   "metadata": {
    "ExecuteTime": {
     "end_time": "2022-06-17T12:55:51.449841Z",
     "start_time": "2022-06-17T12:55:51.426869Z"
    }
   },
   "outputs": [
    {
     "data": {
      "text/plain": [
       "array([0., 2., 2.])"
      ]
     },
     "execution_count": 71,
     "metadata": {},
     "output_type": "execute_result"
    }
   ],
   "source": [
    "X0 = np.array([1,0,0,0]) \n",
    "X= np.asarray([[1, 0, 0,0], [0, 1, 1,1], [1,2,0,0]])\n",
    "p= 2 \n",
    "\n",
    "def distance(X0, X, p):\n",
    "    X00 = np.ones((len(X), len(X[0]))) * X0\n",
    "    d = np.sum(np.power(np.abs(X-X00), p), axis=1)\n",
    "    return np.power(d, 1/p)\n",
    "\n",
    "distance(X0, X, p)"
   ]
  },
  {
   "cell_type": "markdown",
   "id": "25c2c082",
   "metadata": {},
   "source": [
    "## Q7 to 11"
   ]
  },
  {
   "cell_type": "code",
   "execution_count": 91,
   "id": "47f94927",
   "metadata": {
    "ExecuteTime": {
     "end_time": "2022-06-17T14:59:23.867234Z",
     "start_time": "2022-06-17T14:59:23.765985Z"
    }
   },
   "outputs": [],
   "source": [
    "from sklearn.datasets import load_digits\n",
    "from sklearn.model_selection import train_test_split\n",
    "from sklearn.preprocessing import StandardScaler\n",
    "from sklearn.linear_model import LogisticRegression\n",
    "from sklearn.pipeline import make_pipeline\n",
    "from sklearn.metrics import accuracy_score, f1_score\n",
    "\n",
    "X, y = load_digits(return_X_y=True)\n",
    "X_train, X_test, y_train, y_test = train_test_split(X, y, test_size=0.2, random_state=10)"
   ]
  },
  {
   "cell_type": "markdown",
   "id": "b051ab84",
   "metadata": {},
   "source": [
    "## Q7"
   ]
  },
  {
   "cell_type": "code",
   "execution_count": 78,
   "id": "a0f31bf0",
   "metadata": {
    "ExecuteTime": {
     "end_time": "2022-06-17T13:00:27.354335Z",
     "start_time": "2022-06-17T13:00:27.339342Z"
    }
   },
   "outputs": [
    {
     "data": {
      "text/plain": [
       "(1797, 64)"
      ]
     },
     "execution_count": 78,
     "metadata": {},
     "output_type": "execute_result"
    }
   ],
   "source": [
    "X.shape"
   ]
  },
  {
   "cell_type": "markdown",
   "id": "bec7586e",
   "metadata": {},
   "source": [
    "## Q8"
   ]
  },
  {
   "cell_type": "code",
   "execution_count": 79,
   "id": "e5daf8da",
   "metadata": {
    "ExecuteTime": {
     "end_time": "2022-06-17T13:00:55.722907Z",
     "start_time": "2022-06-17T13:00:55.714908Z"
    }
   },
   "outputs": [
    {
     "data": {
      "text/plain": [
       "array([0, 1, 2, 3, 4, 5, 6, 7, 8, 9])"
      ]
     },
     "execution_count": 79,
     "metadata": {},
     "output_type": "execute_result"
    }
   ],
   "source": [
    "np.unique(y)"
   ]
  },
  {
   "cell_type": "markdown",
   "id": "e96cb8d2",
   "metadata": {},
   "source": [
    "## Q9"
   ]
  },
  {
   "cell_type": "code",
   "execution_count": 83,
   "id": "a3779aee",
   "metadata": {
    "ExecuteTime": {
     "end_time": "2022-06-17T14:53:23.531083Z",
     "start_time": "2022-06-17T14:53:23.518082Z"
    }
   },
   "outputs": [
    {
     "data": {
      "text/plain": [
       "179"
      ]
     },
     "execution_count": 83,
     "metadata": {},
     "output_type": "execute_result"
    }
   ],
   "source": [
    "len(np.where(y==7)[0])"
   ]
  },
  {
   "cell_type": "markdown",
   "id": "e894d2ab",
   "metadata": {},
   "source": [
    "## Q10"
   ]
  },
  {
   "cell_type": "code",
   "execution_count": 93,
   "id": "bc7bae72",
   "metadata": {
    "ExecuteTime": {
     "end_time": "2022-06-17T14:59:57.308423Z",
     "start_time": "2022-06-17T14:59:56.862935Z"
    }
   },
   "outputs": [
    {
     "name": "stderr",
     "output_type": "stream",
     "text": [
      "C:\\ProgramData\\Anaconda3\\lib\\site-packages\\sklearn\\linear_model\\_sag.py:352: ConvergenceWarning: The max_iter was reached which means the coef_ did not converge\n",
      "  warnings.warn(\n"
     ]
    },
    {
     "data": {
      "text/plain": [
       "Pipeline(steps=[('standardscaler', StandardScaler()),\n",
       "                ('logisticregression',\n",
       "                 LogisticRegression(multi_class='multinomial', solver='sag'))])"
      ]
     },
     "execution_count": 93,
     "metadata": {},
     "output_type": "execute_result"
    }
   ],
   "source": [
    "pipe = make_pipeline(StandardScaler(), LogisticRegression(multi_class='multinomial', solver='sag'))\n",
    "pipe.fit(X_train, y_train)"
   ]
  },
  {
   "cell_type": "code",
   "execution_count": 96,
   "id": "11198e20",
   "metadata": {
    "ExecuteTime": {
     "end_time": "2022-06-17T15:01:09.919143Z",
     "start_time": "2022-06-17T15:01:09.911171Z"
    }
   },
   "outputs": [
    {
     "data": {
      "text/plain": [
       "0.9666666666666667"
      ]
     },
     "execution_count": 96,
     "metadata": {},
     "output_type": "execute_result"
    }
   ],
   "source": [
    "y_pred = pipe.predict(X_test)\n",
    "\n",
    "accuracy_score(y_test, y_pred)"
   ]
  },
  {
   "cell_type": "markdown",
   "id": "8eb453d6",
   "metadata": {},
   "source": [
    "## Q11"
   ]
  },
  {
   "cell_type": "code",
   "execution_count": 97,
   "id": "eaeb9174",
   "metadata": {
    "ExecuteTime": {
     "end_time": "2022-06-17T15:02:06.290840Z",
     "start_time": "2022-06-17T15:02:06.277814Z"
    }
   },
   "outputs": [
    {
     "data": {
      "text/plain": [
       "0.966907732026411"
      ]
     },
     "execution_count": 97,
     "metadata": {},
     "output_type": "execute_result"
    }
   ],
   "source": [
    "f1_score(y_test, y_pred, average='weighted')"
   ]
  },
  {
   "cell_type": "markdown",
   "id": "318abc5d",
   "metadata": {},
   "source": [
    "# Graded Assignments"
   ]
  },
  {
   "cell_type": "code",
   "execution_count": 125,
   "id": "80d4db27",
   "metadata": {
    "ExecuteTime": {
     "end_time": "2022-06-17T17:20:08.513224Z",
     "start_time": "2022-06-17T17:20:08.499197Z"
    }
   },
   "outputs": [],
   "source": [
    "import pandas as pd\n",
    "from sklearn.linear_model import SGDRegressor"
   ]
  },
  {
   "cell_type": "markdown",
   "id": "4c534b49",
   "metadata": {},
   "source": [
    "### Step2"
   ]
  },
  {
   "cell_type": "code",
   "execution_count": 99,
   "id": "53c363b8",
   "metadata": {
    "ExecuteTime": {
     "end_time": "2022-06-17T15:07:01.055141Z",
     "start_time": "2022-06-17T15:07:00.871118Z"
    }
   },
   "outputs": [
    {
     "data": {
      "text/html": [
       "<div>\n",
       "<style scoped>\n",
       "    .dataframe tbody tr th:only-of-type {\n",
       "        vertical-align: middle;\n",
       "    }\n",
       "\n",
       "    .dataframe tbody tr th {\n",
       "        vertical-align: top;\n",
       "    }\n",
       "\n",
       "    .dataframe thead th {\n",
       "        text-align: right;\n",
       "    }\n",
       "</style>\n",
       "<table border=\"1\" class=\"dataframe\">\n",
       "  <thead>\n",
       "    <tr style=\"text-align: right;\">\n",
       "      <th></th>\n",
       "      <th>Feature-1</th>\n",
       "      <th>Feature-2</th>\n",
       "      <th>Feature-3</th>\n",
       "      <th>Feature-4</th>\n",
       "      <th>Feature-5</th>\n",
       "      <th>Feature-6</th>\n",
       "      <th>Feature-7</th>\n",
       "      <th>Feature-8</th>\n",
       "      <th>Feature-9</th>\n",
       "      <th>Feature-10</th>\n",
       "      <th>Target</th>\n",
       "    </tr>\n",
       "  </thead>\n",
       "  <tbody>\n",
       "    <tr>\n",
       "      <th>0</th>\n",
       "      <td>-1.580</td>\n",
       "      <td>1.0500</td>\n",
       "      <td>1.060</td>\n",
       "      <td>-0.440</td>\n",
       "      <td>0.451</td>\n",
       "      <td>-0.0348</td>\n",
       "      <td>0.643</td>\n",
       "      <td>0.2650</td>\n",
       "      <td>0.268</td>\n",
       "      <td>-0.851</td>\n",
       "      <td>84.7</td>\n",
       "    </tr>\n",
       "    <tr>\n",
       "      <th>1</th>\n",
       "      <td>-0.832</td>\n",
       "      <td>-0.8660</td>\n",
       "      <td>-1.340</td>\n",
       "      <td>0.138</td>\n",
       "      <td>1.180</td>\n",
       "      <td>0.7330</td>\n",
       "      <td>-1.410</td>\n",
       "      <td>0.1350</td>\n",
       "      <td>-0.088</td>\n",
       "      <td>-1.550</td>\n",
       "      <td>-211.0</td>\n",
       "    </tr>\n",
       "    <tr>\n",
       "      <th>2</th>\n",
       "      <td>-0.237</td>\n",
       "      <td>2.0900</td>\n",
       "      <td>-3.930</td>\n",
       "      <td>0.296</td>\n",
       "      <td>0.352</td>\n",
       "      <td>-0.5010</td>\n",
       "      <td>0.961</td>\n",
       "      <td>-0.0287</td>\n",
       "      <td>1.820</td>\n",
       "      <td>0.938</td>\n",
       "      <td>-96.9</td>\n",
       "    </tr>\n",
       "    <tr>\n",
       "      <th>3</th>\n",
       "      <td>-1.170</td>\n",
       "      <td>-1.1300</td>\n",
       "      <td>-1.090</td>\n",
       "      <td>1.120</td>\n",
       "      <td>0.312</td>\n",
       "      <td>0.1830</td>\n",
       "      <td>0.448</td>\n",
       "      <td>-0.8190</td>\n",
       "      <td>-1.010</td>\n",
       "      <td>-1.080</td>\n",
       "      <td>-152.0</td>\n",
       "    </tr>\n",
       "    <tr>\n",
       "      <th>4</th>\n",
       "      <td>0.260</td>\n",
       "      <td>-0.0273</td>\n",
       "      <td>0.925</td>\n",
       "      <td>-1.150</td>\n",
       "      <td>-1.390</td>\n",
       "      <td>0.0251</td>\n",
       "      <td>0.627</td>\n",
       "      <td>0.0950</td>\n",
       "      <td>-0.280</td>\n",
       "      <td>-0.848</td>\n",
       "      <td>-57.7</td>\n",
       "    </tr>\n",
       "  </tbody>\n",
       "</table>\n",
       "</div>"
      ],
      "text/plain": [
       "   Feature-1  Feature-2  Feature-3  Feature-4  Feature-5  Feature-6  \\\n",
       "0     -1.580     1.0500      1.060     -0.440      0.451    -0.0348   \n",
       "1     -0.832    -0.8660     -1.340      0.138      1.180     0.7330   \n",
       "2     -0.237     2.0900     -3.930      0.296      0.352    -0.5010   \n",
       "3     -1.170    -1.1300     -1.090      1.120      0.312     0.1830   \n",
       "4      0.260    -0.0273      0.925     -1.150     -1.390     0.0251   \n",
       "\n",
       "   Feature-7  Feature-8  Feature-9  Feature-10  Target  \n",
       "0      0.643     0.2650      0.268      -0.851    84.7  \n",
       "1     -1.410     0.1350     -0.088      -1.550  -211.0  \n",
       "2      0.961    -0.0287      1.820       0.938   -96.9  \n",
       "3      0.448    -0.8190     -1.010      -1.080  -152.0  \n",
       "4      0.627     0.0950     -0.280      -0.848   -57.7  "
      ]
     },
     "execution_count": 99,
     "metadata": {},
     "output_type": "execute_result"
    }
   ],
   "source": [
    "df = pd.read_csv('data_for_large_scale.csv')\n",
    "df.head()"
   ]
  },
  {
   "cell_type": "markdown",
   "id": "4134f258",
   "metadata": {},
   "source": [
    "### Step3 & 4"
   ]
  },
  {
   "cell_type": "code",
   "execution_count": 115,
   "id": "31de5984",
   "metadata": {
    "ExecuteTime": {
     "end_time": "2022-06-17T15:10:48.293914Z",
     "start_time": "2022-06-17T15:10:48.278946Z"
    }
   },
   "outputs": [],
   "source": [
    "X, y = np.array(df.loc[:, df.columns != 'Target']), np.array(df.Target)"
   ]
  },
  {
   "cell_type": "code",
   "execution_count": 116,
   "id": "521138c6",
   "metadata": {
    "ExecuteTime": {
     "end_time": "2022-06-17T15:10:48.806473Z",
     "start_time": "2022-06-17T15:10:48.790472Z"
    }
   },
   "outputs": [
    {
     "data": {
      "text/plain": [
       "(array([[-1.58  ,  1.05  ,  1.06  , ...,  0.265 ,  0.268 , -0.851 ],\n",
       "       [-0.832 , -0.866 , -1.34  , ...,  0.135 , -0.088 , -1.55  ],\n",
       "       [-0.237 ,  2.09  , -3.93  , ..., -0.0287,  1.82  ,  0.938 ],\n",
       "       ...,\n",
       "       [ 0.509 , -0.322 ,  0.681 , ...,  0.727 , -1.94  , -2.01  ],\n",
       "       [ 0.36  ,  1.25  ,  0.651 , ..., -0.367 , -1.28  , -1.1   ],\n",
       "       [-0.86  , -0.601 ,  0.739 , ..., -0.483 , -1.38  ,  1.11  ]]), array([  84.7, -211. ,  -96.9, ...,  -80.2,  158. , -369. ]))"
      ]
     },
     "execution_count": 116,
     "metadata": {},
     "output_type": "execute_result"
    }
   ],
   "source": [
    "X, y"
   ]
  },
  {
   "cell_type": "markdown",
   "id": "34df88ce",
   "metadata": {},
   "source": [
    "### Step5"
   ]
  },
  {
   "cell_type": "code",
   "execution_count": 119,
   "id": "bdc26a83",
   "metadata": {
    "ExecuteTime": {
     "end_time": "2022-06-17T15:49:23.526517Z",
     "start_time": "2022-06-17T15:49:23.492454Z"
    }
   },
   "outputs": [
    {
     "data": {
      "text/plain": [
       "((63000, 10), array([[ 0.224 ,  0.631 ,  0.639 , ..., -1.54  ,  1.03  , -0.17  ],\n",
       "       [-1.01  ,  0.118 ,  0.781 , ...,  0.7   , -0.249 , -1.05  ],\n",
       "       [ 1.97  , -0.358 ,  0.297 , ..., -0.411 ,  0.214 , -1.23  ],\n",
       "       ...,\n",
       "       [ 1.3   , -0.828 , -0.369 , ..., -0.315 , -1.8   ,  0.678 ],\n",
       "       [-0.977 ,  0.254 ,  0.582 , ..., -0.0417,  0.806 , -0.496 ],\n",
       "       [-0.141 , -0.831 , -0.199 , ...,  0.186 ,  0.94  , -0.782 ]]))"
      ]
     },
     "execution_count": 119,
     "metadata": {},
     "output_type": "execute_result"
    }
   ],
   "source": [
    "X_train, X_test, y_train, y_test = train_test_split(X, y, test_size=0.3, random_state=10)\n",
    "X_train.shape, X_train"
   ]
  },
  {
   "cell_type": "markdown",
   "id": "29295720",
   "metadata": {},
   "source": [
    "### Step6"
   ]
  },
  {
   "cell_type": "code",
   "execution_count": 128,
   "id": "8c63be5d",
   "metadata": {
    "ExecuteTime": {
     "end_time": "2022-06-17T17:24:00.638639Z",
     "start_time": "2022-06-17T17:24:00.627667Z"
    }
   },
   "outputs": [
    {
     "data": {
      "text/plain": [
       "((700, 90, 10), (700, 90))"
      ]
     },
     "execution_count": 128,
     "metadata": {},
     "output_type": "execute_result"
    }
   ],
   "source": [
    "X_train_rshpd, y_train_rshpd = X_train.reshape(-1, 90, 10), y_train.reshape(-1, 90)\n",
    "X_train_rshpd.shape, y_train_rshpd.shape"
   ]
  },
  {
   "cell_type": "code",
   "execution_count": 134,
   "id": "7c4cc60f",
   "metadata": {
    "ExecuteTime": {
     "end_time": "2022-06-17T17:33:09.294042Z",
     "start_time": "2022-06-17T17:33:08.979045Z"
    }
   },
   "outputs": [
    {
     "name": "stdout",
     "output_type": "stream",
     "text": [
      "5\n",
      "regressor.coef_: [38.10307994 16.55515794 55.39574282 39.59670638 56.0556394  54.99254453\n",
      " 67.70253651 43.94562783 24.80852625 29.56006746]\n",
      "regressor.intercept_: [-7.35495575]\n",
      "--------------------------------------------------------------\n",
      "700\n",
      "regressor.coef_: [51.3212522  22.26535893 81.23762868 53.19615839 76.46565732 71.47204651\n",
      " 93.45092409 51.92198178 30.03910055 40.95656774]\n",
      "regressor.intercept_: [-0.0054532]\n"
     ]
    }
   ],
   "source": [
    "regressor = SGDRegressor(random_state=10)\n",
    "i = 0\n",
    "for X_trn, y_trn in zip(X_train_rshpd, y_train_rshpd):\n",
    "    i+= 1\n",
    "    regressor.partial_fit(X_trn, y_trn)\n",
    "    if i == 5:\n",
    "        print(i)\n",
    "        print('regressor.coef_:', regressor.coef_)\n",
    "        print('regressor.intercept_:', regressor.intercept_) \n",
    "        print('--------------------------------------------------------------')\n",
    "print(i)    \n",
    "print('regressor.coef_:', regressor.coef_)\n",
    "print('regressor.intercept_:', regressor.intercept_)       "
   ]
  },
  {
   "cell_type": "code",
   "execution_count": 136,
   "id": "b3694b86",
   "metadata": {
    "ExecuteTime": {
     "end_time": "2022-06-17T17:36:29.817044Z",
     "start_time": "2022-06-17T17:36:29.795069Z"
    }
   },
   "outputs": [
    {
     "data": {
      "text/plain": [
       "0.9999919793766233"
      ]
     },
     "execution_count": 136,
     "metadata": {},
     "output_type": "execute_result"
    }
   ],
   "source": [
    "from sklearn.metrics import r2_score\n",
    "\n",
    "y_pred = regressor.predict(X_test)\n",
    "r2_score(y_test, y_pred)"
   ]
  },
  {
   "cell_type": "markdown",
   "id": "d5265d58",
   "metadata": {},
   "source": [
    "## Q6 to 8"
   ]
  },
  {
   "cell_type": "code",
   "execution_count": 196,
   "id": "543b72c4",
   "metadata": {
    "ExecuteTime": {
     "end_time": "2022-06-18T09:02:12.754063Z",
     "start_time": "2022-06-18T09:02:07.536816Z"
    },
    "scrolled": true
   },
   "outputs": [
    {
     "name": "stdout",
     "output_type": "stream",
     "text": [
      "              1          2\n",
      "0      9.349849  56.740876\n",
      "1      9.350188  56.740679\n",
      "2      9.350549  56.740544\n",
      "3      9.350806  56.740485\n",
      "4      9.351053  56.740486\n",
      "...         ...        ...\n",
      "19995  9.841373  57.428327\n",
      "19996  9.537111  57.211692\n",
      "19997  9.537136  57.212001\n",
      "19998  9.537276  57.212396\n",
      "19999  9.537490  57.212913\n",
      "\n",
      "[20000 rows x 2 columns]\n",
      "               3\n",
      "0      17.052772\n",
      "1      17.614840\n",
      "2      18.083536\n",
      "3      18.279465\n",
      "4      18.422974\n",
      "...          ...\n",
      "19995  20.299091\n",
      "19996   9.242100\n",
      "19997   9.267994\n",
      "19998  10.219706\n",
      "19999   9.052537\n",
      "\n",
      "[20000 rows x 1 columns]\n",
      "after iter # 1\n",
      "1     9.615376\n",
      "2    57.036769\n",
      "dtype: float64\n",
      "sgd.coef_: [  1828204.13423863 -10760302.61475327]\n",
      "sgd.intercept_: [5.94818457e+08]\n",
      "---------------------------------------------------\n",
      "after iter # 2\n",
      "1     9.769328\n",
      "2    57.124693\n",
      "dtype: float64\n",
      "sgd.coef_: [  3959533.76827183 -15241689.15918878]\n",
      "sgd.intercept_: [8.31789918e+08]\n",
      "---------------------------------------------------\n",
      "after iter # 3\n",
      "1     9.738585\n",
      "2    57.064980\n",
      "dtype: float64\n",
      "sgd.coef_: [  2514462.15348872 -12454194.62285308]\n",
      "sgd.intercept_: [6.89233198e+08]\n",
      "---------------------------------------------------\n",
      "after iter # 4\n",
      "1     9.777121\n",
      "2    57.083119\n",
      "dtype: float64\n",
      "sgd.coef_: [  26828.73367883 -102628.37387577]\n",
      "sgd.intercept_: [5600634.70121293]\n",
      "---------------------------------------------------\n",
      "after iter # 5\n",
      "1     9.825315\n",
      "2    57.138317\n",
      "dtype: float64\n",
      "sgd.coef_: [  3245440.32235402 -11210257.00090704]\n",
      "sgd.intercept_: [6.12556909e+08]\n",
      "---------------------------------------------------\n",
      "after iter # 6\n",
      "1     9.783316\n",
      "2    57.107981\n",
      "dtype: float64\n",
      "sgd.coef_: [  7529.29267792 -27440.8677509 ]\n",
      "sgd.intercept_: [1482227.61214382]\n",
      "---------------------------------------------------\n",
      "after iter # 7\n",
      "1     9.556487\n",
      "2    57.069986\n",
      "dtype: float64\n",
      "sgd.coef_: [  4028328.88570132 -14983107.23035506]\n",
      "sgd.intercept_: [8.16127478e+08]\n",
      "---------------------------------------------------\n",
      "after iter # 8\n",
      "1     9.654174\n",
      "2    57.033755\n",
      "dtype: float64\n",
      "sgd.coef_: [  2481211.99192058 -10223509.03768716]\n",
      "sgd.intercept_: [5.61241211e+08]\n",
      "---------------------------------------------------\n",
      "after iter # 9\n",
      "1     9.621246\n",
      "2    57.061821\n",
      "dtype: float64\n",
      "sgd.coef_: [  35735.08711579 -141227.63261611]\n",
      "sgd.intercept_: [7755209.61936512]\n",
      "---------------------------------------------------\n",
      "after iter # 10\n",
      "1     9.742283\n",
      "2    57.118090\n",
      "dtype: float64\n",
      "sgd.coef_: [-4934798.86996717 20596930.97741457]\n",
      "sgd.intercept_: [-1.13232321e+09]\n",
      "---------------------------------------------------\n",
      "after iter # 11\n",
      "1     9.918180\n",
      "2    57.112627\n",
      "dtype: float64\n",
      "sgd.coef_: [-11397000.74151082  43861592.17785139]\n",
      "sgd.intercept_: [-2.38778047e+09]\n",
      "---------------------------------------------------\n",
      "after iter # 12\n",
      "1     9.691005\n",
      "2    57.051913\n",
      "dtype: float64\n",
      "sgd.coef_: [-10024898.28894821  44255535.29930425]\n",
      "sgd.intercept_: [-2.41383246e+09]\n",
      "---------------------------------------------------\n",
      "after iter # 13\n",
      "1     9.738056\n",
      "2    57.024707\n",
      "dtype: float64\n",
      "sgd.coef_: [-18388024.15297681  79499626.83474217]\n",
      "sgd.intercept_: [-4.3652552e+09]\n",
      "---------------------------------------------------\n",
      "after iter # 14\n",
      "1     9.693266\n",
      "2    57.104499\n",
      "dtype: float64\n",
      "sgd.coef_: [-17801420.84045035  65297122.77148195]\n",
      "sgd.intercept_: [-3.53469825e+09]\n",
      "---------------------------------------------------\n",
      "after iter # 15\n",
      "1     9.810945\n",
      "2    57.046728\n",
      "dtype: float64\n",
      "sgd.coef_: [-11811063.30229352  66614481.07403833]\n",
      "sgd.intercept_: [-3.68247732e+09]\n",
      "---------------------------------------------------\n",
      "after iter # 16\n",
      "1     9.903537\n",
      "2    57.086892\n",
      "dtype: float64\n",
      "sgd.coef_: [-14381915.2282848   70503515.66256823]\n",
      "sgd.intercept_: [-3.85832331e+09]\n",
      "---------------------------------------------------\n",
      "after iter # 17\n",
      "1     9.838568\n",
      "2    57.111153\n",
      "dtype: float64\n",
      "sgd.coef_: [-4771766.24877914 23337037.69389873]\n",
      "sgd.intercept_: [-1.29346978e+09]\n",
      "---------------------------------------------------\n",
      "after iter # 18\n",
      "1     9.605998\n",
      "2    57.066884\n",
      "dtype: float64\n",
      "sgd.coef_: [  445007.13917317 -2036044.59607202]\n",
      "sgd.intercept_: [1.11330838e+08]\n",
      "---------------------------------------------------\n",
      "after iter # 19\n",
      "1     9.700039\n",
      "2    57.070823\n",
      "dtype: float64\n",
      "sgd.coef_: [  7976330.69202742 -33329145.94822139]\n",
      "sgd.intercept_: [1.81290088e+09]\n",
      "---------------------------------------------------\n",
      "after iter # 20\n",
      "1     9.613055\n",
      "2    57.070990\n",
      "dtype: float64\n",
      "sgd.coef_: [ 12583656.02135712 -59133928.69842619]\n",
      "sgd.intercept_: [3.23887558e+09]\n",
      "---------------------------------------------------\n",
      "after iter # 21\n",
      "1     9.780396\n",
      "2    57.147687\n",
      "dtype: float64\n",
      "sgd.coef_: [ 15306279.91723554 -61367188.42744971]\n",
      "sgd.intercept_: [3.35371223e+09]\n",
      "---------------------------------------------------\n",
      "after iter # 22\n",
      "1     9.721459\n",
      "2    57.116715\n",
      "dtype: float64\n",
      "sgd.coef_: [ 18796964.54688935 -70879741.78196551]\n",
      "sgd.intercept_: [3.85160702e+09]\n",
      "---------------------------------------------------\n"
     ]
    },
    {
     "data": {
      "text/plain": [
       "(1     9.721459\n",
       "2    57.116715\n",
       "dtype: float64, 1    0.665305\n",
       "2    0.304291\n",
       "dtype: float64)"
      ]
     },
     "execution_count": 196,
     "metadata": {},
     "output_type": "execute_result"
    }
   ],
   "source": [
    "sgd = SGDRegressor(random_state=10, warm_start=True, max_iter=7)\n",
    "sclr = StandardScaler()\n",
    "sclr2 = StandardScaler()\n",
    "# pipe = make_pipeline(sclr, sgd)\n",
    "\n",
    "iter = 1\n",
    "# df = pd.read_csv('https://archive.ics.uci.edu/ml/machine-learning-databases/00246/3D_spatial_network.txt')\n",
    "for df in pd.read_csv('3D_spatial_network.txt', chunksize=20000, iterator=True, header=None):\n",
    "    X_trn, y_trn = df.iloc[:, 1:3], df.iloc[:, 3:]    \n",
    "    sclr.partial_fit(X_trn) \n",
    "    iter+= 1\n",
    "#     print(sclr.mean_)\n",
    "#     print('---------------------------------------------------')\n",
    "\n",
    "iter = 1\n",
    "for df in pd.read_csv('3D_spatial_network.txt', chunksize=20000, iterator=True, header=None):\n",
    "    X_trn, y_trn = df.iloc[:, 1:3], df.iloc[:, 3:] \n",
    "#     X_trn = sclr.transform(X_trn)\n",
    "    sgd.fit(X_trn, y_trn) \n",
    "#     sclr2.partial_fit(X_trn) \n",
    "    if iter == 1:\n",
    "        print(X_trn)\n",
    "        print(y_trn)\n",
    "    print('after iter #', iter)\n",
    "    print(X_trn.mean(axis=0))\n",
    "    print('sgd.coef_:', sgd.coef_)\n",
    "    print('sgd.intercept_:', sgd.intercept_)  \n",
    "    print('---------------------------------------------------')\n",
    "    iter+=1\n",
    "    \n",
    "X_trn.mean(axis=0), X_trn.std(axis=0)        \n",
    "# print('after iter #', iter)\n",
    "# print(sclr2.mean_)\n",
    "# print('sgd.coef_:', sgd.coef_)\n",
    "# print('sgd.intercept_:', sgd.intercept_)      "
   ]
  },
  {
   "cell_type": "code",
   "execution_count": 194,
   "id": "d65c6816",
   "metadata": {
    "ExecuteTime": {
     "end_time": "2022-06-18T08:57:34.571323Z",
     "start_time": "2022-06-18T08:57:34.310304Z"
    }
   },
   "outputs": [
    {
     "data": {
      "text/plain": [
       "(array([ 6.98281914e-15, -1.65086151e-14]), array([1., 1.]))"
      ]
     },
     "execution_count": 194,
     "metadata": {},
     "output_type": "execute_result"
    }
   ],
   "source": [
    "df = pd.read_csv('3D_spatial_network.txt', header=None)\n",
    "X_trn = df.iloc[:, 1:3]\n",
    "X_trn = sclr.transform(X_trn)\n",
    "\n",
    "X_trn.mean(axis=0), X_trn.std(axis=0)    "
   ]
  },
  {
   "cell_type": "code",
   "execution_count": null,
   "id": "a3ce4c53",
   "metadata": {},
   "outputs": [],
   "source": []
  },
  {
   "cell_type": "code",
   "execution_count": null,
   "id": "88a19470",
   "metadata": {},
   "outputs": [],
   "source": []
  },
  {
   "cell_type": "code",
   "execution_count": null,
   "id": "f239960e",
   "metadata": {},
   "outputs": [],
   "source": []
  },
  {
   "cell_type": "code",
   "execution_count": null,
   "id": "5d6be95e",
   "metadata": {},
   "outputs": [],
   "source": []
  },
  {
   "cell_type": "code",
   "execution_count": null,
   "id": "8155b945",
   "metadata": {},
   "outputs": [],
   "source": []
  },
  {
   "cell_type": "code",
   "execution_count": null,
   "id": "7a3c92a7",
   "metadata": {},
   "outputs": [],
   "source": []
  },
  {
   "cell_type": "code",
   "execution_count": null,
   "id": "57599e20",
   "metadata": {},
   "outputs": [],
   "source": []
  },
  {
   "cell_type": "code",
   "execution_count": null,
   "id": "26e66490",
   "metadata": {},
   "outputs": [],
   "source": []
  },
  {
   "cell_type": "code",
   "execution_count": null,
   "id": "ed7c9326",
   "metadata": {},
   "outputs": [],
   "source": []
  },
  {
   "cell_type": "code",
   "execution_count": null,
   "id": "fda143d0",
   "metadata": {},
   "outputs": [],
   "source": []
  },
  {
   "cell_type": "code",
   "execution_count": null,
   "id": "7a56fc40",
   "metadata": {},
   "outputs": [],
   "source": []
  },
  {
   "cell_type": "code",
   "execution_count": null,
   "id": "bcd18be5",
   "metadata": {},
   "outputs": [],
   "source": []
  },
  {
   "cell_type": "code",
   "execution_count": null,
   "id": "e24f6158",
   "metadata": {},
   "outputs": [],
   "source": []
  },
  {
   "cell_type": "code",
   "execution_count": null,
   "id": "fd5b935d",
   "metadata": {},
   "outputs": [],
   "source": []
  },
  {
   "cell_type": "code",
   "execution_count": null,
   "id": "8d63f6c6",
   "metadata": {},
   "outputs": [],
   "source": []
  }
 ],
 "metadata": {
  "kernelspec": {
   "display_name": "Python 3 (ipykernel)",
   "language": "python",
   "name": "python3"
  },
  "language_info": {
   "codemirror_mode": {
    "name": "ipython",
    "version": 3
   },
   "file_extension": ".py",
   "mimetype": "text/x-python",
   "name": "python",
   "nbconvert_exporter": "python",
   "pygments_lexer": "ipython3",
   "version": "3.9.7"
  }
 },
 "nbformat": 4,
 "nbformat_minor": 5
}
