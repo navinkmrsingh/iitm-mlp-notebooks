{
 "cells": [
  {
   "cell_type": "code",
   "execution_count": 37,
   "metadata": {
    "_cell_guid": "b1076dfc-b9ad-4769-8c92-a6c4dae69d19",
    "_uuid": "8f2839f25d086af736a60e9eeb907d3b93b6e0e5",
    "execution": {
     "iopub.execute_input": "2022-07-30T08:40:20.028116Z",
     "iopub.status.busy": "2022-07-30T08:40:20.027677Z",
     "iopub.status.idle": "2022-07-30T08:40:20.038226Z",
     "shell.execute_reply": "2022-07-30T08:40:20.036289Z",
     "shell.execute_reply.started": "2022-07-30T08:40:20.028079Z"
    }
   },
   "outputs": [],
   "source": [
    "import numpy as np # linear algebra\n",
    "import pandas as pd # data processing, CSV file I/O (e.g. pd.read_csv)\n",
    "\n",
    "import seaborn as sns\n",
    "import matplotlib.pyplot as plt\n",
    "\n",
    "from itertools import permutations\n",
    "\n",
    "from sklearn.linear_model import RidgeClassifier, LogisticRegression, SGDClassifier\n",
    "from sklearn.neural_network import MLPClassifier\n",
    "from sklearn.svm import SVC\n",
    "from sklearn.ensemble import VotingClassifier, RandomForestClassifier\n",
    "from sklearn.pipeline import Pipeline\n",
    "from sklearn.preprocessing import StandardScaler, MinMaxScaler, PolynomialFeatures\n",
    "from sklearn.model_selection import train_test_split\n",
    "\n",
    "from sklearn.model_selection import RandomizedSearchCV, GridSearchCV\n",
    "from sklearn.decomposition import PCA\n",
    "\n",
    "from sklearn.metrics import classification_report\n",
    "from sklearn.metrics import ConfusionMatrixDisplay\n",
    "from sklearn.metrics import f1_score, roc_auc_score\n",
    "\n",
    "import warnings\n",
    "warnings.filterwarnings('ignore')"
   ]
  },
  {
   "cell_type": "code",
   "execution_count": 38,
   "metadata": {
    "execution": {
     "iopub.execute_input": "2022-07-30T08:40:20.232030Z",
     "iopub.status.busy": "2022-07-30T08:40:20.231087Z",
     "iopub.status.idle": "2022-07-30T08:40:20.258518Z",
     "shell.execute_reply": "2022-07-30T08:40:20.257688Z",
     "shell.execute_reply.started": "2022-07-30T08:40:20.231962Z"
    }
   },
   "outputs": [],
   "source": [
    "df_train = pd.read_csv('/kaggle/input/students-drop-out-prediction/train.csv')\n",
    "df_train.shape"
   ]
  },
  {
   "cell_type": "code",
   "execution_count": 39,
   "metadata": {
    "execution": {
     "iopub.execute_input": "2022-07-30T08:40:20.414754Z",
     "iopub.status.busy": "2022-07-30T08:40:20.414253Z",
     "iopub.status.idle": "2022-07-30T08:40:20.420155Z",
     "shell.execute_reply": "2022-07-30T08:40:20.418988Z",
     "shell.execute_reply.started": "2022-07-30T08:40:20.414704Z"
    }
   },
   "outputs": [],
   "source": [
    "# df_train.isnull().sum()"
   ]
  },
  {
   "cell_type": "code",
   "execution_count": 40,
   "metadata": {
    "execution": {
     "iopub.execute_input": "2022-07-30T08:40:20.718516Z",
     "iopub.status.busy": "2022-07-30T08:40:20.717557Z",
     "iopub.status.idle": "2022-07-30T08:40:20.733341Z",
     "shell.execute_reply": "2022-07-30T08:40:20.731977Z",
     "shell.execute_reply.started": "2022-07-30T08:40:20.718448Z"
    }
   },
   "outputs": [],
   "source": [
    "X, y = df_train.drop(axis=1, columns=['id', 'label']), df_train.label\n",
    "X_train, X_test, y_train, y_test = train_test_split(X, y, test_size=0.2, random_state=0)\n",
    "X_train.shape"
   ]
  },
  {
   "cell_type": "code",
   "execution_count": 41,
   "metadata": {
    "execution": {
     "iopub.execute_input": "2022-07-30T08:40:21.025494Z",
     "iopub.status.busy": "2022-07-30T08:40:21.024962Z",
     "iopub.status.idle": "2022-07-30T08:40:21.046289Z",
     "shell.execute_reply": "2022-07-30T08:40:21.045381Z",
     "shell.execute_reply.started": "2022-07-30T08:40:21.025444Z"
    }
   },
   "outputs": [],
   "source": [
    "estimators = [\n",
    "    ('logReg', LogisticRegression(C=1, class_weight=None, fit_intercept=True, penalty='l1', solver='saga')),    \n",
    "    ('svc', SVC(C=1, break_ties=False, decision_function_shape='ovr', degree=2, gamma='scale', kernel='poly', shrinking=True)),\n",
    "    ('ridge', RidgeClassifier(alpha=0.0001, class_weight=None, copy_X=True, fit_intercept=True, normalize=False, positive=False, solver='sag')),\n",
    "    ('ranFor', RandomForestClassifier(ccp_alpha=0.00043917435221783044, bootstrap=True, class_weight='balanced', criterion='entropy', max_features='log2', max_samples=0.3, min_samples_leaf=1, min_samples_split=4, n_estimators=100, oob_score=False, warm_start=False)),\n",
    "    ('nnMLP', MLPClassifier(activation='relu', alpha=0.01, hidden_layer_sizes=(30,20,10), learning_rate='adaptive', solver='adam', warm_start=True)),\n",
    "    ('sgdC', SGDClassifier(alpha=0.001,  class_weight=None,  eta0=1e-06,  fit_intercept=True,  l1_ratio=0,  learning_rate='optimal',  loss='log',  penalty=None,  shuffle=True,  warm_start=True)),\n",
    "]\n",
    "\n",
    "weights = list(permutations(range(1, len(estimators)+1)))\n",
    "weights.append(None)\n",
    "# print(l)\n",
    "# weights = [\n",
    "#     None,\n",
    "#     [2, 3, 1, 4],    \n",
    "#     [1, 2, 3, 4]\n",
    "# ]\n",
    "\n",
    "\n",
    "pipe = Pipeline([\n",
    "    ('pca', PCA()),\n",
    "    ('scale', MinMaxScaler()),           \n",
    "    ('classifier', VotingClassifier(estimators=estimators)),    \n",
    "])\n",
    "\n",
    "params = {\n",
    "    'pca__n_components': [41], \n",
    "    'classifier__voting': ['hard',],    \n",
    "    'classifier__weights': weights,    \n",
    "}\n",
    "\n",
    "({'classifier__voting': 'hard',\n",
    "  'classifier__weights': (3, 4, 1, 2),\n",
    "  'pca__n_components': 41},\n",
    " 0.7378116058267579)"
   ]
  },
  {
   "cell_type": "code",
   "execution_count": null,
   "metadata": {
    "execution": {
     "iopub.execute_input": "2022-07-30T08:40:21.281962Z",
     "iopub.status.busy": "2022-07-30T08:40:21.281482Z"
    }
   },
   "outputs": [],
   "source": [
    "%%time\n",
    "clf = GridSearchCV(pipe, params, cv=5, scoring='f1_micro', verbose=10, refit=True)\n",
    "search = clf.fit(X_train, y_train)\n",
    "search.best_params_, search.best_score_"
   ]
  },
  {
   "cell_type": "code",
   "execution_count": null,
   "metadata": {},
   "outputs": [],
   "source": [
    "# clf.cv_results_"
   ]
  },
  {
   "cell_type": "code",
   "execution_count": null,
   "metadata": {},
   "outputs": [],
   "source": [
    "# pipe.fit(X_train, y_train)\n",
    "# pipe.score(X_train, y_train)\n",
    "\n",
    "y_train_pred = clf.predict(X_train)\n",
    "ConfusionMatrixDisplay.from_predictions(y_train, y_train_pred)"
   ]
  },
  {
   "cell_type": "code",
   "execution_count": null,
   "metadata": {},
   "outputs": [],
   "source": [
    "print(classification_report(y_train, y_train_pred))"
   ]
  },
  {
   "cell_type": "code",
   "execution_count": null,
   "metadata": {},
   "outputs": [],
   "source": [
    "y_train.value_counts()"
   ]
  },
  {
   "cell_type": "code",
   "execution_count": null,
   "metadata": {},
   "outputs": [],
   "source": [
    "f1_score(y_train, y_train_pred, average='micro')"
   ]
  },
  {
   "cell_type": "markdown",
   "metadata": {},
   "source": [
    "# Test F1-score"
   ]
  },
  {
   "cell_type": "code",
   "execution_count": null,
   "metadata": {},
   "outputs": [],
   "source": [
    "y_test_pred = clf.predict(X_test)\n",
    "f1_score(y_test, y_test_pred, average='micro')"
   ]
  },
  {
   "cell_type": "markdown",
   "metadata": {},
   "source": [
    "# Output"
   ]
  },
  {
   "cell_type": "code",
   "execution_count": null,
   "metadata": {},
   "outputs": [],
   "source": [
    "df_test_final = pd.read_csv('/kaggle/input/students-drop-out-prediction/test.csv')\n",
    "ids_test_final = df_test_final.id  # row id of final test cases\n",
    "X_test_final =  df_test_final.drop(axis=1, columns=['id'])\n",
    "y_test_pred = clf.predict(X_test_final) \n",
    "# y_test_pred\n",
    "submission_df = pd.DataFrame(list(zip(ids_test_final, y_test_pred)), columns =['id', 'label'])\n",
    "submission_df.to_csv('output.csv', index=False)"
   ]
  }
 ],
 "metadata": {
  "kernelspec": {
   "display_name": "Python 3",
   "language": "python",
   "name": "python3"
  },
  "language_info": {
   "codemirror_mode": {
    "name": "ipython",
    "version": 3
   },
   "file_extension": ".py",
   "mimetype": "text/x-python",
   "name": "python",
   "nbconvert_exporter": "python",
   "pygments_lexer": "ipython3",
   "version": "3.7.12"
  }
 },
 "nbformat": 4,
 "nbformat_minor": 4
}
